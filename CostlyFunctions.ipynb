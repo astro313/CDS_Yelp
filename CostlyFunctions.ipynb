{
 "cells": [
  {
   "cell_type": "code",
   "execution_count": 2,
   "metadata": {
    "collapsed": true
   },
   "outputs": [],
   "source": [
    "import findspark  # this needs to be the first import                                                                        \n",
    "findspark.init()\n",
    "\n",
    "# jupyter notebook &\n",
    "\n",
    "from pyspark.sql import DataFrame\n",
    "from pyspark.sql import *\n",
    "from pyspark.sql.functions import *\n",
    "from pyspark.sql.types import *\n",
    "\n",
    "import numpy as np\n",
    "import pandas as pd\n",
    "# import scipy as sc\n",
    "\n",
    "from IPython.display import display\n",
    "# pip install graphlab-create\n",
    "import graphlab as gl\n",
    "import json\n",
    "\n",
    "gl.canvas.set_target('ipynb')"
   ]
  },
  {
   "cell_type": "code",
   "execution_count": 3,
   "metadata": {
    "collapsed": false
   },
   "outputs": [
    {
     "data": {
      "text/html": [
       "\n",
       "        <div>\n",
       "            <p><b>SparkContext</b></p>\n",
       "\n",
       "            <p><a href=\"http://10.144.40.21:4040\">Spark UI</a></p>\n",
       "\n",
       "            <dl>\n",
       "              <dt>Version</dt>\n",
       "                <dd><code>v2.2.0</code></dd>\n",
       "              <dt>Master</dt>\n",
       "                <dd><code>yarn</code></dd>\n",
       "              <dt>AppName</dt>\n",
       "                <dd><code>PySparkShell</code></dd>\n",
       "            </dl>\n",
       "        </div>\n",
       "        "
      ],
      "text/plain": [
       "<SparkContext master=yarn appName=PySparkShell>"
      ]
     },
     "execution_count": 3,
     "metadata": {},
     "output_type": "execute_result"
    }
   ],
   "source": [
    "sc "
   ]
  },
  {
   "cell_type": "code",
   "execution_count": 4,
   "metadata": {
    "collapsed": true
   },
   "outputs": [],
   "source": [
    "from pyspark import SparkContext\n",
    "from pyspark.sql.session import SparkSession\n",
    "try:\n",
    "    sc = SparkContext()     \n",
    "except:\n",
    "    pass\n",
    "# spark = SparkSession(sc)"
   ]
  },
  {
   "cell_type": "code",
   "execution_count": 5,
   "metadata": {
    "collapsed": false
   },
   "outputs": [
    {
     "data": {
      "text/html": [
       "\n",
       "        <div>\n",
       "            <p><b>SparkContext</b></p>\n",
       "\n",
       "            <p><a href=\"http://10.144.40.21:4040\">Spark UI</a></p>\n",
       "\n",
       "            <dl>\n",
       "              <dt>Version</dt>\n",
       "                <dd><code>v2.2.0</code></dd>\n",
       "              <dt>Master</dt>\n",
       "                <dd><code>yarn</code></dd>\n",
       "              <dt>AppName</dt>\n",
       "                <dd><code>PySparkShell</code></dd>\n",
       "            </dl>\n",
       "        </div>\n",
       "        "
      ],
      "text/plain": [
       "<SparkContext master=yarn appName=PySparkShell>"
      ]
     },
     "execution_count": 5,
     "metadata": {},
     "output_type": "execute_result"
    }
   ],
   "source": [
    "sc"
   ]
  },
  {
   "cell_type": "code",
   "execution_count": 6,
   "metadata": {
    "collapsed": false
   },
   "outputs": [],
   "source": [
    "# del spark\n",
    "# spark = SparkSession \\\n",
    "#         .builder \\\n",
    "#         .master(\"yarn\") \\\n",
    "#         .appName(\"testing\") \\\n",
    "#         .config(\"spark.executor.instances\", \"4\") \\\n",
    "#         .config(\"spark.executor.memory\",\"2g\") \\\n",
    "#         .config(\"spark.driver.memory\",\"4g\") \\\n",
    "#         .config(\"spark.executor.cores\",'1') \\\n",
    "#         .config(\"spark.scheduler.mode\",\"FIFO\") \\\n",
    "#        .getOrCreate()"
   ]
  },
  {
   "cell_type": "code",
   "execution_count": 7,
   "metadata": {
    "collapsed": false
   },
   "outputs": [
    {
     "data": {
      "text/html": [
       "\n",
       "            <div>\n",
       "                <p><b>SparkSession - hive</b></p>\n",
       "                \n",
       "        <div>\n",
       "            <p><b>SparkContext</b></p>\n",
       "\n",
       "            <p><a href=\"http://10.144.40.21:4040\">Spark UI</a></p>\n",
       "\n",
       "            <dl>\n",
       "              <dt>Version</dt>\n",
       "                <dd><code>v2.2.0</code></dd>\n",
       "              <dt>Master</dt>\n",
       "                <dd><code>yarn</code></dd>\n",
       "              <dt>AppName</dt>\n",
       "                <dd><code>PySparkShell</code></dd>\n",
       "            </dl>\n",
       "        </div>\n",
       "        \n",
       "            </div>\n",
       "        "
      ],
      "text/plain": [
       "<pyspark.sql.session.SparkSession at 0x1052c51d0>"
      ]
     },
     "execution_count": 7,
     "metadata": {},
     "output_type": "execute_result"
    }
   ],
   "source": [
    "spark"
   ]
  },
  {
   "cell_type": "code",
   "execution_count": 8,
   "metadata": {
    "collapsed": true
   },
   "outputs": [],
   "source": [
    "# Actually, why should I partition?\n",
    "dat = spark.read.json('hdfs://localhost:9000/yelp/checkin.json').repartition(150)"
   ]
  },
  {
   "cell_type": "code",
   "execution_count": 9,
   "metadata": {
    "collapsed": false
   },
   "outputs": [
    {
     "name": "stdout",
     "output_type": "stream",
     "text": [
      "CPU times: user 5.3 ms, sys: 2.28 ms, total: 7.59 ms\n",
      "Wall time: 25.7 s\n"
     ]
    },
    {
     "data": {
      "text/plain": [
       "120782"
      ]
     },
     "execution_count": 9,
     "metadata": {},
     "output_type": "execute_result"
    }
   ],
   "source": [
    "%%time\n",
    "# count num of unique rows in a column\n",
    "dat.select(col(\"time\")).distinct().count()"
   ]
  },
  {
   "cell_type": "code",
   "execution_count": 10,
   "metadata": {
    "collapsed": false
   },
   "outputs": [
    {
     "name": "stdout",
     "output_type": "stream",
     "text": [
      "CPU times: user 4.49 ms, sys: 1.92 ms, total: 6.41 ms\n",
      "Wall time: 17.5 s\n"
     ]
    },
    {
     "data": {
      "text/plain": [
       "120782"
      ]
     },
     "execution_count": 10,
     "metadata": {},
     "output_type": "execute_result"
    }
   ],
   "source": [
    "%%time\n",
    "# count num of unique rows in a column\n",
    "dat.select(col(\"time\")).distinct().count()"
   ]
  },
  {
   "cell_type": "code",
   "execution_count": 11,
   "metadata": {
    "collapsed": true
   },
   "outputs": [],
   "source": [
    "bus = spark.read.json('hdfs://localhost:9000/yelp/business.json').repartition(150)\n",
    "# bus.printSchema()\n",
    "\n",
    "# phot = spark.read.json('hdfs://localhost:9000/yelp/photos.json').repartition(150)\n",
    "# phot.printScheme()\n",
    "\n",
    "review= spark.read.json('hdfs://localhost:9000/yelp/review.json').repartition(150)\n",
    "# phot.printScheme()"
   ]
  },
  {
   "cell_type": "code",
   "execution_count": 12,
   "metadata": {
    "collapsed": true
   },
   "outputs": [],
   "source": [
    "import time"
   ]
  },
  {
   "cell_type": "code",
   "execution_count": 13,
   "metadata": {
    "collapsed": true
   },
   "outputs": [],
   "source": [
    "_yyy = review.join(bus, review.business_id == bus.business_id, 'inner').drop(bus.business_id).drop(bus.stars)\n",
    "# join based on user and business keys\n",
    "# other objects get garbage collected\n",
    "\n",
    "# _yyy.select(\"stars\")\n",
    "review_business = _yyy.withColumnRenamed(\"stars\", \"business_avg_stars\").withColumnRenamed(\"attributes\", \"business_type\").withColumnRenamed(\\\n",
    "                                         \"review_count\", \"business_review_count\")"
   ]
  },
  {
   "cell_type": "code",
   "execution_count": 14,
   "metadata": {
    "collapsed": false
   },
   "outputs": [
    {
     "data": {
      "text/plain": [
       "64"
      ]
     },
     "execution_count": 14,
     "metadata": {},
     "output_type": "execute_result"
    }
   ],
   "source": [
    "from sys import getsizeof\n",
    "getsizeof(review_business)"
   ]
  },
  {
   "cell_type": "code",
   "execution_count": 13,
   "metadata": {
    "collapsed": false
   },
   "outputs": [
    {
     "data": {
      "text/plain": [
       "['business_id',\n",
       " 'cool',\n",
       " 'date',\n",
       " 'funny',\n",
       " 'review_id',\n",
       " 'business_avg_stars',\n",
       " 'text',\n",
       " 'useful',\n",
       " 'user_id',\n",
       " 'address',\n",
       " 'business_type',\n",
       " 'categories',\n",
       " 'city',\n",
       " 'hours',\n",
       " 'is_open',\n",
       " 'latitude',\n",
       " 'longitude',\n",
       " 'name',\n",
       " 'neighborhood',\n",
       " 'postal_code',\n",
       " 'business_review_count',\n",
       " 'state']"
      ]
     },
     "execution_count": 13,
     "metadata": {},
     "output_type": "execute_result"
    }
   ],
   "source": [
    "review_business.columns"
   ]
  },
  {
   "cell_type": "code",
   "execution_count": 14,
   "metadata": {
    "collapsed": false
   },
   "outputs": [
    {
     "data": {
      "text/plain": [
       "[Row(business_id=u'qj4KHXGgwyutHpvWRLI87g', business_review_count=5, count=1),\n",
       " Row(business_id=u'iK6JSngIDcToad8SBl04Fg', business_review_count=35, count=1),\n",
       " Row(business_id=u'ZS55tkaRnPR-QSi2i_871w', business_review_count=3, count=2),\n",
       " Row(business_id=u'HHgHEtXyIO228Sybr6vdIg', business_review_count=3, count=2),\n",
       " Row(business_id=u'akGAR7Kasfr0AuBBOWYV3g', business_review_count=3, count=2),\n",
       " Row(business_id=u'roxnZ0kodKkj5iR72UlQSw', business_review_count=3, count=2),\n",
       " Row(business_id=u'-RYgx5kQ91vsQQ7RNJ1DQQ', business_review_count=3, count=2),\n",
       " Row(business_id=u'h5csTpDRI7_oo1RUOeHOtQ', business_review_count=3, count=2),\n",
       " Row(business_id=u'Fs8u8swdxFOmZAZN2Djmag', business_review_count=3, count=2),\n",
       " Row(business_id=u'POcKs2JOkWdq0mm_vtIehw', business_review_count=3, count=2),\n",
       " Row(business_id=u'FRqzMYKxASVDhn0W2limWg', business_review_count=3, count=2),\n",
       " Row(business_id=u'JoZjCxjbS-01rjBz3KR8Nw', business_review_count=3, count=2),\n",
       " Row(business_id=u'5a3ZWk3F9JgSPp97McF76Q', business_review_count=3, count=2),\n",
       " Row(business_id=u'UXJKNmBuo2_0egYuN8KxJg', business_review_count=3, count=2),\n",
       " Row(business_id=u'8gbJ_oKfKzR_GOOFIHIHFQ', business_review_count=3, count=2),\n",
       " Row(business_id=u'1J3eSZk7SoXef_cbJJ5jHQ', business_review_count=3, count=2),\n",
       " Row(business_id=u'6WfesHZWlPY5c6RCadYGsg', business_review_count=3, count=2),\n",
       " Row(business_id=u'uPOCtXFMpkCjllwAscQBDg', business_review_count=3, count=2),\n",
       " Row(business_id=u'ja1Svo3pX0Z_flliTrukHg', business_review_count=3, count=2),\n",
       " Row(business_id=u'Ar7lMMYZIo1ND3AUzhW-Gw', business_review_count=3, count=2),\n",
       " Row(business_id=u'Egu3Q_gHX2NmfGMi5voS8A', business_review_count=3, count=2),\n",
       " Row(business_id=u'9FSnPeIIKpIxe7EUkd8JnA', business_review_count=3, count=2),\n",
       " Row(business_id=u'pmyHFrPvE2sPsbPFd4ckyQ', business_review_count=3, count=2),\n",
       " Row(business_id=u'o5cjHbxPMcfqauzklOyPQw', business_review_count=3, count=2),\n",
       " Row(business_id=u'dAsnC9InN3ql_niiA6s8Tw', business_review_count=27, count=2),\n",
       " Row(business_id=u'eMlRICB4vFotYzHVgeNjWw', business_review_count=3, count=2),\n",
       " Row(business_id=u'bmM39KLhkHfrm1FHTCCZkg', business_review_count=3, count=2),\n",
       " Row(business_id=u'RtlEHMt-96EROQ3du7B8dA', business_review_count=3, count=2),\n",
       " Row(business_id=u'cPDWvaxauKlokoV7MEVHxQ', business_review_count=3, count=2),\n",
       " Row(business_id=u'KGoK1lpKmkTV6uMK2hrzfQ', business_review_count=3, count=2),\n",
       " Row(business_id=u'Gdbx1UW2Qr53yOanW0O5og', business_review_count=3, count=2),\n",
       " Row(business_id=u'A3H749M1AEggNylDQ5Fr-A', business_review_count=3, count=2),\n",
       " Row(business_id=u'mhjSXQR9LvL10SSHH6aHIg', business_review_count=3, count=2),\n",
       " Row(business_id=u'_iTsyRdHmwDKT2pQLW3LaA', business_review_count=3, count=2),\n",
       " Row(business_id=u'mb6e5-4s6YIaQAlbPHuWyQ', business_review_count=3, count=2),\n",
       " Row(business_id=u'1z_l90NydQFJp9s5eYWkTw', business_review_count=3, count=2),\n",
       " Row(business_id=u'OpoA5j5ohq8UqXpsyAXxpw', business_review_count=3, count=2),\n",
       " Row(business_id=u'sih1hTxuGP0vtTD3tciKKg', business_review_count=3, count=2),\n",
       " Row(business_id=u'BiQGSKfQJgmjx-HSgeO2Mg', business_review_count=3, count=2),\n",
       " Row(business_id=u'SpJYus_184M2TdT7t52rIA', business_review_count=3, count=2),\n",
       " Row(business_id=u'xqWx-D0sT5cevkULWJy6xA', business_review_count=3, count=2),\n",
       " Row(business_id=u'Qb3699Z3jChkSmNhY9oqxg', business_review_count=3, count=2),\n",
       " Row(business_id=u'YHX61tYzUKlz9H4gdROlDA', business_review_count=3, count=2),\n",
       " Row(business_id=u'IW1j1wqAdiBcj6fWGkyQCA', business_review_count=3, count=2),\n",
       " Row(business_id=u'bXRL6S6K0Az26WmUDrrtag', business_review_count=3, count=3),\n",
       " Row(business_id=u'ZL7cCw9y8wvNE74HxXFaHA', business_review_count=3, count=3),\n",
       " Row(business_id=u'iholtF6dTrh-5bo4JYp-dw', business_review_count=3, count=3),\n",
       " Row(business_id=u'8LTuK56nr0gMEKdkIVLNlg', business_review_count=3, count=3),\n",
       " Row(business_id=u'N_1aKgseCRqjBRwIgNOjQw', business_review_count=3, count=3),\n",
       " Row(business_id=u'D6XPm4-PZvAJS7naL63T1w', business_review_count=3, count=3),\n",
       " Row(business_id=u'JVGL16MxOQ_-xAPl5lK27w', business_review_count=3, count=3),\n",
       " Row(business_id=u'8GcRiV3Eev48SINIeW6T1A', business_review_count=3, count=3),\n",
       " Row(business_id=u'WELZBU4tpR0U4bdaX1IQww', business_review_count=3, count=3),\n",
       " Row(business_id=u'AupiOdUVoCmhZCWMkl35Rw', business_review_count=3, count=3),\n",
       " Row(business_id=u'hki2ANG01mtefIb4rQm9UA', business_review_count=3, count=3),\n",
       " Row(business_id=u'nyGtbMhAu5DOScaokOFN9Q', business_review_count=3, count=3),\n",
       " Row(business_id=u'W0E-Y3MuJGUTvYSxpI7prw', business_review_count=3, count=3),\n",
       " Row(business_id=u'sDfN5qJlmvrwTfwEPBsxSg', business_review_count=3, count=3),\n",
       " Row(business_id=u'IqAQjPSdGVKeQzNeme-rNw', business_review_count=3, count=3),\n",
       " Row(business_id=u't6gcvcDrBbV8E-GEyrVq8w', business_review_count=3, count=3),\n",
       " Row(business_id=u'qsxS95-LT2YIoUZv5coMPw', business_review_count=3, count=3),\n",
       " Row(business_id=u'mHmBcdtTAeG_IWlmPo-_DA', business_review_count=3, count=3),\n",
       " Row(business_id=u'_Z2Jn9tveFET16LBhEONNg', business_review_count=3, count=3),\n",
       " Row(business_id=u'55vuAN7sjg9QknIGB21FGA', business_review_count=3, count=3),\n",
       " Row(business_id=u'9Z-oB9iAuKinWkC2UDLxaw', business_review_count=3, count=3),\n",
       " Row(business_id=u'zmHhdp63byWzUYdwr5exhA', business_review_count=3, count=3),\n",
       " Row(business_id=u'xf_IquTDxaSMLKzhyw2LxA', business_review_count=3, count=3),\n",
       " Row(business_id=u'4jsNKfrbgssqKObCzj05hw', business_review_count=3, count=3),\n",
       " Row(business_id=u'aZwzSH4oU27U68C1T1saog', business_review_count=3, count=3),\n",
       " Row(business_id=u'T0P3gylLDpQsVP3gPjVt6Q', business_review_count=3, count=3),\n",
       " Row(business_id=u'NXwzIV-xPRqcu1Bq8d9nfw', business_review_count=3, count=3),\n",
       " Row(business_id=u'fKRPYW0EWHtzMnxd6KmHmw', business_review_count=3, count=3),\n",
       " Row(business_id=u'Q628BgV-03FU1Z0i8nhcvw', business_review_count=3, count=3),\n",
       " Row(business_id=u'8PBpze5Y-hFwEQpOXQd33Q', business_review_count=3, count=3),\n",
       " Row(business_id=u'8jPNYvloDMDhOgGAkAWLyw', business_review_count=3, count=3),\n",
       " Row(business_id=u'myA-N-NZhijBGJklebzBxQ', business_review_count=3, count=3),\n",
       " Row(business_id=u'9lV7N-PBqgnMebmzr7lSxA', business_review_count=3, count=3),\n",
       " Row(business_id=u'MdFUo7ykWUbUdvb3C-N-3Q', business_review_count=3, count=3),\n",
       " Row(business_id=u'VI_8Wsx9ox4KeIrERgQyrA', business_review_count=3, count=3),\n",
       " Row(business_id=u'9ORi_9JLQnDfPVExs-463A', business_review_count=3, count=3),\n",
       " Row(business_id=u'vBSr3brDpqF6Epe8YK4Hwg', business_review_count=3, count=3),\n",
       " Row(business_id=u'ZSHVccYO2pIYpysZZLapaw', business_review_count=3, count=3),\n",
       " Row(business_id=u'b3TJKR_V1wHK6Kd82FT0aQ', business_review_count=3, count=3),\n",
       " Row(business_id=u'essqsGKs1phOxsLJcHO5-A', business_review_count=3, count=3),\n",
       " Row(business_id=u'-k85WHzSOvCY3o8xdamm0Q', business_review_count=3, count=3),\n",
       " Row(business_id=u'DgOXx-pY5Be_vCvKKXIICg', business_review_count=3, count=3),\n",
       " Row(business_id=u'flEWXAdRcXAYJYc136N-VA', business_review_count=3, count=3),\n",
       " Row(business_id=u'GJkYG7ploRUoVly-3r0Euw', business_review_count=3, count=3),\n",
       " Row(business_id=u'ix3JSYgWCz7UHILQSyifbA', business_review_count=3, count=3),\n",
       " Row(business_id=u'YUxp_du_s8VX_uJxUEypHQ', business_review_count=3, count=3),\n",
       " Row(business_id=u'FvAKSZkFO3YL_pWoPyGJEA', business_review_count=3, count=3),\n",
       " Row(business_id=u'q5er2-E7am_iul5VCecwiA', business_review_count=3, count=3),\n",
       " Row(business_id=u'GgTP3CXEAqBXOzGG9Lj2pQ', business_review_count=3, count=3),\n",
       " Row(business_id=u'oge3Y1YU0pssXZqI3z-HKw', business_review_count=3, count=3),\n",
       " Row(business_id=u'IXTsBHdVTKA52cZx2cVFvA', business_review_count=3, count=3),\n",
       " Row(business_id=u'9OFgqYlMYLZvdN9-9Uvh9w', business_review_count=3, count=3),\n",
       " Row(business_id=u'EdzXOtgk-XKiNgfFrfCYLg', business_review_count=3, count=3),\n",
       " Row(business_id=u'3rSWqiOGVIpz76nk5QjzAw', business_review_count=3, count=3),\n",
       " Row(business_id=u'TRWvsyHCjLYmkhgxYtlBaw', business_review_count=3, count=3),\n",
       " Row(business_id=u'Prm250O3rlsSXd8wYY02uA', business_review_count=3, count=3),\n",
       " Row(business_id=u'6K2FDWuKhZa8mMvAkcFsMQ', business_review_count=3, count=3),\n",
       " Row(business_id=u'Y43BuJVg1f7qnfzdBL_-3g', business_review_count=3, count=3),\n",
       " Row(business_id=u'IVXEZWdoOrexN2_gItu8tQ', business_review_count=3, count=3),\n",
       " Row(business_id=u'WMNa8W8BFVI26xQ8agR5oA', business_review_count=3, count=3),\n",
       " Row(business_id=u'-V3wr3C29UA-_wowT92lFw', business_review_count=3, count=3),\n",
       " Row(business_id=u'SwAEiDNLF58Bd8HHXTYTLA', business_review_count=3, count=3),\n",
       " Row(business_id=u'ZMv12PhGM7jQFDCFEjP7WA', business_review_count=3, count=3),\n",
       " Row(business_id=u'tKGtrKmFDOOATZE7gWNUnw', business_review_count=3, count=3),\n",
       " Row(business_id=u'2-4X0eFV58awMeCwKHimLQ', business_review_count=3, count=3),\n",
       " Row(business_id=u'w8xG94UdaIrTsslgNxTnhg', business_review_count=3, count=3),\n",
       " Row(business_id=u'hlbrSZekuHEcNv1YcKS8kg', business_review_count=3, count=3),\n",
       " Row(business_id=u'PjWSDjJKFggNz9suq2Y4jQ', business_review_count=3, count=3),\n",
       " Row(business_id=u'uobAxGKdvoIKLYlOl09Tqg', business_review_count=3, count=3),\n",
       " Row(business_id=u'W6sPM9SCCbSVf1HA1oOPWQ', business_review_count=3, count=3),\n",
       " Row(business_id=u'qywL9yAKfXaeHYj8amJiAQ', business_review_count=3, count=3),\n",
       " Row(business_id=u'Chs4Y_1cgdMMzLxX2mqSwA', business_review_count=3, count=3),\n",
       " Row(business_id=u'8-xXUSO2DlqpZHZOPKphdQ', business_review_count=3, count=3),\n",
       " Row(business_id=u'1g2-KzhlGcJbKZBElnwESQ', business_review_count=3, count=3),\n",
       " Row(business_id=u'7JzJuluxoFZ5vuTY71cbbQ', business_review_count=3, count=3),\n",
       " Row(business_id=u'3hfDrgklIwVk6Ad9F_Sksw', business_review_count=3, count=3),\n",
       " Row(business_id=u'VKN9XWN0KFz5P8YMzC1DKA', business_review_count=3, count=3),\n",
       " Row(business_id=u'RI3tqwrTGD0mBFt9Ih_mNg', business_review_count=3, count=3),\n",
       " Row(business_id=u'nuzutRAVMOkxgwkI73Pvbg', business_review_count=3, count=3),\n",
       " Row(business_id=u'K-fuAM68IWWLt228iNV9gg', business_review_count=3, count=3),\n",
       " Row(business_id=u'TNqFhOFq6lm8ak2gpBxugQ', business_review_count=3, count=3),\n",
       " Row(business_id=u'sUXGwcI_tHqI0cwbRxB4cA', business_review_count=3, count=3),\n",
       " Row(business_id=u'qDVMURZDww_QMRfk0fCLMw', business_review_count=3, count=3),\n",
       " Row(business_id=u'JDm9c_Gkm-N01H9K2PdgMw', business_review_count=3, count=3),\n",
       " Row(business_id=u'fdTs3nAkVJkcKS4RQlt8iQ', business_review_count=3, count=3),\n",
       " Row(business_id=u'F9TNnusXlw-CwQU1iAIuPA', business_review_count=3, count=3),\n",
       " Row(business_id=u'R7Qf7l2_sFohGi51a5F79A', business_review_count=3, count=3),\n",
       " Row(business_id=u'xPrXjYDFpCW3okSPAoc1-g', business_review_count=3, count=3),\n",
       " Row(business_id=u'ZkNezMDl_hyK7egePNrxyA', business_review_count=3, count=3),\n",
       " Row(business_id=u'1_KKsj0yzAhxEQk-cBWv9A', business_review_count=3, count=3),\n",
       " Row(business_id=u'MR70xCxQodD92SJnWfG4uw', business_review_count=3, count=3),\n",
       " Row(business_id=u'uBNa7bGlgglxSy-HLaN_Dw', business_review_count=3, count=3),\n",
       " Row(business_id=u'AAqJm_XIRzvQanp-u2tr0w', business_review_count=3, count=3),\n",
       " Row(business_id=u'ksXNfT1PixBJ8Y8nJ9jkJA', business_review_count=3, count=3),\n",
       " Row(business_id=u'0DapwcHS0YWNeHKptURSCA', business_review_count=3, count=3),\n",
       " Row(business_id=u'AmTZX20RMwJnVBQqK-LMvQ', business_review_count=3, count=3),\n",
       " Row(business_id=u'0N22PPxNdJRaT9fEZQ3Kdg', business_review_count=3, count=3),\n",
       " Row(business_id=u'VZiim1zBFDl3oWHcrAVrNA', business_review_count=3, count=3),\n",
       " Row(business_id=u'xGJg3O12KaPHxdBjp5Qr3g', business_review_count=3, count=3),\n",
       " Row(business_id=u'IAd8pDYKE6PJulYz5oAuWw', business_review_count=3, count=3),\n",
       " Row(business_id=u'5PGwo7RuTWfn-66G1JNE6g', business_review_count=3, count=3),\n",
       " Row(business_id=u'b1PMRkpODtscHeCmlltwgA', business_review_count=3, count=3),\n",
       " Row(business_id=u'0HYK5DlkiugD1jxiNw3rCw', business_review_count=3, count=3),\n",
       " Row(business_id=u'UVVrKAkwLePuZ1tuuTE7bQ', business_review_count=3, count=3),\n",
       " Row(business_id=u'gxQo3f0F5Bq8G2Pj9Sw0aw', business_review_count=3, count=3),\n",
       " Row(business_id=u'pOP4-a9Nf_UtwXfUqIiWng', business_review_count=3, count=3),\n",
       " Row(business_id=u'y8Kfj7OsR1whsgbrmcRUjw', business_review_count=3, count=3),\n",
       " Row(business_id=u'Lqdqf1LFRoxKLqemQIIHzg', business_review_count=3, count=3),\n",
       " Row(business_id=u'wfPignpFhvJjdrLgPWkd9Q', business_review_count=3, count=3),\n",
       " Row(business_id=u'5BIikD_FpW-k8QJsxeQhZA', business_review_count=3, count=3),\n",
       " Row(business_id=u'6PDr9m7ANsm2NNLcyJGaMg', business_review_count=3, count=3),\n",
       " Row(business_id=u'MSPxscoI0criVI1EhBmf5A', business_review_count=3, count=3),\n",
       " Row(business_id=u'T7EW2Z5Dre29RB82xE6yeg', business_review_count=3, count=3),\n",
       " Row(business_id=u'-6kNwcnLbsyKGIjFlxMD2g', business_review_count=3, count=3),\n",
       " Row(business_id=u'CWfuS5OFOLBBCw48xfdyDw', business_review_count=3, count=3),\n",
       " Row(business_id=u'wpnDGECbUgyfAmR1bNVdUQ', business_review_count=3, count=3),\n",
       " Row(business_id=u'80zO6vFXIvhp4WDprnzBug', business_review_count=3, count=3),\n",
       " Row(business_id=u'llPPP2RDeoTL3-aB2f3P3Q', business_review_count=3, count=3),\n",
       " Row(business_id=u'wJtVC0oGIGMP_vNhPMv5vg', business_review_count=3, count=3),\n",
       " Row(business_id=u'mOgZ0U8hO_ot7mGRd6BFyg', business_review_count=3, count=3),\n",
       " Row(business_id=u'thB9W0l0He6w1TCl3cZkzA', business_review_count=3, count=3),\n",
       " Row(business_id=u'kytlCoKsMHZu0Ndze7fx2A', business_review_count=3, count=3),\n",
       " Row(business_id=u'hX-J2rpHHJKUtIv-J7r3TA', business_review_count=3, count=3),\n",
       " Row(business_id=u'60zlT-r6fOWJV2tHKkxCdw', business_review_count=3, count=3),\n",
       " Row(business_id=u'iGwJaUzuMNrdnTOBnqtmLA', business_review_count=3, count=3),\n",
       " Row(business_id=u'agrC_R_CnEyyAgoIzNZeFg', business_review_count=3, count=3),\n",
       " Row(business_id=u'CriJ8iziPw69coZbBdU5yg', business_review_count=3, count=3),\n",
       " Row(business_id=u'n0qwG-hETdp2YoyFm5e9ZA', business_review_count=3, count=3),\n",
       " Row(business_id=u'jIg5fGd5uj1QR6YLunfYFA', business_review_count=3, count=3),\n",
       " Row(business_id=u'0XMOCF8omuTYfhkNRz1xMw', business_review_count=3, count=3),\n",
       " Row(business_id=u'wDIwDS20xQBID_dQup5zDA', business_review_count=3, count=3),\n",
       " Row(business_id=u'9-HjDIl4VRmTP23g0elUEw', business_review_count=3, count=3),\n",
       " Row(business_id=u'7qSKib3m1hlKtDFwb_BbWA', business_review_count=3, count=3),\n",
       " Row(business_id=u'cKUvPw_moKCuM6V9HBs7GQ', business_review_count=3, count=3),\n",
       " Row(business_id=u'HxNLFka8qjAne2gZQXMPiw', business_review_count=3, count=3),\n",
       " Row(business_id=u'V_DSqtxjjrLulxswE5Aj3g', business_review_count=3, count=3),\n",
       " Row(business_id=u'01ATXv8qMOdk-v7o1YCFrQ', business_review_count=3, count=3),\n",
       " Row(business_id=u'GVDiXf00NUvqnF4YLY1muA', business_review_count=3, count=3),\n",
       " Row(business_id=u'dpMKTFB3qxYwo3Wbzy7Knw', business_review_count=3, count=3),\n",
       " Row(business_id=u'IbuIEaE4fcKesApjYmVbGQ', business_review_count=3, count=3),\n",
       " Row(business_id=u'D1rsFK0KBdu0pcbtXO8Iiw', business_review_count=3, count=3),\n",
       " Row(business_id=u'PfWICSDacktzZziho4ubYA', business_review_count=3, count=3),\n",
       " Row(business_id=u'yHdYGeVbM8XFdLRS9-LJzw', business_review_count=3, count=3),\n",
       " Row(business_id=u'ST0hjnNVHHwGohN2514HIw', business_review_count=3, count=3),\n",
       " Row(business_id=u'8lupa8sxtlO1adKzHXBj6Q', business_review_count=3, count=3),\n",
       " Row(business_id=u'Of30W-vfV7M0zHiowl6WLQ', business_review_count=3, count=3),\n",
       " Row(business_id=u'P_EuDe93CEHi4EqQAJU9Iw', business_review_count=3, count=3),\n",
       " Row(business_id=u'CfRtSNdbEHFf4QXE475hRA', business_review_count=3, count=3),\n",
       " Row(business_id=u'bpJlw7jZFNcXOqS0lcfNYQ', business_review_count=3, count=3),\n",
       " Row(business_id=u'bMKvBqiT2EIF0hEBc9wZbQ', business_review_count=3, count=3),\n",
       " Row(business_id=u'jXIS4xitto6UAEkna5jGuQ', business_review_count=3, count=3),\n",
       " Row(business_id=u'VAh3X1XRa3KqgcPxF-GN9A', business_review_count=3, count=3),\n",
       " Row(business_id=u'a2idVV8whw77XAgEAWq5ag', business_review_count=3, count=3),\n",
       " Row(business_id=u'AGnak6jDhPAwJF1_Suaoig', business_review_count=3, count=3),\n",
       " Row(business_id=u'ivKFC2HVZ9wzqkM2j6EI0w', business_review_count=3, count=3),\n",
       " Row(business_id=u'r7CBeWvlujzhJFRwZ6h3kg', business_review_count=3, count=3),\n",
       " Row(business_id=u'42jpss_f5YQrOfTNOiq7mA', business_review_count=3, count=3),\n",
       " Row(business_id=u'5QHpHCQkslRewZ9yPlfwTA', business_review_count=3, count=3),\n",
       " Row(business_id=u'GFrNQ6rTC2geR6vqLa-agw', business_review_count=3, count=3),\n",
       " Row(business_id=u'PEXTHHuZoawhFWtkiok8bA', business_review_count=3, count=3),\n",
       " Row(business_id=u'6FL5vak2NBm5_5I1hB3DqA', business_review_count=3, count=3),\n",
       " Row(business_id=u'41bFOgvQ1ca7YTaI7OtnCA', business_review_count=3, count=3),\n",
       " Row(business_id=u'TetRSApdg8YUcQ-WvDyU8g', business_review_count=3, count=3),\n",
       " Row(business_id=u'6w7HK7E01WUzXd4mqOLD7Q', business_review_count=3, count=3),\n",
       " Row(business_id=u'k0BDlOyf620xxQpejI40qg', business_review_count=3, count=3),\n",
       " Row(business_id=u's1OF63OPjzLYt-9Qo3IwMQ', business_review_count=3, count=3),\n",
       " Row(business_id=u'32wgVgbvTL0l0dcEExAdCg', business_review_count=4, count=3),\n",
       " Row(business_id=u'itlVpakTVzeVlvXXLumL6w', business_review_count=3, count=3),\n",
       " Row(business_id=u'fxZwiJ9n1mAA-Y_WdjD_HA', business_review_count=3, count=3),\n",
       " Row(business_id=u'wzkK4F47eBVEjXPXX3j5fw', business_review_count=3, count=3),\n",
       " Row(business_id=u'dZWH0hDcAh9YF-uhZQOf8A', business_review_count=3, count=3),\n",
       " Row(business_id=u'9q0f4vm589zztMgR4INpZg', business_review_count=3, count=3),\n",
       " Row(business_id=u'LBfFshlxd_MNSzkNHV2Buw', business_review_count=3, count=3),\n",
       " Row(business_id=u'aDSSDo6IFnogUnBQKL5-lw', business_review_count=3, count=3),\n",
       " Row(business_id=u'TdAcBDZrKlxT2yTns37d-Q', business_review_count=3, count=3),\n",
       " Row(business_id=u'eHEa4uekNys86PXAiQg5pw', business_review_count=3, count=3),\n",
       " Row(business_id=u'714Uc3w5ant5sUrLYXetfw', business_review_count=3, count=3),\n",
       " Row(business_id=u'VfCN3rPIFyvJPKia1TecGw', business_review_count=3, count=3),\n",
       " Row(business_id=u'pH_A3cmCtrQktp2uggqUvw', business_review_count=3, count=3),\n",
       " Row(business_id=u'TZ6kp9DtD3NCP4LQnofXug', business_review_count=3, count=3),\n",
       " Row(business_id=u'tiWVendjh7E_8s-oT5t2JA', business_review_count=3, count=3),\n",
       " Row(business_id=u'EzOJq5oHSFtqywkfjz2xdg', business_review_count=3, count=3),\n",
       " Row(business_id=u'ME-IPvAUQpsqevYS9qu8-A', business_review_count=3, count=3),\n",
       " Row(business_id=u'Z8UanCrQ-eGldgR8zOUxtQ', business_review_count=3, count=3),\n",
       " Row(business_id=u'V67b4_t8FTWn-7XHYqTItQ', business_review_count=3, count=3),\n",
       " Row(business_id=u'_yWwXyxirer0clZxYd4VZQ', business_review_count=3, count=3),\n",
       " Row(business_id=u'ce00GkdpzJbDLmoSavSnsQ', business_review_count=3, count=3),\n",
       " Row(business_id=u'1rgJ-WYCEWM-RIyQN6AteA', business_review_count=3, count=3),\n",
       " Row(business_id=u'_Y7vLLMoi6D5Gyk02AD9Ow', business_review_count=3, count=3),\n",
       " Row(business_id=u'qQvjD3ZdW2j83F5LLJav6Q', business_review_count=3, count=3),\n",
       " Row(business_id=u'CcRWjsitozphrvUlDrQwdQ', business_review_count=3, count=3),\n",
       " Row(business_id=u'47pnOJXjRpobOpr9YiLslQ', business_review_count=3, count=3),\n",
       " Row(business_id=u'cTTOHnYqvIkldOaNs6v91g', business_review_count=3, count=3),\n",
       " Row(business_id=u'RqB99_xI26vuCfER7MTYgQ', business_review_count=3, count=3),\n",
       " Row(business_id=u'wWpCpfDNMBhurXuNLEPyaQ', business_review_count=3, count=3),\n",
       " Row(business_id=u'a-1xCtrEkpiwOPuKKWosZQ', business_review_count=3, count=3),\n",
       " Row(business_id=u'nk8ZsVGX--es0LQ1EPKDTg', business_review_count=3, count=3),\n",
       " Row(business_id=u'6oJZgVqJ8g-GpqMhqogoYg', business_review_count=3, count=3),\n",
       " Row(business_id=u'F3WHx-DGv2yDUYtE2TE-fg', business_review_count=3, count=3),\n",
       " Row(business_id=u'taXsQzIeM2EUbQcw-mpYwA', business_review_count=3, count=3),\n",
       " Row(business_id=u'DvUdNJ4FXs3pxmlIk6C3ng', business_review_count=3, count=3),\n",
       " Row(business_id=u'oeEUvfY62Q70f-PAZgMa_g', business_review_count=3, count=3),\n",
       " Row(business_id=u'Yrrn25CEOiUrXWtsFh4bFA', business_review_count=3, count=3),\n",
       " Row(business_id=u'2yi6QBxLDgfqrg1Jr4Syzw', business_review_count=3, count=3),\n",
       " Row(business_id=u'dDqG-lKO9BRadoQ9fmWP-A', business_review_count=3, count=3),\n",
       " Row(business_id=u'g27s8rzecnH9vCjnfDJ_ww', business_review_count=3, count=3),\n",
       " Row(business_id=u'TgaaVdcAn8S_p4_Mmg9GAw', business_review_count=3, count=3),\n",
       " Row(business_id=u'vGfnvODh2CVtzbqc9TOC7A', business_review_count=3, count=3),\n",
       " Row(business_id=u'mEf-97gVL8VAbaLT6VMGPw', business_review_count=3, count=3),\n",
       " Row(business_id=u'Xm5_AqSjcs7ixHVnPvf8Cw', business_review_count=3, count=3),\n",
       " Row(business_id=u'ET7GElJDj37r4I4BsOTKwg', business_review_count=3, count=3),\n",
       " Row(business_id=u'dS01KGqEAiNVLmwPuyBZcg', business_review_count=3, count=3),\n",
       " Row(business_id=u'x-gCWVHofOLtiCtXC7y31w', business_review_count=3, count=3),\n",
       " Row(business_id=u'L8uEKwWOu8SymcGIpFfAww', business_review_count=3, count=3),\n",
       " Row(business_id=u'-ub4sJzrd7v3NW72qY1pmQ', business_review_count=3, count=3),\n",
       " Row(business_id=u'wRq-Y0dr0S2QC8jCqcgDfA', business_review_count=3, count=3),\n",
       " Row(business_id=u'DSMcRMkEozc_3tvMaDDzcQ', business_review_count=3, count=3),\n",
       " Row(business_id=u'9CvEg1e-PbVgaBrrAK9hdQ', business_review_count=3, count=3),\n",
       " Row(business_id=u'7oR9Nimj97GRnO0bi57mTg', business_review_count=3, count=3),\n",
       " Row(business_id=u'ivYKkwutWiSPvzrlX5N68A', business_review_count=3, count=3),\n",
       " Row(business_id=u'sRqQALlth1ARi1ckHA1TQA', business_review_count=3, count=3),\n",
       " Row(business_id=u'tkMhbhRQgyxSNmUKYfnYgA', business_review_count=3, count=3),\n",
       " Row(business_id=u'mtW6XmNlu4x05GsOIyGD3w', business_review_count=3, count=3),\n",
       " Row(business_id=u'B1Zv1S14pIN3Lojio-4HQw', business_review_count=3, count=3),\n",
       " Row(business_id=u'oRKxu7iFAb-OScRiVSzgOQ', business_review_count=3, count=3),\n",
       " Row(business_id=u'1PpxBdNp8LeyeFXd2emfaA', business_review_count=3, count=3),\n",
       " Row(business_id=u'DHhaRv3lucawlPG2otTumQ', business_review_count=3, count=3),\n",
       " Row(business_id=u'HiUSB5_OqtN_DKJST3JZmw', business_review_count=3, count=3),\n",
       " Row(business_id=u'luQKkVr3OlfuFBm16BHvWQ', business_review_count=3, count=3),\n",
       " Row(business_id=u'AMo0-at17zqRtOjYZpya4g', business_review_count=3, count=3),\n",
       " Row(business_id=u'VhEZKzwED_huFnII-PRLxg', business_review_count=3, count=3),\n",
       " Row(business_id=u'LVXme6i-2SWk7rT9VaUP-w', business_review_count=3, count=3),\n",
       " Row(business_id=u'0WCG6ou790GDVP5-b4PdSQ', business_review_count=3, count=3),\n",
       " Row(business_id=u'6z4fp-8YDR1Zh5Y0Ubni8g', business_review_count=3, count=3),\n",
       " Row(business_id=u'CHiHL8CZJ3AFAIAjHOQt_A', business_review_count=3, count=3),\n",
       " Row(business_id=u'0vRF1DdLskLUkk85dVQmfg', business_review_count=3, count=3),\n",
       " Row(business_id=u'_3VsxF6Nv0b0c9JvRNSHVg', business_review_count=3, count=3),\n",
       " Row(business_id=u'sgX80etDwGJYHcqHCMudkQ', business_review_count=3, count=3),\n",
       " Row(business_id=u'_stNeS4WVwBAwGNTmp9NDA', business_review_count=3, count=3),\n",
       " Row(business_id=u'bhrsf-GQra1R_VV1j2OR_A', business_review_count=3, count=3),\n",
       " Row(business_id=u'DXyas562qeXhww2WaYcqcg', business_review_count=3, count=3),\n",
       " Row(business_id=u'mOUOQmxuUekeUqYGVi4JXw', business_review_count=3, count=3),\n",
       " Row(business_id=u'EUusudSWZDOFcfCRF0YPvg', business_review_count=3, count=3),\n",
       " Row(business_id=u'RS8bUYCttrW7__dy4tDMlg', business_review_count=3, count=3),\n",
       " Row(business_id=u'3IZtvXQybTLi5fTKUuxnMA', business_review_count=3, count=3),\n",
       " Row(business_id=u'eFWKIZMls_jeSJ86tuQbmw', business_review_count=3, count=3),\n",
       " Row(business_id=u'9l3XIkXYCUxqCHymRubAiQ', business_review_count=3, count=3),\n",
       " Row(business_id=u'ibYHFzNwfp0YLBd0Bx5E4A', business_review_count=3, count=3),\n",
       " Row(business_id=u'mZJeJHVVTk__2FkBqvsVtw', business_review_count=3, count=3),\n",
       " Row(business_id=u'PUUtARojgoms2eb-pBy_SA', business_review_count=3, count=3),\n",
       " Row(business_id=u'DvgZW3leK2jEh7nI0cyHqA', business_review_count=3, count=3),\n",
       " Row(business_id=u'pl--0Ysik5XdobI_UTIg9A', business_review_count=3, count=3),\n",
       " Row(business_id=u'S8scbszaWYx6-gaRHz50uA', business_review_count=3, count=3),\n",
       " Row(business_id=u'rn7oMLg6JJpDAJ_okzt67w', business_review_count=3, count=3),\n",
       " Row(business_id=u'VYKAJlZmfS5iVMfzFXBfYQ', business_review_count=3, count=3),\n",
       " Row(business_id=u'cOH2KSHt1HYUDuxjJDAB6Q', business_review_count=3, count=3),\n",
       " Row(business_id=u'RePZ_w8W9eRq5wMMldMF6g', business_review_count=3, count=3),\n",
       " Row(business_id=u'mUBdg7veubVRJQlAbqkNjA', business_review_count=3, count=3),\n",
       " Row(business_id=u'T2HmUkhTCE-0eEYEJZABoA', business_review_count=3, count=3),\n",
       " Row(business_id=u'xLsfm0spEy_pIy8NZ5Q69A', business_review_count=3, count=3),\n",
       " Row(business_id=u'UcXyx8m21LfzkTe4SKZs8g', business_review_count=3, count=3),\n",
       " Row(business_id=u'kZQqJhy1MUCykPeCab4vFQ', business_review_count=3, count=3),\n",
       " Row(business_id=u'yvQ7kLhXUTvvio8N1xWfkA', business_review_count=3, count=3),\n",
       " Row(business_id=u'oXpeB-_B6YSsKEPHmHId0g', business_review_count=3, count=3),\n",
       " Row(business_id=u'Mhb-iYVDZUDzq7iPELg7QQ', business_review_count=3, count=3),\n",
       " Row(business_id=u'OkkwU8juNlWvmUJ3zBLvpw', business_review_count=3, count=3),\n",
       " Row(business_id=u'-PQNjS76VLsgM12Adyv2Fw', business_review_count=3, count=3),\n",
       " Row(business_id=u'tY2os-W-7xICSCz4fA3CKA', business_review_count=3, count=3),\n",
       " Row(business_id=u'ZLBT7PSC-ffgQCCxe_Pxgg', business_review_count=3, count=3),\n",
       " Row(business_id=u'moGoEVeHry38sc4NnQemjw', business_review_count=3, count=3),\n",
       " Row(business_id=u'SjZjIrOAa50hfC3oaM3hmg', business_review_count=4, count=3),\n",
       " Row(business_id=u'_HR-YLv77wsTe1nIpR8bow', business_review_count=3, count=3),\n",
       " Row(business_id=u'zskAX7jD0IaRb3I_gFCWOw', business_review_count=3, count=3),\n",
       " Row(business_id=u'_7bPSTUk_FZvomYjawpdhA', business_review_count=3, count=3),\n",
       " Row(business_id=u'Pw2gZg0DgqC-Te9JWKIAFw', business_review_count=3, count=3),\n",
       " Row(business_id=u'BaF_ZzOV8dd48cxm_wpvpQ', business_review_count=3, count=3),\n",
       " Row(business_id=u'd3LPckcuHSk2Ei9uAcfQZg', business_review_count=3, count=3),\n",
       " Row(business_id=u'JWVFRWIh8_n21HmJR5q4LQ', business_review_count=3, count=3),\n",
       " Row(business_id=u'vwNHZXY0nGGbxZZLwoUC4Q', business_review_count=3, count=3),\n",
       " Row(business_id=u'iCV8ujkTGENax9SQXqwXCg', business_review_count=3, count=3),\n",
       " Row(business_id=u'2E4-roWTD-0LR63xjokYRQ', business_review_count=3, count=3),\n",
       " Row(business_id=u'2Gpq-ioLGbrEAnqdh69lTw', business_review_count=3, count=3),\n",
       " Row(business_id=u'wKCXlV3ZXVOfZc_YPyJkMw', business_review_count=3, count=3),\n",
       " Row(business_id=u'ISpkYYoYN7Z90Xq3cZMpYQ', business_review_count=3, count=3),\n",
       " Row(business_id=u'E12SOO02DzfVMqxnWFpmww', business_review_count=3, count=3),\n",
       " Row(business_id=u'qrbsXgvD2QBoSZFxdgUOBQ', business_review_count=3, count=3),\n",
       " Row(business_id=u'U9w8CjZAwX6zVmERdUUsAw', business_review_count=3, count=3),\n",
       " Row(business_id=u'lk12W_L__IfyKeE_uynE6w', business_review_count=3, count=3),\n",
       " Row(business_id=u'slPYUxXWREiK30PbwSgLGA', business_review_count=3, count=3),\n",
       " Row(business_id=u'nDxkBZSiQj92qe2EikFLvA', business_review_count=3, count=3),\n",
       " Row(business_id=u'iT9kNUv1P0gj7m6YZWapDg', business_review_count=3, count=3),\n",
       " Row(business_id=u'HjwYuSSU2gsugB3LvAmT8A', business_review_count=3, count=3),\n",
       " Row(business_id=u'kjAUoej1kgAAl_IHcIYTdA', business_review_count=3, count=3),\n",
       " Row(business_id=u'Ui8bxfDlmyTE4N7inS4uxA', business_review_count=3, count=3),\n",
       " Row(business_id=u'W_Cj6VifLIFlZ1wzyehwmw', business_review_count=3, count=3),\n",
       " Row(business_id=u'TxDWg3nWoOQwTaGJg1jaUw', business_review_count=3, count=3),\n",
       " Row(business_id=u'mCERQLCAISOsdqrZO6XHhA', business_review_count=3, count=3),\n",
       " Row(business_id=u'_-3aZXuecjOSjramI1IBkA', business_review_count=3, count=3),\n",
       " Row(business_id=u'NPbc4tEKROH45GrIfWlYhg', business_review_count=3, count=3),\n",
       " Row(business_id=u'rfPU6W3fppa2F8oAOhNk8Q', business_review_count=3, count=3),\n",
       " Row(business_id=u'sQmMHGbMeYZvb-G9mVapng', business_review_count=3, count=3),\n",
       " Row(business_id=u'0Em_6So49P5c0j1bJABo3g', business_review_count=3, count=3),\n",
       " Row(business_id=u'-Fd6HHlgadkAZd3UiNfAGQ', business_review_count=3, count=3),\n",
       " Row(business_id=u'V6aPD-vvzN8mu1IyWvrP8Q', business_review_count=3, count=3),\n",
       " Row(business_id=u'P6Jt18QgkoLUswyzEMDZWg', business_review_count=3, count=3),\n",
       " Row(business_id=u'TuW2MgMvdc1hSK-82GJuVQ', business_review_count=3, count=3),\n",
       " Row(business_id=u'EO8Pu7Vw_p47mpRtf71gcg', business_review_count=3, count=3),\n",
       " Row(business_id=u'M7S7nVG9sb7eSbchiEWX2g', business_review_count=3, count=3),\n",
       " Row(business_id=u'CGXo48NFN1OFAlv4P1-MVg', business_review_count=3, count=3),\n",
       " Row(business_id=u'CbQ4s3_9srs-vNuFR2KL1g', business_review_count=3, count=3),\n",
       " Row(business_id=u'VlvAvCFIYa7ISpXXbSxQXQ', business_review_count=3, count=3),\n",
       " Row(business_id=u'KRaCesiNnAziTGiGeGcUhw', business_review_count=3, count=3),\n",
       " Row(business_id=u'rL5CKpcBiJPBO7aJgFP8_Q', business_review_count=3, count=3),\n",
       " Row(business_id=u'lTKr5J4nqepyOpOw8auErA', business_review_count=3, count=3),\n",
       " Row(business_id=u'V0I5cgAkuAiVy1P_vtgz0w', business_review_count=3, count=3),\n",
       " Row(business_id=u'2J4w_wW4btjr5q5FXwz5Nw', business_review_count=3, count=3),\n",
       " Row(business_id=u'vsZJehPzz4AzeLjr9oXGjg', business_review_count=3, count=3),\n",
       " Row(business_id=u'T1ReG3jnqY23IzFjNtvHsw', business_review_count=3, count=3),\n",
       " Row(business_id=u'YgQkmlMd3Pg23haaqQO-pg', business_review_count=3, count=3),\n",
       " Row(business_id=u'qvpTD5jsTWhxTJO-a8Epnw', business_review_count=3, count=3),\n",
       " Row(business_id=u'M_fdvM5we44i00Cn4wc0tw', business_review_count=3, count=3),\n",
       " Row(business_id=u'yQ1nmPEL7GmS5z9Y2cJPVQ', business_review_count=3, count=3),\n",
       " Row(business_id=u'6eW_bA0c6hOu_8YQrGnhdA', business_review_count=3, count=3),\n",
       " Row(business_id=u'Ce4Q4G7xtTYveKhs8IMeyw', business_review_count=3, count=3),\n",
       " Row(business_id=u'ElJHCNyp5xCfAN4X5CzNMg', business_review_count=3, count=3),\n",
       " Row(business_id=u'UXd4PWcJtVCahCl3byMlIQ', business_review_count=3, count=3),\n",
       " Row(business_id=u'sxgXMEqeTg6GCpbz6rowxQ', business_review_count=3, count=3),\n",
       " Row(business_id=u'mCfDeWMGir1Vh5wIySeqtg', business_review_count=3, count=3),\n",
       " Row(business_id=u'KPN2DrKYbRilqCLKAkijBg', business_review_count=3, count=3),\n",
       " Row(business_id=u'f4Y3634vku_QlaPTqmfQNA', business_review_count=3, count=3),\n",
       " Row(business_id=u'x8CTMThGRpYIy5u2SkI7mQ', business_review_count=3, count=3),\n",
       " Row(business_id=u'Sey0SjULVDNeMqQN_Q07tg', business_review_count=3, count=3),\n",
       " Row(business_id=u'NCNzbbPD_UyWLa8xr07bfg', business_review_count=3, count=3),\n",
       " Row(business_id=u'NsjOGg1NAxGGl-SlUPGZiQ', business_review_count=3, count=3),\n",
       " Row(business_id=u'jNcQGu4rNcwo0BMMJUiCxA', business_review_count=3, count=3),\n",
       " Row(business_id=u'8f8kdtUEv1FqteUvnR8hVQ', business_review_count=3, count=3),\n",
       " Row(business_id=u'SxuL12MK6bVv5GpltU21lg', business_review_count=3, count=3),\n",
       " Row(business_id=u'E-eqtMjJBudgsq32nhVGEg', business_review_count=3, count=3),\n",
       " Row(business_id=u'dYivxdJ4l3Z7LEKqTnG9rA', business_review_count=3, count=3),\n",
       " Row(business_id=u'Wtcnhppi-mLHTdRwWi-RNA', business_review_count=3, count=3),\n",
       " Row(business_id=u'Yht1gy5Na3xq4kJE5aGOGQ', business_review_count=3, count=3),\n",
       " Row(business_id=u'w08nB5CjseAA1d-e0AaPxw', business_review_count=3, count=3),\n",
       " Row(business_id=u'T3rBg9LEj_R1mb7C_-0Gwg', business_review_count=3, count=3),\n",
       " Row(business_id=u'gSBBG1cgz8pOvZgNahyP2A', business_review_count=3, count=3),\n",
       " Row(business_id=u'BWcseD2cYF2RRczEKWGAJg', business_review_count=3, count=3),\n",
       " Row(business_id=u'rijrWhUofYDNdL8QUzcbnQ', business_review_count=3, count=3),\n",
       " Row(business_id=u'T0V6pK7kJWTrTiB788ED6g', business_review_count=3, count=3),\n",
       " Row(business_id=u'9JCCYWBL3EAK5qb2bjWzAA', business_review_count=3, count=3),\n",
       " Row(business_id=u'nW5eBrKHAENE6wFeffUZ_Q', business_review_count=3, count=3),\n",
       " Row(business_id=u'tcT6E8jXYpMXuI9bu7DtLg', business_review_count=3, count=3),\n",
       " Row(business_id=u'Q8kbSb0yaXVZ7-CKwZJgwQ', business_review_count=3, count=3),\n",
       " Row(business_id=u'5VgMbYeBrsKGfb6OtQiYog', business_review_count=3, count=3),\n",
       " Row(business_id=u'd84bGzOI0-pKs8d5uxtX5Q', business_review_count=3, count=3),\n",
       " Row(business_id=u'lbQzfLanliJi9tX6H49SRg', business_review_count=3, count=3),\n",
       " Row(business_id=u'CUi46lF0HFO4h34lD4ff7A', business_review_count=3, count=3),\n",
       " Row(business_id=u'KuzPc3u9eKxTXVPrAMQgzA', business_review_count=3, count=3),\n",
       " Row(business_id=u'nVq71VBsxShp7dHxPIqlOw', business_review_count=3, count=3),\n",
       " Row(business_id=u'D1tO0Mde-nMGuRmoTZdAfw', business_review_count=3, count=3),\n",
       " Row(business_id=u'NnUYPaDj0aA-0ds4lG86vg', business_review_count=3, count=3),\n",
       " Row(business_id=u'WarmmiZ7nLhVKoz_XsRwhA', business_review_count=3, count=3),\n",
       " Row(business_id=u'uDzj47Nk12-tYj4ADDlziA', business_review_count=3, count=3),\n",
       " Row(business_id=u'uhiSv1aBUegaaTaOmtBMZQ', business_review_count=3, count=3),\n",
       " Row(business_id=u'3U9OBlagqvTMNZJZsZ5Hnw', business_review_count=3, count=3),\n",
       " Row(business_id=u'jojchE7gC0ItAXcnuRRvPg', business_review_count=3, count=3),\n",
       " Row(business_id=u'T5jrdYhot4yVotoYGRabGw', business_review_count=3, count=3),\n",
       " Row(business_id=u'8Z_FWumqwhA7FV_gUgRrJw', business_review_count=3, count=3),\n",
       " Row(business_id=u'HeguZ8QHnYLk3rH6U72cJQ', business_review_count=3, count=3),\n",
       " Row(business_id=u'KZvQfeDSIQLZhE93y1ohGg', business_review_count=3, count=3),\n",
       " Row(business_id=u'9Vk5e84orNV6etG-4MpHyw', business_review_count=3, count=3),\n",
       " Row(business_id=u'wYh5OW7fFqFgipLXQJdnfw', business_review_count=3, count=3),\n",
       " Row(business_id=u'Tytd5KwTp9DC_EStIPMELw', business_review_count=3, count=3),\n",
       " Row(business_id=u'VTXKmTtDswpooMimx_yDnw', business_review_count=3, count=3),\n",
       " Row(business_id=u'nIsfnwlnS_9TieULU4Z6JA', business_review_count=3, count=3),\n",
       " Row(business_id=u'-wVY4n2kHXz38kT7Uy0BOQ', business_review_count=3, count=3),\n",
       " Row(business_id=u'vIyD_JwT_dPL0bfuVKqt9Q', business_review_count=3, count=3),\n",
       " Row(business_id=u'i_YPTHbTPkc0FzrrwVo1Rg', business_review_count=3, count=3),\n",
       " Row(business_id=u'hP1eFhmM029HK63f3QvR8g', business_review_count=3, count=3),\n",
       " Row(business_id=u'lDwQNwfSFrujdnRH6XDxgQ', business_review_count=3, count=3),\n",
       " Row(business_id=u'qzrLwRY5X8ybfagacRiaHg', business_review_count=3, count=3),\n",
       " Row(business_id=u'W0y9ZWMwSSlOmmRErQzQeg', business_review_count=3, count=3),\n",
       " Row(business_id=u'sVxMzuLU-9lE1Q0s9pFDWw', business_review_count=3, count=3),\n",
       " Row(business_id=u'MnbFtG0a7gQplkSfk_oqjw', business_review_count=3, count=3),\n",
       " Row(business_id=u'8z9u4c5vt6EUgs2_ylC7SA', business_review_count=3, count=3),\n",
       " Row(business_id=u'6FP08GpOC09dZ0bxYwIx_w', business_review_count=3, count=3),\n",
       " Row(business_id=u'H3P0dOvvriNFKZ21fuUFsQ', business_review_count=3, count=3),\n",
       " Row(business_id=u'SCf8vvO_IU4OnkDf8MDdOg', business_review_count=3, count=3),\n",
       " Row(business_id=u'EG5FuzWY89-wdDkbdBzsjQ', business_review_count=3, count=3),\n",
       " Row(business_id=u'l_Zevl6jj_gn_xVkYpB_QQ', business_review_count=3, count=3),\n",
       " Row(business_id=u'CwSu_XJ20I7rUN23Zv9Avw', business_review_count=3, count=3),\n",
       " Row(business_id=u'emYhGfn1oIKNdUNHHCvGMg', business_review_count=3, count=3),\n",
       " Row(business_id=u'HqZSJgkqCs6oJO5hrE1LhQ', business_review_count=3, count=3),\n",
       " Row(business_id=u'TuPoWM1PZsVq0vjGqLJHMQ', business_review_count=3, count=3),\n",
       " Row(business_id=u'1lO1G5w15ovAF_yw3sQzvw', business_review_count=3, count=3),\n",
       " Row(business_id=u'J2OibefJyBtz6pHDERExng', business_review_count=3, count=3),\n",
       " Row(business_id=u'KMcwe97ozzWM0v2tr_qmQw', business_review_count=3, count=3),\n",
       " Row(business_id=u'yd3mUY6MsFj4hBuhPG9X6g', business_review_count=3, count=3),\n",
       " Row(business_id=u'dtLw0I7LWm1BsFfmweOnag', business_review_count=3, count=3),\n",
       " Row(business_id=u'qTBD_2VcI5iNd09X7OJyMA', business_review_count=3, count=3),\n",
       " Row(business_id=u'0T82guYcpNFdO0ycOeqIAA', business_review_count=3, count=3),\n",
       " Row(business_id=u'xd6VCPPPNZUVUQ7VbyCE7g', business_review_count=3, count=3),\n",
       " Row(business_id=u'jileXIZXG1JJ51-qKW_wtg', business_review_count=3, count=3),\n",
       " Row(business_id=u'0qovLpNjSlpX65RVN7981w', business_review_count=3, count=3),\n",
       " Row(business_id=u'Se4D3J6RE1M_fRjjNhGsdg', business_review_count=3, count=3),\n",
       " Row(business_id=u'NgfXI0SJ7yVT81SX1q4j9A', business_review_count=3, count=3),\n",
       " Row(business_id=u'g1-Rk59VMIPMYdLRGh2Kaw', business_review_count=3, count=3),\n",
       " Row(business_id=u'mkKlEHWjutiZ7LBpucbKaQ', business_review_count=3, count=3),\n",
       " Row(business_id=u'iNOceSfJ3DVv3EyesJ3m9A', business_review_count=3, count=3),\n",
       " Row(business_id=u'F7NcXJNEFpXjRGcLL_DgTA', business_review_count=3, count=3),\n",
       " Row(business_id=u'2NdsVq0TvneQ9H_8LhGyHg', business_review_count=3, count=3),\n",
       " Row(business_id=u's9gS6xzmvYY4fVmfEWMyCA', business_review_count=3, count=3),\n",
       " Row(business_id=u'pFVrjXPkNg_3BYleC8kkQg', business_review_count=3, count=3),\n",
       " Row(business_id=u'3quIr1FfdPAnfRjV3hzYHw', business_review_count=3, count=3),\n",
       " Row(business_id=u'80F5-oCWduYjZi1lgnPRLA', business_review_count=3, count=3),\n",
       " Row(business_id=u'Yuzn1vgYqh7AG2b4PQ-pqA', business_review_count=3, count=3),\n",
       " Row(business_id=u'4RMeoTag14FKnLlMJBA5fA', business_review_count=3, count=3),\n",
       " Row(business_id=u'JFeyscMpLAIKP-gF2WkK_A', business_review_count=3, count=3),\n",
       " Row(business_id=u'6_ZVyfTo_WQBQJRyVxJEGQ', business_review_count=3, count=3),\n",
       " Row(business_id=u'03YFnB5WYscja9RKDHLNWw', business_review_count=3, count=3),\n",
       " Row(business_id=u'D-wLCrjxzDwmBk-kDMCVDw', business_review_count=3, count=3),\n",
       " Row(business_id=u'fJumi8Wojnw-2CQ6hn2CJQ', business_review_count=3, count=3),\n",
       " Row(business_id=u'yU9V082oq3oh_QvGCHLUkQ', business_review_count=3, count=3),\n",
       " Row(business_id=u'UFAINH3p-ffGoPJ1gha06Q', business_review_count=3, count=3),\n",
       " Row(business_id=u'8BUVhDF9yLzzthhFxeceYA', business_review_count=3, count=3),\n",
       " Row(business_id=u'IIhRWo-kuhlUz1r3bYTGZw', business_review_count=3, count=3),\n",
       " Row(business_id=u'qc8MIZVOQkZ2VvnUs64Brw', business_review_count=3, count=3),\n",
       " Row(business_id=u'neFk0zFns8b7n7USz_30EA', business_review_count=3, count=3),\n",
       " Row(business_id=u'-qcgO_WBuq6iYTxHlwm7bw', business_review_count=3, count=3),\n",
       " Row(business_id=u'ynHcH1y-d-w68DFEIgvjiQ', business_review_count=3, count=3),\n",
       " Row(business_id=u'41g1GXEJqUI1uogR6Cli_w', business_review_count=3, count=3),\n",
       " Row(business_id=u'nSANvWMsrquhaxOnOwThSg', business_review_count=3, count=3),\n",
       " Row(business_id=u'd4TOkUhfqScHfcEO8wPmZQ', business_review_count=3, count=3),\n",
       " Row(business_id=u'sthJQ6XD4iITtivlJ4XtUQ', business_review_count=3, count=3),\n",
       " Row(business_id=u'gPYGUo0GwOawY-sfmwQlqQ', business_review_count=3, count=3),\n",
       " Row(business_id=u'A98xW4qb7vOTguggHFs7Ng', business_review_count=3, count=3),\n",
       " Row(business_id=u'VqWu5RgpMiO3z14ztpyxgg', business_review_count=3, count=3),\n",
       " Row(business_id=u'BOnlKzoZUtSsGhgOqW1dhA', business_review_count=3, count=3),\n",
       " Row(business_id=u'PX7NU9GvhHdZezkLJugrjg', business_review_count=3, count=3),\n",
       " Row(business_id=u'2CByHXpxsULiQZJlu-1AJg', business_review_count=3, count=3),\n",
       " Row(business_id=u'zxXOXs5v6EAbUhMTF9mxew', business_review_count=3, count=3),\n",
       " Row(business_id=u'trt4CpseesidBVJGUeLENw', business_review_count=3, count=3),\n",
       " Row(business_id=u'rW8-sbPqmkAHtmcDgn99xQ', business_review_count=3, count=3),\n",
       " Row(business_id=u'IwIgJOSJds-q8FXbvKjSOg', business_review_count=3, count=3),\n",
       " Row(business_id=u'RcHrGBuck0NAi6yocl7wDg', business_review_count=3, count=3),\n",
       " Row(business_id=u'vh3ymzbLEkqPHw0-IouMEw', business_review_count=3, count=3),\n",
       " Row(business_id=u'Nh_VNtKuWzqtZtcfGiJZFg', business_review_count=3, count=3),\n",
       " Row(business_id=u'IqhMjnM3gJJMra_c2bsCvg', business_review_count=3, count=3),\n",
       " Row(business_id=u'9-NrXREu72Tmf_L1B9z6Ig', business_review_count=3, count=3),\n",
       " Row(business_id=u'k5ufD47Z0t3rkyIYpXoT5Q', business_review_count=3, count=3),\n",
       " Row(business_id=u'VPutKT6WwwK8uoZHUmE6Ew', business_review_count=3, count=3),\n",
       " Row(business_id=u'Q7KGHZnnQiTklTfk1VeqNw', business_review_count=3, count=3),\n",
       " Row(business_id=u'T8rwJJFM2UEoAeDUpRMR2w', business_review_count=3, count=3),\n",
       " Row(business_id=u'qSKwjctlouezzSlccG3cNQ', business_review_count=3, count=3),\n",
       " Row(business_id=u'l1104J5-U2nGGcuiG5xadQ', business_review_count=3, count=3),\n",
       " Row(business_id=u'LP6sOaRABe7mXasaxhrw9Q', business_review_count=3, count=3),\n",
       " Row(business_id=u'BpgpkkwfWTTGIOIQSdrwVA', business_review_count=3, count=3),\n",
       " Row(business_id=u'FOLWEfZJzPiYWne3_60Ikw', business_review_count=3, count=3),\n",
       " Row(business_id=u'ZGF7ICkRMoHL7nVU4M2nNA', business_review_count=3, count=3),\n",
       " Row(business_id=u'EfkhcHuVyakw3LE85CGsnw', business_review_count=3, count=3),\n",
       " Row(business_id=u'WoPfxF4x9AWH9SxOJtCPFg', business_review_count=3, count=3),\n",
       " Row(business_id=u'TdJ2vWxJ6mUWROe1fBLhjw', business_review_count=3, count=3),\n",
       " Row(business_id=u'u3A4i58vw5rXomce7gRoAA', business_review_count=3, count=3),\n",
       " Row(business_id=u'8TpHfxkueO5-WEx-xqRu6w', business_review_count=3, count=3),\n",
       " Row(business_id=u'zit_uEDLdhmct6Beb2YQ5A', business_review_count=3, count=3),\n",
       " Row(business_id=u'YOtC5AvzLUinFShUqdI1vA', business_review_count=3, count=3),\n",
       " Row(business_id=u'EFKQ3L3XjwH31EzlTP2MWw', business_review_count=3, count=3),\n",
       " Row(business_id=u'xZUv_nDWvl8g0toyAbzXDQ', business_review_count=3, count=3),\n",
       " Row(business_id=u'6v27Fok1kKSZmp1Mjz8V3w', business_review_count=3, count=3),\n",
       " Row(business_id=u'a_Qc3E9xyJAf-1T5adcO0g', business_review_count=3, count=3),\n",
       " Row(business_id=u'u9d_SYVFMQjuUqitOAezEg', business_review_count=3, count=3),\n",
       " Row(business_id=u'qtSSMxk5EnH6Ty2zOcJLpQ', business_review_count=3, count=3),\n",
       " Row(business_id=u'-dNbsz0MCWWP7tl1YS8pKA', business_review_count=3, count=3),\n",
       " Row(business_id=u'WI3wXk5U9wiBpeVqU1N9DA', business_review_count=3, count=3),\n",
       " Row(business_id=u'gCJMeZphzafycG6cJNeHeA', business_review_count=3, count=3),\n",
       " Row(business_id=u'uQ9UFPVKRP0G6mHm6Q19ng', business_review_count=3, count=3),\n",
       " Row(business_id=u'kd2XyyEVdv1mykCgQeRyyA', business_review_count=3, count=3),\n",
       " Row(business_id=u'bJsVcrBcUyqfgwnGGRurcg', business_review_count=3, count=3),\n",
       " Row(business_id=u'J5TicWG_e7X-3CfEaZsRIw', business_review_count=3, count=3),\n",
       " Row(business_id=u'OQnwcGQSZ_LrPjelIEQZ6A', business_review_count=3, count=3),\n",
       " Row(business_id=u'dYf4P9QHLX6V9djsPUnP_g', business_review_count=3, count=3),\n",
       " Row(business_id=u't43mJBGNh4J3tH5FGGMsKQ', business_review_count=3, count=3),\n",
       " Row(business_id=u'_dWfhhUrLvm3BawlSNgkXg', business_review_count=3, count=3),\n",
       " Row(business_id=u'zrFtd-EFeo8wsrvvXPw-Qg', business_review_count=3, count=3),\n",
       " Row(business_id=u'jChH501KwN4lyfSUKtrlJA', business_review_count=3, count=3),\n",
       " Row(business_id=u'hmbJPbutAx0oABPDvclgsg', business_review_count=3, count=3),\n",
       " Row(business_id=u'_jh61xku0Vzzkl20LY8eJg', business_review_count=3, count=3),\n",
       " Row(business_id=u'J2mLSFAqpC1y1LdnVQdQZQ', business_review_count=3, count=3),\n",
       " Row(business_id=u'KxkEA3Yiws79PHXYivNL5w', business_review_count=3, count=3),\n",
       " Row(business_id=u'NEnUG3JRjIkGcw_xxpWnXQ', business_review_count=3, count=3),\n",
       " Row(business_id=u'57fiE9rxPatqQy1J-p1aqw', business_review_count=3, count=3),\n",
       " Row(business_id=u'hUFrRvNYop95IEY7_Ymedg', business_review_count=3, count=3),\n",
       " Row(business_id=u'HeBitSDRnCxoJl30NOKW5Q', business_review_count=3, count=3),\n",
       " Row(business_id=u'tmSF_kKtCZSu68-IbXZ5rQ', business_review_count=3, count=3),\n",
       " Row(business_id=u'9k4BmayMwG0D1PsDvovWzg', business_review_count=3, count=3),\n",
       " Row(business_id=u'vThnlZAcIqnLlzgCFgBiLQ', business_review_count=3, count=3),\n",
       " Row(business_id=u'YmDngTc_7lLA1jGcvq7odw', business_review_count=3, count=3),\n",
       " Row(business_id=u'YeXe8njHv3rGS3UwVLU9CA', business_review_count=3, count=3),\n",
       " Row(business_id=u'6L8KYHGDtdEznNKcxmlSjw', business_review_count=3, count=3),\n",
       " Row(business_id=u'y3YzOSj9NLhTc0Md0nZ1jg', business_review_count=3, count=3),\n",
       " Row(business_id=u'FoWw3bHdIoXfPHB_miXtjQ', business_review_count=3, count=3),\n",
       " Row(business_id=u'6kXNrhSTzp2DYxxlBtLFWg', business_review_count=3, count=3),\n",
       " Row(business_id=u'LHlk-EhZktyfkzoDGJlFFw', business_review_count=3, count=3),\n",
       " Row(business_id=u'G-hhV5xhCsfzwFwdyFHjIA', business_review_count=3, count=3),\n",
       " Row(business_id=u'f6_WtwXES0z8JPIUkUbhNA', business_review_count=3, count=3),\n",
       " Row(business_id=u'VlyAu6_wV_YIpk06mCsEZA', business_review_count=3, count=3),\n",
       " Row(business_id=u'Wl4rf4yOKdel09Rcvm2CAw', business_review_count=3, count=3),\n",
       " Row(business_id=u'3JKOrLSy0p38tJrwKmOH8A', business_review_count=3, count=3),\n",
       " Row(business_id=u'Iv_F5QC765k3W1DS_ghJng', business_review_count=3, count=3),\n",
       " Row(business_id=u'opMA1-RYa9xuM5w7SuW2Gg', business_review_count=3, count=3),\n",
       " Row(business_id=u'8En-KOqGnPJg6jsNJzqnBw', business_review_count=3, count=3),\n",
       " Row(business_id=u'0gnTMH76ga7VK0wyySql-Q', business_review_count=3, count=3),\n",
       " Row(business_id=u'GmBPKiTiZ-ta05g4ubmVAA', business_review_count=3, count=3),\n",
       " Row(business_id=u'OXCOUZ4c8xUu6o8PB0Mkqw', business_review_count=3, count=3),\n",
       " Row(business_id=u'eMul9zJH7OSuElaAwMkhnQ', business_review_count=3, count=3),\n",
       " Row(business_id=u'oRBIgTHfNDritzEP5pvfRQ', business_review_count=3, count=3),\n",
       " Row(business_id=u'0orB3um9KngJyLZJNKhcRA', business_review_count=3, count=3),\n",
       " Row(business_id=u'3gtlkstuZHZhC0h_qTLFJA', business_review_count=3, count=3),\n",
       " Row(business_id=u'inifQjerB70iJb4ZyRBeqQ', business_review_count=3, count=3),\n",
       " Row(business_id=u'ayQt7sEYKEmWsCZ7igqxDQ', business_review_count=3, count=3),\n",
       " Row(business_id=u'jed0hcFrmBhmG2pCXrB_IQ', business_review_count=3, count=3),\n",
       " Row(business_id=u'4IG4qmrwzrOF_86xsTFCNA', business_review_count=3, count=3),\n",
       " Row(business_id=u'UojweQ5Aervmc_ayek1sGQ', business_review_count=3, count=3),\n",
       " Row(business_id=u'5zXhhOV2n87RSs2mVQ6_1g', business_review_count=3, count=3),\n",
       " Row(business_id=u'wMnSV8dn7qiMokXNFiiQ9g', business_review_count=3, count=3),\n",
       " Row(business_id=u'eYegkL1OXbP3ud8toyK3_w', business_review_count=3, count=3),\n",
       " Row(business_id=u'crx0qEGxeHO2Jm1fV1yA9A', business_review_count=3, count=3),\n",
       " Row(business_id=u'd4pXR8yVuJIm6Q3HuRYBfw', business_review_count=3, count=3),\n",
       " Row(business_id=u'vDAkImk9dAEvvX5ZSJ6Fgw', business_review_count=3, count=3),\n",
       " Row(business_id=u'6zk3QLl5wSc5bFtHrqvZyw', business_review_count=3, count=3),\n",
       " Row(business_id=u'MKpbVXHl2T-LFZOOk_zu_g', business_review_count=3, count=3),\n",
       " Row(business_id=u'SaOfsNSrvPV90x7J6j0QhQ', business_review_count=3, count=3),\n",
       " Row(business_id=u'WxhdN7jcwZEZ4TDBm554tw', business_review_count=3, count=3),\n",
       " Row(business_id=u'jCTP36Pg2jYMdLgQM_Jt2Q', business_review_count=3, count=3),\n",
       " Row(business_id=u'icreAcMdHeI7_PUQXdywmQ', business_review_count=3, count=3),\n",
       " Row(business_id=u'e4k6e6jCiHRRGKo2YM1a3w', business_review_count=3, count=3),\n",
       " Row(business_id=u'41fjBqWlXXDKchJOstm4OA', business_review_count=3, count=3),\n",
       " Row(business_id=u'VvGskrO31rbr9JuowW6Wag', business_review_count=3, count=3),\n",
       " Row(business_id=u'bBZwjf9jAe6j-n54jDcTxA', business_review_count=3, count=3),\n",
       " Row(business_id=u'-e02KD5YfxyQhghDYAmaoA', business_review_count=3, count=3),\n",
       " Row(business_id=u'WXN1gPaMSCrpSYXlm9mfdg', business_review_count=3, count=3),\n",
       " Row(business_id=u'exY7rgllbngZzr5j-rPMOg', business_review_count=3, count=3),\n",
       " Row(business_id=u'jOwtBfEGtYctb_JRGp5WeA', business_review_count=3, count=3),\n",
       " Row(business_id=u'Hffo-tOfiW5H8K56zpnM9Q', business_review_count=3, count=3),\n",
       " Row(business_id=u'dl8baKrwaRO2ZiTrLzcaaA', business_review_count=3, count=3),\n",
       " Row(business_id=u'SS6Ow_wWjP8CbfbKEW4ZEA', business_review_count=3, count=3),\n",
       " Row(business_id=u'h3sqeBxNBMZtxOa34nlaAQ', business_review_count=3, count=3),\n",
       " Row(business_id=u'8KlImDp5zaxdbtjV6_El7Q', business_review_count=3, count=3),\n",
       " Row(business_id=u'7lODgGr60pPl-7AM6Xfu7w', business_review_count=3, count=3),\n",
       " Row(business_id=u'zOxeH9ow-sWHFT7Ddt1pgw', business_review_count=3, count=3),\n",
       " Row(business_id=u'Gfz0RL0UGZEvziU8fywlOg', business_review_count=3, count=3),\n",
       " Row(business_id=u'WvzQuhDcu6-Fm5vIB3pWrg', business_review_count=3, count=3),\n",
       " Row(business_id=u'peKjMgbSHa7g7gyTJFd6WQ', business_review_count=3, count=3),\n",
       " Row(business_id=u'5cSg8vI6XjJp3QWJCby6Lg', business_review_count=3, count=3),\n",
       " Row(business_id=u'QiWajFLbby6h0otIAcevXQ', business_review_count=3, count=3),\n",
       " Row(business_id=u'E768vU_Q4M1lCRDAYiN4iw', business_review_count=3, count=3),\n",
       " Row(business_id=u'vEQGLvBhsV6zzgAkumJaDg', business_review_count=3, count=3),\n",
       " Row(business_id=u'N3tvrAZ4gHzR_-vhU96eGw', business_review_count=3, count=3),\n",
       " Row(business_id=u'lfVG-EJdHm4oxiojKXbMpw', business_review_count=3, count=3),\n",
       " Row(business_id=u'TeKuTZz8FDPTizRm1ISLKQ', business_review_count=3, count=3),\n",
       " Row(business_id=u'mktRJUn5EIXgxId7utsj0Q', business_review_count=3, count=3),\n",
       " Row(business_id=u'yx-qmRrHF5RYjUZzsESscg', business_review_count=3, count=3),\n",
       " Row(business_id=u'tkSlOn8ANwMd1B4TZyWpwQ', business_review_count=3, count=3),\n",
       " Row(business_id=u'poerzgU80J5Wzy2x3YGSOw', business_review_count=3, count=3),\n",
       " Row(business_id=u'Sn3z3iJWHPcB7oOhR--vEw', business_review_count=3, count=3),\n",
       " Row(business_id=u't11JviqlXmJKA41I_Y-mTQ', business_review_count=3, count=3),\n",
       " Row(business_id=u'MIk9D2NemI-F4AeopYrTzw', business_review_count=3, count=3),\n",
       " Row(business_id=u'mXAZvgwqGrWA-2QYmr5ssQ', business_review_count=3, count=3),\n",
       " Row(business_id=u'CU6iiZ2VUz8nYx4g-uXiPg', business_review_count=3, count=3),\n",
       " Row(business_id=u'ZmFhDbNTKNE5_ojTPQP-vQ', business_review_count=3, count=3),\n",
       " Row(business_id=u'SL6tR_1Xy8bvDlQV7xJtSQ', business_review_count=3, count=3),\n",
       " Row(business_id=u'g6LjPc43LSWwwgmzzoi9RA', business_review_count=3, count=3),\n",
       " Row(business_id=u'h2rW15cC1eYKgvaDhUbGaA', business_review_count=3, count=3),\n",
       " Row(business_id=u'HyaOdRjE4jHam7emfp0R6g', business_review_count=3, count=3),\n",
       " Row(business_id=u'ECfv2JWsPU1oiFiqSUGUhA', business_review_count=3, count=3),\n",
       " Row(business_id=u'jo2vl72Z7wji8Pb3uPIvfg', business_review_count=3, count=3),\n",
       " Row(business_id=u'OguCd_XHlwh5gcs8XBLg7A', business_review_count=3, count=3),\n",
       " Row(business_id=u'JxEgmwYM4qRB-Z7uKeVy6w', business_review_count=3, count=3),\n",
       " Row(business_id=u'lgS5ld-FWeC19Gjg6n42ag', business_review_count=3, count=3),\n",
       " Row(business_id=u'3C1zbn47G5pDfX5OHJ1CRg', business_review_count=3, count=3),\n",
       " Row(business_id=u'JgWIO7Dw1expWjJJQteziw', business_review_count=3, count=3),\n",
       " Row(business_id=u'UXtdYTdYit2dk-vpP3v8dA', business_review_count=3, count=3),\n",
       " Row(business_id=u'QVXSDk1tzjiRFDH4C_kzMw', business_review_count=3, count=3),\n",
       " Row(business_id=u'lRFfK9W6UuFjfzAYlZ1Bkw', business_review_count=3, count=3),\n",
       " Row(business_id=u'reGLXIWrjB9ccyygzoTPCA', business_review_count=3, count=3),\n",
       " Row(business_id=u'c1exUFbaKSmF0RFjCZ3rYA', business_review_count=3, count=3),\n",
       " Row(business_id=u'c8blwi6oEdWT-ZnESV6D1w', business_review_count=3, count=3),\n",
       " Row(business_id=u'MqodRBRMZZX-EC_T4b500Q', business_review_count=3, count=3),\n",
       " Row(business_id=u'QcFKjb2i2Rxtnw9UJ3TrSg', business_review_count=3, count=3),\n",
       " Row(business_id=u'2EX_i3r7lxVSmt9Y9ICN5Q', business_review_count=3, count=3),\n",
       " Row(business_id=u'wBGHSIPQkTt1tgttPuj-Nw', business_review_count=3, count=3),\n",
       " Row(business_id=u'rsvScGhvYCbo6ltnHZwS_w', business_review_count=3, count=3),\n",
       " Row(business_id=u'yoFiVTmmUeq0zNIPTd_a3Q', business_review_count=3, count=3),\n",
       " Row(business_id=u'B9oVPp3-WgllqBr52fxnPA', business_review_count=3, count=3),\n",
       " Row(business_id=u'v0QxJArE2ixFBYoKfbzvrw', business_review_count=3, count=3),\n",
       " Row(business_id=u'vzenNLS2pnfRydkEeIV6Lw', business_review_count=3, count=3),\n",
       " Row(business_id=u'J99q761fDc3GBh4D-SwOOA', business_review_count=3, count=3),\n",
       " Row(business_id=u'ymCmHA_c8wyJvYA0zmMMjg', business_review_count=3, count=3),\n",
       " Row(business_id=u'tb3xLVLoOejw6IMpviW6og', business_review_count=3, count=3),\n",
       " Row(business_id=u'jDWkqbLJqOU7BGpLAj_nGA', business_review_count=3, count=3),\n",
       " Row(business_id=u'dPmWz-O9fF1FjQDEEX2JBg', business_review_count=3, count=3),\n",
       " Row(business_id=u'r8R8w0YZdfwghP5rAJk0iA', business_review_count=3, count=3),\n",
       " Row(business_id=u'a1KAQRIQUibZZ3ur4CFOHQ', business_review_count=3, count=3),\n",
       " Row(business_id=u'af_yjV_OK181dB5seLJi3A', business_review_count=3, count=3),\n",
       " Row(business_id=u'XzjsvUVUP2bmFtZkwmrREg', business_review_count=3, count=3),\n",
       " Row(business_id=u'o7hv9fiQl-ID2P7SG8CEZA', business_review_count=3, count=3),\n",
       " Row(business_id=u'yfnREHdNhUYuK6GyEUbDLg', business_review_count=3, count=3),\n",
       " Row(business_id=u'1XCIfbACa4PRX3BDXizWQA', business_review_count=3, count=3),\n",
       " Row(business_id=u'yjheI4DiwKuSAYzHs6E_dg', business_review_count=3, count=3),\n",
       " Row(business_id=u'mgf4Hzh6OvEWb9x5K0Gh1g', business_review_count=3, count=3),\n",
       " Row(business_id=u'246BPBpqVN4k03XK8IgwHg', business_review_count=3, count=3),\n",
       " Row(business_id=u'7ULCIyF5q22pgwQU90Q5Cg', business_review_count=3, count=3),\n",
       " Row(business_id=u'dht_FLsWVuO6TJeuLqY97g', business_review_count=3, count=3),\n",
       " Row(business_id=u'htllg7z_3firi_F2NLksWw', business_review_count=3, count=3),\n",
       " Row(business_id=u'bQTK1kjxs1l6_8DsuXlfQg', business_review_count=3, count=3),\n",
       " Row(business_id=u'5555Ct3ltvyEJJRlYCzvig', business_review_count=3, count=3),\n",
       " Row(business_id=u'T4kuyauOhib6EW_92_EF2w', business_review_count=3, count=3),\n",
       " Row(business_id=u'4szaOTy8-DmKTBqGTj5puQ', business_review_count=3, count=3),\n",
       " Row(business_id=u'OJplxXo7PMfXqTfinJAthg', business_review_count=3, count=3),\n",
       " Row(business_id=u's9z9srnERm_2nhOfZfcmLA', business_review_count=3, count=3),\n",
       " Row(business_id=u'3enxXjE0vtVaZ-un4iwVYw', business_review_count=3, count=3),\n",
       " Row(business_id=u'WIf32oERdEY8JHytfmRXvQ', business_review_count=3, count=3),\n",
       " Row(business_id=u'nMVzIBJiCTKLAx83B7dnWg', business_review_count=3, count=3),\n",
       " Row(business_id=u'P1d80_VyDLSqDg4ytdOVsA', business_review_count=3, count=3),\n",
       " Row(business_id=u'b_q7kIsPN8OuA784X4tuXw', business_review_count=3, count=3),\n",
       " Row(business_id=u'p8peUs8CZTV_5_M9elAN0A', business_review_count=3, count=3),\n",
       " Row(business_id=u'lHbFwqgVSaI8ahKL2Ua5dw', business_review_count=3, count=3),\n",
       " Row(business_id=u'DQk_C0OknJnSbefWvNAWew', business_review_count=3, count=3),\n",
       " Row(business_id=u'wb-rJJR1T7YKg_lBvzB2JA', business_review_count=3, count=3),\n",
       " Row(business_id=u'7PdFYcdK6rAKaIflJMoeDA', business_review_count=3, count=3),\n",
       " Row(business_id=u'F1z1zuoRmYEO_laizq9eKw', business_review_count=3, count=3),\n",
       " Row(business_id=u'V5j5QxNvxLABrsEImKRnCw', business_review_count=3, count=3),\n",
       " Row(business_id=u'cu0HbA8giZqOj1sw2AxDoQ', business_review_count=3, count=3),\n",
       " Row(business_id=u'9W3brfXoMs28hyopaO5sAw', business_review_count=3, count=3),\n",
       " Row(business_id=u'ltOiczcyWwYM501gvfMU9g', business_review_count=3, count=3),\n",
       " Row(business_id=u'NW7kj6PmbwKmmK_d_F0vow', business_review_count=3, count=3),\n",
       " Row(business_id=u'jxvrgEg2ioMgTdE74GHGQw', business_review_count=3, count=3),\n",
       " Row(business_id=u'e8rGn7YUynrqYk0mHhJd4g', business_review_count=3, count=3),\n",
       " Row(business_id=u'lNJmQeHcYMl8g5D8xUfkQQ', business_review_count=3, count=3),\n",
       " Row(business_id=u'WxBZC1ry1tCZVmIO1LkIHQ', business_review_count=3, count=3),\n",
       " Row(business_id=u'4tKZelIJP9jgR0qwd5FV0A', business_review_count=3, count=3),\n",
       " Row(business_id=u'oWx8F8SDIhO5Cy3_9AEUeA', business_review_count=3, count=3),\n",
       " Row(business_id=u'7S1psNlgwz8g_OsxLOA26w', business_review_count=3, count=3),\n",
       " Row(business_id=u'DZ0hUkFyvaPr6kDaB1v9Wg', business_review_count=3, count=3),\n",
       " Row(business_id=u'XD7GpEd_yDa03KAVjLmrtA', business_review_count=3, count=3),\n",
       " Row(business_id=u'-TSyiZssvlludTqWcb_FCg', business_review_count=3, count=3),\n",
       " Row(business_id=u'eHDIwVAdUThCmctQmeTI4A', business_review_count=3, count=3),\n",
       " Row(business_id=u'blrsVPvhSZ2RPGnNuDfaxA', business_review_count=3, count=3),\n",
       " Row(business_id=u'YaosBqCob-RwCXWCXmrSag', business_review_count=3, count=3),\n",
       " Row(business_id=u'rLwsjYJMXTYlxWW8yuXEbA', business_review_count=3, count=3),\n",
       " Row(business_id=u'6_VtpClOYyHMjlAiADtq6w', business_review_count=3, count=3),\n",
       " Row(business_id=u'ITjzNOlmNSyS9FbsOZ3IUA', business_review_count=3, count=3),\n",
       " Row(business_id=u'CgGOn2UaWZr1YGAffyg6aQ', business_review_count=3, count=3),\n",
       " Row(business_id=u'Rvqprshh_M_Q-AGJNkpcyg', business_review_count=3, count=3),\n",
       " Row(business_id=u'nNYd0DPiFJU0Ud4IHnDG4Q', business_review_count=3, count=3),\n",
       " Row(business_id=u'Dhu_g9P_XcLVxJPAoaKrVg', business_review_count=3, count=3),\n",
       " Row(business_id=u'LKH4GWgp-SwkyvttTWU7ow', business_review_count=3, count=3),\n",
       " Row(business_id=u'2JcLVUZvObtDoy0bvLJMJQ', business_review_count=3, count=3),\n",
       " Row(business_id=u'1_CgHY6Ba2VE2JvG12S6Ug', business_review_count=3, count=3),\n",
       " Row(business_id=u'PnyLVzIPVAoYtcgcu62PMg', business_review_count=3, count=3),\n",
       " Row(business_id=u'lCaDQzQcBB4G-5J5j5SOjQ', business_review_count=3, count=3),\n",
       " Row(business_id=u'RPcH149LSRvzPwSpPqTJkQ', business_review_count=3, count=3),\n",
       " Row(business_id=u'glMQ2f-W7y5Glvx0xed19g', business_review_count=3, count=3),\n",
       " Row(business_id=u'R2oTFgwyurdx8fmZh7uAGg', business_review_count=3, count=3),\n",
       " Row(business_id=u'hHT24jTMBtV3Af1QDerahg', business_review_count=3, count=3),\n",
       " Row(business_id=u'o-8JfrkTvEdHFFzWtLyUrg', business_review_count=3, count=3),\n",
       " Row(business_id=u'OD1B3uiFLMCKUsl7wHWxHA', business_review_count=3, count=3),\n",
       " Row(business_id=u'L3gly_GcgtEP7tHGNVw2Ow', business_review_count=3, count=3),\n",
       " Row(business_id=u'HeUcFxGH9T4J8TQALwtUSA', business_review_count=3, count=3),\n",
       " Row(business_id=u'tEvsCDD_aVTfuGjXLUlXFQ', business_review_count=3, count=3),\n",
       " Row(business_id=u'8GrqUerEAqAz59u-tnuDCA', business_review_count=3, count=3),\n",
       " Row(business_id=u'ZgYWCsGXr2Sm00q6c2Y0_w', business_review_count=3, count=3),\n",
       " Row(business_id=u'hsObd_dRmpxNGmXjwSYuHg', business_review_count=3, count=3),\n",
       " Row(business_id=u'1wyObGt-as-nfA34-jqq7g', business_review_count=3, count=3),\n",
       " Row(business_id=u'o9I1JskE9zj41BUZbUyQNw', business_review_count=3, count=3),\n",
       " Row(business_id=u'kNsGR7Q1nkwOHFQxgsbYtQ', business_review_count=3, count=3),\n",
       " Row(business_id=u'qMKNVDg8U_FmaHCXlKnBIQ', business_review_count=3, count=3),\n",
       " Row(business_id=u'mkqEcTKl0dpeupZecqoApA', business_review_count=3, count=3),\n",
       " Row(business_id=u'S1MVNBRwbS5nIbCVl_hEEg', business_review_count=3, count=3),\n",
       " Row(business_id=u'CZ1kXH2dKd5CXYvhJamhUA', business_review_count=3, count=3),\n",
       " Row(business_id=u'Up6F_ZQJKg6WPz6lOEueog', business_review_count=3, count=3),\n",
       " Row(business_id=u'wfO69JUp-H8kbm3dn0zcnA', business_review_count=3, count=3),\n",
       " Row(business_id=u'djsMLnILMMLqxZPdaQXwFA', business_review_count=3, count=3),\n",
       " Row(business_id=u'S-HuIOsopWeKMsLwf90l9g', business_review_count=3, count=3),\n",
       " Row(business_id=u'llWyi7UT89GAALm_NuSPyQ', business_review_count=3, count=3),\n",
       " Row(business_id=u'IQQGWKeS9Zl23DFOf3uDkw', business_review_count=3, count=3),\n",
       " Row(business_id=u'ihbzbV1ZOjxn3VjfPqkfGQ', business_review_count=3, count=3),\n",
       " Row(business_id=u'NduJZjhjpw5PHlNPK_Eu7A', business_review_count=3, count=3),\n",
       " Row(business_id=u'sse6qoSIVnxd2ZRLuIT7dw', business_review_count=3, count=3),\n",
       " Row(business_id=u'aHr_iwjtmqTHi2krox8Qgw', business_review_count=3, count=3),\n",
       " Row(business_id=u'c7XQlBEPU6jwtzb3iJr0dQ', business_review_count=3, count=3),\n",
       " Row(business_id=u'0k-3oy0FXPR2JU9PP-Gucg', business_review_count=3, count=3),\n",
       " Row(business_id=u'3HzHbB1T1xm_aEXgd_NlHA', business_review_count=3, count=3),\n",
       " Row(business_id=u'Gi5V4AIkSRXTJHSvGHB1Tw', business_review_count=3, count=3),\n",
       " Row(business_id=u'pLVEkGQA_aKyEICxdYLF3Q', business_review_count=3, count=3),\n",
       " Row(business_id=u'1nF6s6xQnsGHcpgiG5OtmA', business_review_count=3, count=3),\n",
       " Row(business_id=u'1xgrNNPsLvtnlQpwFRutZw', business_review_count=3, count=3),\n",
       " Row(business_id=u'7ciWkx9aiLEWsMGy1xt3_Q', business_review_count=3, count=3),\n",
       " Row(business_id=u'YJySwdpMpTkcgyS7iD3sBw', business_review_count=3, count=3),\n",
       " Row(business_id=u'Y6gHQupMzaEHiPGB1lE4Ug', business_review_count=3, count=3),\n",
       " Row(business_id=u'aG8GWT6G90A4aqlJcRLNfQ', business_review_count=3, count=3),\n",
       " Row(business_id=u'gQ7oyL-IWd4Ft2e4YVi9bQ', business_review_count=3, count=3),\n",
       " Row(business_id=u'pOXagOps7RvL-QocUXCoVA', business_review_count=3, count=3),\n",
       " Row(business_id=u'Xl9-djKxJjoHvfTdqfcE7w', business_review_count=3, count=3),\n",
       " Row(business_id=u'10TkmS3rNHn_jEKMRrz8mQ', business_review_count=3, count=3),\n",
       " Row(business_id=u'kMl7axZTCVDR9Ar1yn6kmw', business_review_count=3, count=3),\n",
       " Row(business_id=u'uXrq5tOkEpFboKMSarltcw', business_review_count=3, count=3),\n",
       " Row(business_id=u'gcYwWmzzzC4raKZ5FoTsNw', business_review_count=3, count=3),\n",
       " Row(business_id=u'X6GjQP2w78rnxWg0pFYJ9Q', business_review_count=3, count=3),\n",
       " Row(business_id=u'upUolgOSrXmbxZHgiYJkCA', business_review_count=3, count=3),\n",
       " Row(business_id=u'IMLC177opWHCmgdUIYYjaw', business_review_count=3, count=3),\n",
       " Row(business_id=u'rwuGwDlaQJ87K6a3arPdYA', business_review_count=3, count=3),\n",
       " Row(business_id=u'DDRjIcMrvRyuXXuG0OGa-A', business_review_count=3, count=3),\n",
       " Row(business_id=u'Sn7_JZg4Sm2NVPv915TceA', business_review_count=3, count=3),\n",
       " Row(business_id=u'xOiiAgi6sBTifMycPEdaMg', business_review_count=3, count=3),\n",
       " Row(business_id=u'YhO-lGxXJ5jt8su2sJsNXw', business_review_count=3, count=3),\n",
       " Row(business_id=u'1pSnogYq1-nuDlZJ1_XWqw', business_review_count=3, count=3),\n",
       " Row(business_id=u'wiwkuWyNhPrKkgGZKIDMfQ', business_review_count=3, count=3),\n",
       " Row(business_id=u'zwFRdFxgCV6bF6DAajpCtA', business_review_count=3, count=3),\n",
       " Row(business_id=u'juYnh8NoQtCxUWzSxW36pw', business_review_count=3, count=3),\n",
       " Row(business_id=u'GM68wf9Gbb33nAHpcP3DOA', business_review_count=3, count=3),\n",
       " Row(business_id=u'QO9cAenMqWXVraYPKT29PA', business_review_count=3, count=3),\n",
       " Row(business_id=u'Y9yKyN7igYzvPLncR6VdyA', business_review_count=3, count=3),\n",
       " Row(business_id=u'InNbPyC-wZli-CcLdaitFQ', business_review_count=3, count=3),\n",
       " Row(business_id=u'yzUwvEyPDYeZiYh0FWwCZA', business_review_count=3, count=3),\n",
       " Row(business_id=u'7Fkv_O4_xChZ62yzxgUcbw', business_review_count=3, count=3),\n",
       " Row(business_id=u'rgxthFHqpSd8yWZPXESpdg', business_review_count=3, count=3),\n",
       " Row(business_id=u'UZDpt8zV_9VgHoPfAea4Vw', business_review_count=3, count=3),\n",
       " Row(business_id=u'9g8Cz9SvIcFSWRqpjKZc5Q', business_review_count=3, count=3),\n",
       " Row(business_id=u'GWXzIz4UbYvK2D8O5rLL8Q', business_review_count=3, count=3),\n",
       " Row(business_id=u'_k9XuYMkS3zwm87CCUjCoQ', business_review_count=3, count=3),\n",
       " Row(business_id=u'zzjqFOujmM9surbMANZ_ag', business_review_count=3, count=3),\n",
       " Row(business_id=u'gfSfc4uI6Ou_QmoCRxhAgA', business_review_count=3, count=3),\n",
       " Row(business_id=u'mGLqKC-YjKI6cwax91X7Og', business_review_count=3, count=3),\n",
       " Row(business_id=u'49z7eFkyC6YuJpPT_KC83Q', business_review_count=3, count=3),\n",
       " Row(business_id=u'iTbNepWvLxUYXtQ6RXddUg', business_review_count=3, count=3),\n",
       " Row(business_id=u'eR6ygdRLRC0cC36khIHrrg', business_review_count=3, count=3),\n",
       " Row(business_id=u'ltvN7zy0XmSAEKFaMChWTQ', business_review_count=3, count=3),\n",
       " Row(business_id=u'Y93hCKpOpvj7gt12kgeKhg', business_review_count=3, count=3),\n",
       " Row(business_id=u'Z7hDwWGaiG1R1TymvKDKjQ', business_review_count=3, count=3),\n",
       " Row(business_id=u'ScQ6aTNKLsf3AWpNtaPWKA', business_review_count=3, count=3),\n",
       " Row(business_id=u'JJzud3r5bn7_ODP-wKQCDw', business_review_count=3, count=3),\n",
       " Row(business_id=u'aPvvjVN_JrK0fcyixNOfcw', business_review_count=3, count=3),\n",
       " Row(business_id=u'2Z6FGB5vfbSrvNyeXTqARg', business_review_count=3, count=3),\n",
       " Row(business_id=u'JSIRSzO8GdqldMb5aOQpww', business_review_count=3, count=3),\n",
       " Row(business_id=u'rRwxJEJTvjIPpzXOnNu68Q', business_review_count=3, count=3),\n",
       " Row(business_id=u'EGGNJHD1L8VW8b00qlt41A', business_review_count=3, count=3),\n",
       " Row(business_id=u'3cZPjRA29LrHVbByA6W4VQ', business_review_count=3, count=3),\n",
       " Row(business_id=u'Uf3rraQFn2dc2ZoF47qOIw', business_review_count=3, count=3),\n",
       " Row(business_id=u'zxuDNW_-qS6MAoUQGzjogg', business_review_count=3, count=3),\n",
       " Row(business_id=u'g_h5mRmv3oDuCHb9HalnMQ', business_review_count=3, count=3),\n",
       " Row(business_id=u'ybBXNZeUkjE_wGFcaKmoLg', business_review_count=3, count=3),\n",
       " Row(business_id=u'o0TNSSQJywm_pN-pyx6Aqg', business_review_count=3, count=3),\n",
       " Row(business_id=u'1VUQPwwWU_i9PATyM8jrtg', business_review_count=3, count=3),\n",
       " Row(business_id=u'moyXlPJai5TBmCi5Yo6BOQ', business_review_count=3, count=3),\n",
       " Row(business_id=u'CB5w2XhGHLG8C26SYp6_gw', business_review_count=3, count=3),\n",
       " Row(business_id=u'LRnrW_0iprUuJG9gp_iqfQ', business_review_count=3, count=3),\n",
       " Row(business_id=u't8Proqb6r3ppsfugX6QNKA', business_review_count=3, count=3),\n",
       " Row(business_id=u'egtaygafjrfGH-Bfo15kvw', business_review_count=3, count=3),\n",
       " Row(business_id=u'5mAA3m9PBY7dmPRlyUmXuQ', business_review_count=3, count=3),\n",
       " Row(business_id=u'tGMx-EvYkAxiFBDMh3JTgw', business_review_count=3, count=3),\n",
       " Row(business_id=u'AyAnxKMDJedvuMCRXE2YCg', business_review_count=3, count=3),\n",
       " Row(business_id=u'6GybXbJcaGDMR5rs_M_vGw', business_review_count=3, count=3),\n",
       " Row(business_id=u'l9Gp53oJIfPB9GL19e70BQ', business_review_count=3, count=3),\n",
       " Row(business_id=u'7MicpBSV72aRbgs2AgCB8Q', business_review_count=3, count=3),\n",
       " Row(business_id=u'pJKzJDohtGTltu2Yaia3hA', business_review_count=3, count=3),\n",
       " Row(business_id=u'njsYgYLUtEJAGvdes33hPg', business_review_count=3, count=3),\n",
       " Row(business_id=u'C8ev1tgmPmqTCqNeVGNmXA', business_review_count=3, count=3),\n",
       " Row(business_id=u'lxR1ub7Gapwg_Doh7kqqIg', business_review_count=3, count=3),\n",
       " Row(business_id=u'D5hC9M7IuLdvkA5iZLf3Jg', business_review_count=3, count=3),\n",
       " Row(business_id=u'PCCdoEFXBNsG70M_v7W3eA', business_review_count=3, count=3),\n",
       " Row(business_id=u'4uP23AZQCr9u9bUi83gn1g', business_review_count=3, count=3),\n",
       " Row(business_id=u'3N7pvxYoWlMc9KCsCWV5nA', business_review_count=3, count=3),\n",
       " Row(business_id=u'emu_QZZwqSgFKmBRs3luxw', business_review_count=3, count=3),\n",
       " Row(business_id=u'4yYzxusSRcW85e2SBo0W4g', business_review_count=3, count=3),\n",
       " Row(business_id=u'RGEcWqzrCR83HSkWiXIV8A', business_review_count=3, count=3),\n",
       " Row(business_id=u'uAinKQxXlMz1DvnZaadEeQ', business_review_count=3, count=3),\n",
       " Row(business_id=u'sd5SuNirzpYdh7D9UCTImw', business_review_count=3, count=3),\n",
       " Row(business_id=u'52MEdA3va2YCSEm5FyRj-A', business_review_count=3, count=3),\n",
       " Row(business_id=u'MnBScex5hOLncl3OvWJunA', business_review_count=3, count=3),\n",
       " Row(business_id=u'TF7OBC2IOw4BCr6TvNb4Lw', business_review_count=3, count=3),\n",
       " Row(business_id=u'TiPVjFgN8fFSfpR4AUbNvA', business_review_count=3, count=3),\n",
       " Row(business_id=u'Nz7BIU_g9ID6MDlLftcNEw', business_review_count=3, count=3),\n",
       " Row(business_id=u'yIZxIrxitcBcGJBp6ElWNg', business_review_count=3, count=3),\n",
       " Row(business_id=u'2ShyTC30SFxDOfYUUP8f3A', business_review_count=3, count=3),\n",
       " Row(business_id=u'-4BeOjt6yIvNRKSNPrS2pA', business_review_count=3, count=3),\n",
       " Row(business_id=u'Ggz16IcI47DFhXUYQJBnLA', business_review_count=3, count=3),\n",
       " Row(business_id=u'ggty_CrIxK9AAnqAi9LlYQ', business_review_count=3, count=3),\n",
       " Row(business_id=u'Z-omqIlZlgdn19tSs7E84A', business_review_count=3, count=3),\n",
       " Row(business_id=u'byYbmnfna-uxrNFIdJUiCQ', business_review_count=3, count=3),\n",
       " Row(business_id=u'FYrwPga0wFb3XHKeyuvgnA', business_review_count=3, count=3),\n",
       " Row(business_id=u'wOzuxhzGD3_S-r3WuTPr3Q', business_review_count=3, count=3),\n",
       " Row(business_id=u'G9x1ncAg1xHsxq-l8aIr1A', business_review_count=3, count=3),\n",
       " Row(business_id=u'xE4Ocpm6d_r_EaQDjMEjdA', business_review_count=3, count=3),\n",
       " Row(business_id=u'7QHczOBkG6MlaBFFrskRdA', business_review_count=3, count=3),\n",
       " Row(business_id=u'sbcJ87ZzhB6-WZiI1SV1mQ', business_review_count=3, count=3),\n",
       " Row(business_id=u'4xCKeFJlTtAcGVwmdjOWyg', business_review_count=3, count=3),\n",
       " Row(business_id=u'3gY-wkMEuFSJG0DXS_p5aQ', business_review_count=3, count=3),\n",
       " Row(business_id=u'Nmbgj8fjHcu1ffu-utLgTQ', business_review_count=3, count=3),\n",
       " Row(business_id=u'YPtOSoIWq-kxp2rc0lItgw', business_review_count=3, count=3),\n",
       " Row(business_id=u'3qqAsJ9RuICOCfX1KYe6rg', business_review_count=3, count=3),\n",
       " Row(business_id=u'pAOaspUGXIuTM8xYMy8zMQ', business_review_count=3, count=3),\n",
       " Row(business_id=u'RsRI3Xc2878GtjhuXsczew', business_review_count=3, count=3),\n",
       " Row(business_id=u'TCaj_fLjmd6ZAfqn4wczlg', business_review_count=3, count=3),\n",
       " Row(business_id=u'Tx5-RjyCcum3Zk6tJNrByw', business_review_count=3, count=3),\n",
       " Row(business_id=u'Khc9ikK1Yat2NOlsX6_-Uw', business_review_count=3, count=3),\n",
       " Row(business_id=u'NiRodyJDiFTYonB2cmYhtA', business_review_count=3, count=3),\n",
       " Row(business_id=u'1i-HlRWS_fGLG2A1vG3JjA', business_review_count=3, count=3),\n",
       " Row(business_id=u'wHpu1yWAs4LOWwzwkG8KXA', business_review_count=3, count=3),\n",
       " Row(business_id=u'eSu5edYyMFrnCy6_VlbgYA', business_review_count=3, count=3),\n",
       " Row(business_id=u'i8K4qY1VA13eWRQ_zbmuTw', business_review_count=3, count=3),\n",
       " Row(business_id=u'pEGDtfDcdDxYWyveWAleRg', business_review_count=3, count=3),\n",
       " Row(business_id=u'T4svfBHgvKG5TTytlYzLbQ', business_review_count=3, count=3),\n",
       " Row(business_id=u'DXBN5geIBOzZSRq_1XLG6A', business_review_count=3, count=3),\n",
       " Row(business_id=u'ho0q4aHKdtYGJjJ9MrYWzA', business_review_count=3, count=3),\n",
       " Row(business_id=u'fWmzo8-6Xw8fDSjcXApcag', business_review_count=3, count=3),\n",
       " Row(business_id=u'GdIWuuQ82OhEIdJLRw_cDg', business_review_count=3, count=3),\n",
       " Row(business_id=u'IDCe7LxJW7j5aFFVmO0AlQ', business_review_count=3, count=3),\n",
       " Row(business_id=u'BAn9xggxcFRfFom4ea3X5Q', business_review_count=3, count=3),\n",
       " Row(business_id=u'FAkNHyN9_JhrUe-D1k02Mw', business_review_count=3, count=3),\n",
       " Row(business_id=u'Ywlgj3wgze3oxV5D2GSR4Q', business_review_count=3, count=3),\n",
       " Row(business_id=u'Y7lI9PEAvq3rctl5hubl5Q', business_review_count=3, count=3),\n",
       " Row(business_id=u'wbgxiPnalE791g4RMN_NjA', business_review_count=3, count=3),\n",
       " Row(business_id=u'XG02OwHsKoTBXKgy7Y6ADQ', business_review_count=3, count=3),\n",
       " Row(business_id=u'FgwFl-jlTv1FryXwlMd0jg', business_review_count=3, count=3),\n",
       " Row(business_id=u'G45f-qnzJ29MiDpdpTNB1Q', business_review_count=3, count=3),\n",
       " Row(business_id=u'uVjQUeYA2lepCW3-XHTcaA', business_review_count=3, count=3),\n",
       " Row(business_id=u'HrwUUvQDEAXHpUOHv0ftiw', business_review_count=3, count=3),\n",
       " Row(business_id=u'H8BVK2UH9F1oc7iMrAP5uA', business_review_count=3, count=3),\n",
       " Row(business_id=u'm_Ya56gz3GYv_moJIGnCkg', business_review_count=3, count=3),\n",
       " Row(business_id=u'xpD_KJfB_YyuaqLdjGHXZg', business_review_count=3, count=3),\n",
       " Row(business_id=u'WRbqYb4DEfG0s5Ppr1sI9g', business_review_count=3, count=3),\n",
       " Row(business_id=u'l-cqWTPX1KZPIjjkB4arvQ', business_review_count=3, count=3),\n",
       " Row(business_id=u'Q6Ad0-wNUu8tf_-OCnWT9w', business_review_count=3, count=3),\n",
       " Row(business_id=u'Egc1zxFSKGwmje0gXi95-w', business_review_count=3, count=3),\n",
       " Row(business_id=u'Zfu8iPneHkcLFqk1xAGAMg', business_review_count=3, count=3),\n",
       " Row(business_id=u'cdMVwA8h8M6pMs_Esxth-A', business_review_count=3, count=3),\n",
       " Row(business_id=u'OIzj9gWbdUzWZo8Dssg5gQ', business_review_count=3, count=3),\n",
       " Row(business_id=u'6GQVNKVhFjkPQ7Yrqjcp3g', business_review_count=3, count=3),\n",
       " Row(business_id=u'WzFGD2v5ge7BOLDmKk-kEw', business_review_count=3, count=3),\n",
       " Row(business_id=u'pCktHkZpZ96TJPbXdl7uAw', business_review_count=3, count=3),\n",
       " Row(business_id=u'pgK07kPLiGXhq2FWARyN6A', business_review_count=3, count=3),\n",
       " Row(business_id=u'cMKaFzoWF4CI0KFAs3cI7w', business_review_count=3, count=3),\n",
       " Row(business_id=u'YpXKwCODp0LMlvtYVlnxQQ', business_review_count=3, count=3),\n",
       " Row(business_id=u'TMG3g1KyviRzhQbABgXN-w', business_review_count=3, count=3),\n",
       " Row(business_id=u'1qp0uAaTQtveTxInTZ1ZLA', business_review_count=3, count=3),\n",
       " Row(business_id=u'T3e_-jJtyZhjZQC5SOHbXQ', business_review_count=3, count=3),\n",
       " Row(business_id=u'I_3WnGBtij0BNzpFZgVZkw', business_review_count=3, count=3),\n",
       " Row(business_id=u'B3fn9Ytm8GEEivWq6KpktA', business_review_count=3, count=3),\n",
       " Row(business_id=u'pazOmG0hn5Hy6s4wPNS3ow', business_review_count=3, count=3),\n",
       " Row(business_id=u'ddzASqd4YSbsiRttlZ1syQ', business_review_count=3, count=3),\n",
       " Row(business_id=u'PJoFqIDhuKNYjAOmXnVbPA', business_review_count=3, count=3),\n",
       " Row(business_id=u'aDNUS6Z-hDRL6D_lhWlFtw', business_review_count=3, count=3),\n",
       " Row(business_id=u'juzbhH2ecsJvWwp712fY9g', business_review_count=3, count=3),\n",
       " Row(business_id=u'zA-5qI5HVh-_CaY886SrLA', business_review_count=3, count=3),\n",
       " Row(business_id=u'clU62-alZxOzCyONoiCpYw', business_review_count=3, count=3),\n",
       " Row(business_id=u'5z1tzT8C7H1l7onTttRvnw', business_review_count=3, count=3),\n",
       " Row(business_id=u'SHOeL3VN_hIL9RGgqDhLgA', business_review_count=3, count=3),\n",
       " Row(business_id=u'yzlROKrfPWg_POdnw0gICg', business_review_count=3, count=3),\n",
       " Row(business_id=u'KbVJ0FC1l61GVSniCNhP1g', business_review_count=3, count=3),\n",
       " Row(business_id=u'c8k7foiWwVbxVZEpVQdLXw', business_review_count=3, count=3),\n",
       " Row(business_id=u'Q81Q8YE8GqmLqG4-jouVZA', business_review_count=3, count=3),\n",
       " Row(business_id=u'w8PBJExdvnPM_C0Wq_hL0g', business_review_count=3, count=3),\n",
       " Row(business_id=u'Va0hedZQH9aoMDxuDCZ2qg', business_review_count=3, count=3),\n",
       " Row(business_id=u'GKnYP4axN4f2gjYm_MgY6g', business_review_count=3, count=3),\n",
       " Row(business_id=u'qmctaQ2PqZRBdrg18TOU9w', business_review_count=3, count=3),\n",
       " Row(business_id=u'HUZovVc8erN08q8-Bt7Szw', business_review_count=3, count=3),\n",
       " Row(business_id=u'X20OIKcQnESnExiqD9_t9g', business_review_count=3, count=3),\n",
       " Row(business_id=u'4SPreBzBMbTA1PbvUGU1vw', business_review_count=3, count=3),\n",
       " Row(business_id=u'1p4B2K4gi5nqR6C9x9AhxA', business_review_count=3, count=3),\n",
       " Row(business_id=u'yGuz3w_gXFyn9odKkn5DDg', business_review_count=3, count=3),\n",
       " Row(business_id=u'l8yj8Z69Kun2FriFPcnViQ', business_review_count=3, count=3),\n",
       " Row(business_id=u'wKm7tCyMsehWgphTrdJsfA', business_review_count=3, count=3),\n",
       " Row(business_id=u'MZGpgB8-zBMN62p0iNKsKw', business_review_count=3, count=3),\n",
       " Row(business_id=u'8wDBrUPxtr94ThJQ6WjD3A', business_review_count=3, count=3),\n",
       " Row(business_id=u'K_p4VMcJ64GsDg_jmfqOPw', business_review_count=3, count=3),\n",
       " Row(business_id=u'4V1bOWHLpepjn126M6fHrg', business_review_count=3, count=3),\n",
       " Row(business_id=u'B4TY_GCJl5z4b42fJrkmqA', business_review_count=3, count=3),\n",
       " Row(business_id=u'4Sw949z60DupwinXF14IpA', business_review_count=3, count=3),\n",
       " Row(business_id=u'EQ_xWS55psSTwWwaagVTDQ', business_review_count=3, count=3),\n",
       " Row(business_id=u'ZmKEOQDkA0qYcPlrgLezmg', business_review_count=3, count=3),\n",
       " Row(business_id=u'fcGCuWpXCh2eLZoIpU1AzQ', business_review_count=3, count=3),\n",
       " Row(business_id=u'obXqyHC8OBniyTRWfBQo2A', business_review_count=3, count=3),\n",
       " Row(business_id=u'5CNZG9BRzI3IsSmPjpg2Xw', business_review_count=3, count=3),\n",
       " Row(business_id=u'ohAU8bISMlhqda3qqE1iLQ', business_review_count=3, count=3),\n",
       " Row(business_id=u'FpxFNBdL9V8Y7xN6fFW7kA', business_review_count=3, count=3),\n",
       " Row(business_id=u'LKYrQ1UZ18x70YgEfR8s5g', business_review_count=3, count=3),\n",
       " Row(business_id=u'MlqmLzt01Fs5EJE4TzkrrQ', business_review_count=3, count=3),\n",
       " Row(business_id=u'bEDXAOVuwgGJ5n_Z7iuPjQ', business_review_count=3, count=3),\n",
       " Row(business_id=u'dtW8dDAh_KD3LAFAd_y8lw', business_review_count=3, count=3),\n",
       " Row(business_id=u'tmH-ARxe5rmtyJ4hEXN-LA', business_review_count=3, count=3),\n",
       " Row(business_id=u'tAtIQGO0JbJFBuM_zcQ_0w', business_review_count=3, count=3),\n",
       " Row(business_id=u'KSGgGyX2WehScEs3xqjAzg', business_review_count=3, count=3),\n",
       " Row(business_id=u'xZyltUBb0qla-MMQLhrVIg', business_review_count=3, count=3),\n",
       " Row(business_id=u'bukZAbCoHgCi-IN91r04bQ', business_review_count=3, count=3),\n",
       " Row(business_id=u'y6t8Fy5rccRuB9z8odYNuQ', business_review_count=3, count=3),\n",
       " Row(business_id=u'JFPmKPRjoBukISOLxS0UCA', business_review_count=3, count=3),\n",
       " Row(business_id=u'1A3uYPr5QrPZmBEy4e1UxQ', business_review_count=3, count=3),\n",
       " Row(business_id=u'rpg3Zyr-YUhEvnvcK4cGuw', business_review_count=3, count=3),\n",
       " Row(business_id=u'j1fyIuQwrJWHJwR38UMysQ', business_review_count=3, count=3),\n",
       " Row(business_id=u'MrrE1Ut6Mzi9Vyo0ULH9ZA', business_review_count=3, count=3),\n",
       " Row(business_id=u'Yfv6gPNdLomtKqFaiM3yFQ', business_review_count=3, count=3),\n",
       " Row(business_id=u'YReWPXJZ7jOTE-FB2wYPvw', business_review_count=3, count=3),\n",
       " Row(business_id=u'uB2Eyyr51fdBCQmpylKjxQ', business_review_count=3, count=3),\n",
       " Row(business_id=u'Ul8XmXst70Z6nUoLIbfgbg', business_review_count=3, count=3),\n",
       " Row(business_id=u'4rPiZbqKZtTa2sc8atKs2A', business_review_count=3, count=3),\n",
       " Row(business_id=u'HvfB4kZf_XNp35uKCzzxwA', business_review_count=3, count=3),\n",
       " Row(business_id=u'6l8WydUS1faDhOZWIeILbw', business_review_count=3, count=3),\n",
       " Row(business_id=u'8c_e0TwxSDnRSBYnw8j2Bw', business_review_count=3, count=3),\n",
       " Row(business_id=u'XDNL2h_nZb5GbGoB0HWmKg', business_review_count=3, count=3),\n",
       " Row(business_id=u'J4bGFF3EM-Sf00fPKxEpSg', business_review_count=3, count=3),\n",
       " Row(business_id=u'lbTwhLVVWrdZz0DtrO208A', business_review_count=3, count=3),\n",
       " Row(business_id=u'y5wfzC0d-LOXVSAH88CSBA', business_review_count=3, count=3),\n",
       " Row(business_id=u'yFKXkUvUAJ2htaSg3JdxPA', business_review_count=3, count=3),\n",
       " Row(business_id=u'DN3c3ANXoQ8E1tfrrDQSBg', business_review_count=3, count=3),\n",
       " Row(business_id=u'z3reQo0VWJtAg29xKp1wHA', business_review_count=3, count=3),\n",
       " Row(business_id=u'RxrTvWN2Fn9LRkFxD3LIXQ', business_review_count=3, count=3),\n",
       " Row(business_id=u'OWw5_o8eLkWs5pJLCfjWeQ', business_review_count=3, count=3),\n",
       " Row(business_id=u'YYCmBcK3zgBakjMpggyorA', business_review_count=3, count=3),\n",
       " Row(business_id=u'TWUJTrNfobnbzQiEfZOytA', business_review_count=3, count=3),\n",
       " Row(business_id=u'ocxgCD2LukKZqMrsm-Ov7g', business_review_count=3, count=3),\n",
       " Row(business_id=u'_8aBU2J1MZR1Sms9RqLmYA', business_review_count=3, count=3),\n",
       " Row(business_id=u'J-YcXd_F5w2bxOJJojwClQ', business_review_count=3, count=3),\n",
       " Row(business_id=u'slvxNyRMwY52Xd9Cd5ElEA', business_review_count=3, count=3),\n",
       " Row(business_id=u'2Smvl8BWpiY6MDxpjGRTxQ', business_review_count=3, count=3),\n",
       " Row(business_id=u'nOPZjXboGsyPHn3B8IOFfg', business_review_count=3, count=3),\n",
       " Row(business_id=u'Qb6ehMYZbSmgIca_XTiPEQ', business_review_count=3, count=3),\n",
       " Row(business_id=u'wZEK7GmLJ3hmkYBiRCo4Qw', business_review_count=3, count=3),\n",
       " Row(business_id=u'MsKeshCDxuFda6Pl-yUVBQ', business_review_count=3, count=3),\n",
       " Row(business_id=u'TOtR5q1YzrIw5SlX1xzl9w', business_review_count=3, count=3),\n",
       " Row(business_id=u'nQGp1dmlbGarKVSB0AWxIw', business_review_count=3, count=3),\n",
       " Row(business_id=u'HFmOJM_sBPb4AZTzzUU4AQ', business_review_count=3, count=3),\n",
       " Row(business_id=u'KKlKPqsL_EzySjEaDJjWIA', business_review_count=3, count=3),\n",
       " Row(business_id=u'hkoqV51IV875Jdzspa7lkA', business_review_count=3, count=3),\n",
       " Row(business_id=u'qRzYUw0wEfITRDv9cGQVYQ', business_review_count=3, count=3),\n",
       " Row(business_id=u'WxGM94Zwf4DNCTaxKxax7w', business_review_count=3, count=3),\n",
       " Row(business_id=u'ZZn2sUiOBJZqPZyD8Gkf_g', business_review_count=3, count=3),\n",
       " Row(business_id=u'5qGL-boVb9RuABKm8SE0IA', business_review_count=3, count=3),\n",
       " Row(business_id=u'HzMB1cA6BwqCirmImNzrlA', business_review_count=3, count=3),\n",
       " Row(business_id=u'GwYw2PKAi_u4EF0CTutMEQ', business_review_count=3, count=3),\n",
       " Row(business_id=u'92AomReWihIW4fEWcbyhYg', business_review_count=3, count=3),\n",
       " Row(business_id=u'ZYsZaKswXC1BBnzqRqrkcg', business_review_count=3, count=3),\n",
       " Row(business_id=u'sTXzcfl7F47TpERxOLHJYw', business_review_count=3, count=3),\n",
       " Row(business_id=u'ORCzorUC0f7uc6yo3K0S2g', business_review_count=3, count=3),\n",
       " Row(business_id=u'vdTCYGjucPwua9AxQeCvUg', business_review_count=3, count=3),\n",
       " Row(business_id=u'E1gI0BKTnQDMUAiYeiaFAw', business_review_count=3, count=3),\n",
       " Row(business_id=u'QCT2pSYS2P_2ds5n5w9rnw', business_review_count=3, count=3),\n",
       " Row(business_id=u'FmZMn8-sjyTpOX7orjnt-g', business_review_count=3, count=3),\n",
       " Row(business_id=u'ecbZMKIRXJ2I8rmymMX1vw', business_review_count=3, count=3),\n",
       " Row(business_id=u'p1NFcMFmmBlxfJ0FNXmRhA', business_review_count=3, count=3),\n",
       " Row(business_id=u'ITnotbgGfzx8J5rDiUeD3A', business_review_count=3, count=3),\n",
       " Row(business_id=u'Xpu0xRtbZ7Yjx0VQxxCrzA', business_review_count=3, count=3),\n",
       " Row(business_id=u'xK4K5OwcYU0UjrWwEVHRCw', business_review_count=3, count=3),\n",
       " Row(business_id=u'bVpKmZlSvjSBisd0W6XcYg', business_review_count=3, count=3),\n",
       " Row(business_id=u'SINfZO1pBYTrrOxA4ANuXw', business_review_count=3, count=3),\n",
       " Row(business_id=u'iQfx6lghJJbrb-fz-toOCQ', business_review_count=3, count=3),\n",
       " Row(business_id=u'ckevgV4hJkFrrXOUP_BYgQ', business_review_count=3, count=3),\n",
       " Row(business_id=u'x7UPFypUXy9cvW4N69LKKQ', business_review_count=3, count=3),\n",
       " ...]"
      ]
     },
     "execution_count": 14,
     "metadata": {},
     "output_type": "execute_result"
    }
   ],
   "source": [
    "# calculate maximum number of \"reviews\" per venue for the whole dataset\n",
    "review_business.groupBy(review_business.business_id, review_business.business_review_count).count().orderBy('count').collect()"
   ]
  },
  {
   "cell_type": "code",
   "execution_count": 14,
   "metadata": {
    "collapsed": false
   },
   "outputs": [
    {
     "ename": "Py4JJavaError",
     "evalue": "An error occurred while calling o75.collectToPython.\n: java.lang.OutOfMemoryError: GC overhead limit exceeded\n\tat org.apache.spark.sql.execution.SparkPlan$$anon$1.next(SparkPlan.scala:261)\n\tat org.apache.spark.sql.execution.SparkPlan$$anon$1.next(SparkPlan.scala:257)\n\tat scala.collection.Iterator$class.foreach(Iterator.scala:893)\n\tat org.apache.spark.sql.execution.SparkPlan$$anon$1.foreach(SparkPlan.scala:257)\n\tat org.apache.spark.sql.execution.SparkPlan$$anonfun$executeCollect$1.apply(SparkPlan.scala:279)\n\tat org.apache.spark.sql.execution.SparkPlan$$anonfun$executeCollect$1.apply(SparkPlan.scala:278)\n\tat scala.collection.IndexedSeqOptimized$class.foreach(IndexedSeqOptimized.scala:33)\n\tat scala.collection.mutable.ArrayOps$ofRef.foreach(ArrayOps.scala:186)\n\tat org.apache.spark.sql.execution.SparkPlan.executeCollect(SparkPlan.scala:278)\n\tat org.apache.spark.sql.Dataset$$anonfun$collectToPython$1.apply$mcI$sp(Dataset.scala:2803)\n\tat org.apache.spark.sql.Dataset$$anonfun$collectToPython$1.apply(Dataset.scala:2800)\n\tat org.apache.spark.sql.Dataset$$anonfun$collectToPython$1.apply(Dataset.scala:2800)\n\tat org.apache.spark.sql.execution.SQLExecution$.withNewExecutionId(SQLExecution.scala:65)\n\tat org.apache.spark.sql.Dataset.withNewExecutionId(Dataset.scala:2823)\n\tat org.apache.spark.sql.Dataset.collectToPython(Dataset.scala:2800)\n\tat sun.reflect.NativeMethodAccessorImpl.invoke0(Native Method)\n\tat sun.reflect.NativeMethodAccessorImpl.invoke(NativeMethodAccessorImpl.java:62)\n\tat sun.reflect.DelegatingMethodAccessorImpl.invoke(DelegatingMethodAccessorImpl.java:43)\n\tat java.lang.reflect.Method.invoke(Method.java:498)\n\tat py4j.reflection.MethodInvoker.invoke(MethodInvoker.java:244)\n\tat py4j.reflection.ReflectionEngine.invoke(ReflectionEngine.java:357)\n\tat py4j.Gateway.invoke(Gateway.java:280)\n\tat py4j.commands.AbstractCommand.invokeMethod(AbstractCommand.java:132)\n\tat py4j.commands.CallCommand.execute(CallCommand.java:79)\n\tat py4j.GatewayConnection.run(GatewayConnection.java:214)\n\tat java.lang.Thread.run(Thread.java:748)\n",
     "output_type": "error",
     "traceback": [
      "\u001b[0;31m---------------------------------------------------------------------------\u001b[0m",
      "\u001b[0;31mPy4JJavaError\u001b[0m                             Traceback (most recent call last)",
      "\u001b[0;32m<ipython-input-14-7c2e0a500b95>\u001b[0m in \u001b[0;36m<module>\u001b[0;34m()\u001b[0m\n\u001b[0;32m----> 1\u001b[0;31m \u001b[0mget_ipython\u001b[0m\u001b[0;34m(\u001b[0m\u001b[0;34m)\u001b[0m\u001b[0;34m.\u001b[0m\u001b[0mrun_cell_magic\u001b[0m\u001b[0;34m(\u001b[0m\u001b[0;34mu'time'\u001b[0m\u001b[0;34m,\u001b[0m \u001b[0;34mu''\u001b[0m\u001b[0;34m,\u001b[0m \u001b[0;34mu'import time\\nstart_time = time.time()\\n_review_business = review_business.toPandas()\\nprint(\"--- %s seconds ---\" % (time.time() - start_time))'\u001b[0m\u001b[0;34m)\u001b[0m\u001b[0;34m\u001b[0m\u001b[0m\n\u001b[0m",
      "\u001b[0;32m/Users/admin/anaconda/lib/python2.7/site-packages/IPython/core/interactiveshell.pyc\u001b[0m in \u001b[0;36mrun_cell_magic\u001b[0;34m(self, magic_name, line, cell)\u001b[0m\n\u001b[1;32m   2101\u001b[0m             \u001b[0mmagic_arg_s\u001b[0m \u001b[0;34m=\u001b[0m \u001b[0mself\u001b[0m\u001b[0;34m.\u001b[0m\u001b[0mvar_expand\u001b[0m\u001b[0;34m(\u001b[0m\u001b[0mline\u001b[0m\u001b[0;34m,\u001b[0m \u001b[0mstack_depth\u001b[0m\u001b[0;34m)\u001b[0m\u001b[0;34m\u001b[0m\u001b[0m\n\u001b[1;32m   2102\u001b[0m             \u001b[0;32mwith\u001b[0m \u001b[0mself\u001b[0m\u001b[0;34m.\u001b[0m\u001b[0mbuiltin_trap\u001b[0m\u001b[0;34m:\u001b[0m\u001b[0;34m\u001b[0m\u001b[0m\n\u001b[0;32m-> 2103\u001b[0;31m                 \u001b[0mresult\u001b[0m \u001b[0;34m=\u001b[0m \u001b[0mfn\u001b[0m\u001b[0;34m(\u001b[0m\u001b[0mmagic_arg_s\u001b[0m\u001b[0;34m,\u001b[0m \u001b[0mcell\u001b[0m\u001b[0;34m)\u001b[0m\u001b[0;34m\u001b[0m\u001b[0m\n\u001b[0m\u001b[1;32m   2104\u001b[0m             \u001b[0;32mreturn\u001b[0m \u001b[0mresult\u001b[0m\u001b[0;34m\u001b[0m\u001b[0m\n\u001b[1;32m   2105\u001b[0m \u001b[0;34m\u001b[0m\u001b[0m\n",
      "\u001b[0;32m<decorator-gen-59>\u001b[0m in \u001b[0;36mtime\u001b[0;34m(self, line, cell, local_ns)\u001b[0m\n",
      "\u001b[0;32m/Users/admin/anaconda/lib/python2.7/site-packages/IPython/core/magic.pyc\u001b[0m in \u001b[0;36m<lambda>\u001b[0;34m(f, *a, **k)\u001b[0m\n\u001b[1;32m    186\u001b[0m     \u001b[0;31m# but it's overkill for just that one bit of state.\u001b[0m\u001b[0;34m\u001b[0m\u001b[0;34m\u001b[0m\u001b[0m\n\u001b[1;32m    187\u001b[0m     \u001b[0;32mdef\u001b[0m \u001b[0mmagic_deco\u001b[0m\u001b[0;34m(\u001b[0m\u001b[0marg\u001b[0m\u001b[0;34m)\u001b[0m\u001b[0;34m:\u001b[0m\u001b[0;34m\u001b[0m\u001b[0m\n\u001b[0;32m--> 188\u001b[0;31m         \u001b[0mcall\u001b[0m \u001b[0;34m=\u001b[0m \u001b[0;32mlambda\u001b[0m \u001b[0mf\u001b[0m\u001b[0;34m,\u001b[0m \u001b[0;34m*\u001b[0m\u001b[0ma\u001b[0m\u001b[0;34m,\u001b[0m \u001b[0;34m**\u001b[0m\u001b[0mk\u001b[0m\u001b[0;34m:\u001b[0m \u001b[0mf\u001b[0m\u001b[0;34m(\u001b[0m\u001b[0;34m*\u001b[0m\u001b[0ma\u001b[0m\u001b[0;34m,\u001b[0m \u001b[0;34m**\u001b[0m\u001b[0mk\u001b[0m\u001b[0;34m)\u001b[0m\u001b[0;34m\u001b[0m\u001b[0m\n\u001b[0m\u001b[1;32m    189\u001b[0m \u001b[0;34m\u001b[0m\u001b[0m\n\u001b[1;32m    190\u001b[0m         \u001b[0;32mif\u001b[0m \u001b[0mcallable\u001b[0m\u001b[0;34m(\u001b[0m\u001b[0marg\u001b[0m\u001b[0;34m)\u001b[0m\u001b[0;34m:\u001b[0m\u001b[0;34m\u001b[0m\u001b[0m\n",
      "\u001b[0;32m/Users/admin/anaconda/lib/python2.7/site-packages/IPython/core/magics/execution.pyc\u001b[0m in \u001b[0;36mtime\u001b[0;34m(self, line, cell, local_ns)\u001b[0m\n\u001b[1;32m   1174\u001b[0m         \u001b[0;32melse\u001b[0m\u001b[0;34m:\u001b[0m\u001b[0;34m\u001b[0m\u001b[0m\n\u001b[1;32m   1175\u001b[0m             \u001b[0mst\u001b[0m \u001b[0;34m=\u001b[0m \u001b[0mclock2\u001b[0m\u001b[0;34m(\u001b[0m\u001b[0;34m)\u001b[0m\u001b[0;34m\u001b[0m\u001b[0m\n\u001b[0;32m-> 1176\u001b[0;31m             \u001b[0;32mexec\u001b[0m\u001b[0;34m(\u001b[0m\u001b[0mcode\u001b[0m\u001b[0;34m,\u001b[0m \u001b[0mglob\u001b[0m\u001b[0;34m,\u001b[0m \u001b[0mlocal_ns\u001b[0m\u001b[0;34m)\u001b[0m\u001b[0;34m\u001b[0m\u001b[0m\n\u001b[0m\u001b[1;32m   1177\u001b[0m             \u001b[0mend\u001b[0m \u001b[0;34m=\u001b[0m \u001b[0mclock2\u001b[0m\u001b[0;34m(\u001b[0m\u001b[0;34m)\u001b[0m\u001b[0;34m\u001b[0m\u001b[0m\n\u001b[1;32m   1178\u001b[0m             \u001b[0mout\u001b[0m \u001b[0;34m=\u001b[0m \u001b[0mNone\u001b[0m\u001b[0;34m\u001b[0m\u001b[0m\n",
      "\u001b[0;32m<timed exec>\u001b[0m in \u001b[0;36m<module>\u001b[0;34m()\u001b[0m\n",
      "\u001b[0;32m/Users/admin/anaconda/lib/python2.7/site-packages/pyspark/sql/dataframe.pyc\u001b[0m in \u001b[0;36mtoPandas\u001b[0;34m(self)\u001b[0m\n\u001b[1;32m   1701\u001b[0m         \"\"\"\n\u001b[1;32m   1702\u001b[0m         \u001b[0;32mimport\u001b[0m \u001b[0mpandas\u001b[0m \u001b[0;32mas\u001b[0m \u001b[0mpd\u001b[0m\u001b[0;34m\u001b[0m\u001b[0m\n\u001b[0;32m-> 1703\u001b[0;31m         \u001b[0;32mreturn\u001b[0m \u001b[0mpd\u001b[0m\u001b[0;34m.\u001b[0m\u001b[0mDataFrame\u001b[0m\u001b[0;34m.\u001b[0m\u001b[0mfrom_records\u001b[0m\u001b[0;34m(\u001b[0m\u001b[0mself\u001b[0m\u001b[0;34m.\u001b[0m\u001b[0mcollect\u001b[0m\u001b[0;34m(\u001b[0m\u001b[0;34m)\u001b[0m\u001b[0;34m,\u001b[0m \u001b[0mcolumns\u001b[0m\u001b[0;34m=\u001b[0m\u001b[0mself\u001b[0m\u001b[0;34m.\u001b[0m\u001b[0mcolumns\u001b[0m\u001b[0;34m)\u001b[0m\u001b[0;34m\u001b[0m\u001b[0m\n\u001b[0m\u001b[1;32m   1704\u001b[0m \u001b[0;34m\u001b[0m\u001b[0m\n\u001b[1;32m   1705\u001b[0m     \u001b[0;31m##########################################################################################\u001b[0m\u001b[0;34m\u001b[0m\u001b[0;34m\u001b[0m\u001b[0m\n",
      "\u001b[0;32m/Users/admin/anaconda/lib/python2.7/site-packages/pyspark/sql/dataframe.pyc\u001b[0m in \u001b[0;36mcollect\u001b[0;34m(self)\u001b[0m\n\u001b[1;32m    436\u001b[0m         \"\"\"\n\u001b[1;32m    437\u001b[0m         \u001b[0;32mwith\u001b[0m \u001b[0mSCCallSiteSync\u001b[0m\u001b[0;34m(\u001b[0m\u001b[0mself\u001b[0m\u001b[0;34m.\u001b[0m\u001b[0m_sc\u001b[0m\u001b[0;34m)\u001b[0m \u001b[0;32mas\u001b[0m \u001b[0mcss\u001b[0m\u001b[0;34m:\u001b[0m\u001b[0;34m\u001b[0m\u001b[0m\n\u001b[0;32m--> 438\u001b[0;31m             \u001b[0mport\u001b[0m \u001b[0;34m=\u001b[0m \u001b[0mself\u001b[0m\u001b[0;34m.\u001b[0m\u001b[0m_jdf\u001b[0m\u001b[0;34m.\u001b[0m\u001b[0mcollectToPython\u001b[0m\u001b[0;34m(\u001b[0m\u001b[0;34m)\u001b[0m\u001b[0;34m\u001b[0m\u001b[0m\n\u001b[0m\u001b[1;32m    439\u001b[0m         \u001b[0;32mreturn\u001b[0m \u001b[0mlist\u001b[0m\u001b[0;34m(\u001b[0m\u001b[0m_load_from_socket\u001b[0m\u001b[0;34m(\u001b[0m\u001b[0mport\u001b[0m\u001b[0;34m,\u001b[0m \u001b[0mBatchedSerializer\u001b[0m\u001b[0;34m(\u001b[0m\u001b[0mPickleSerializer\u001b[0m\u001b[0;34m(\u001b[0m\u001b[0;34m)\u001b[0m\u001b[0;34m)\u001b[0m\u001b[0;34m)\u001b[0m\u001b[0;34m)\u001b[0m\u001b[0;34m\u001b[0m\u001b[0m\n\u001b[1;32m    440\u001b[0m \u001b[0;34m\u001b[0m\u001b[0m\n",
      "\u001b[0;32m/Users/admin/anaconda/lib/python2.7/site-packages/pyspark/python/lib/py4j-0.10.4-src.zip/py4j/java_gateway.py\u001b[0m in \u001b[0;36m__call__\u001b[0;34m(self, *args)\u001b[0m\n\u001b[1;32m   1131\u001b[0m         \u001b[0manswer\u001b[0m \u001b[0;34m=\u001b[0m \u001b[0mself\u001b[0m\u001b[0;34m.\u001b[0m\u001b[0mgateway_client\u001b[0m\u001b[0;34m.\u001b[0m\u001b[0msend_command\u001b[0m\u001b[0;34m(\u001b[0m\u001b[0mcommand\u001b[0m\u001b[0;34m)\u001b[0m\u001b[0;34m\u001b[0m\u001b[0m\n\u001b[1;32m   1132\u001b[0m         return_value = get_return_value(\n\u001b[0;32m-> 1133\u001b[0;31m             answer, self.gateway_client, self.target_id, self.name)\n\u001b[0m\u001b[1;32m   1134\u001b[0m \u001b[0;34m\u001b[0m\u001b[0m\n\u001b[1;32m   1135\u001b[0m         \u001b[0;32mfor\u001b[0m \u001b[0mtemp_arg\u001b[0m \u001b[0;32min\u001b[0m \u001b[0mtemp_args\u001b[0m\u001b[0;34m:\u001b[0m\u001b[0;34m\u001b[0m\u001b[0m\n",
      "\u001b[0;32m/Users/admin/anaconda/lib/python2.7/site-packages/pyspark/sql/utils.pyc\u001b[0m in \u001b[0;36mdeco\u001b[0;34m(*a, **kw)\u001b[0m\n\u001b[1;32m     61\u001b[0m     \u001b[0;32mdef\u001b[0m \u001b[0mdeco\u001b[0m\u001b[0;34m(\u001b[0m\u001b[0;34m*\u001b[0m\u001b[0ma\u001b[0m\u001b[0;34m,\u001b[0m \u001b[0;34m**\u001b[0m\u001b[0mkw\u001b[0m\u001b[0;34m)\u001b[0m\u001b[0;34m:\u001b[0m\u001b[0;34m\u001b[0m\u001b[0m\n\u001b[1;32m     62\u001b[0m         \u001b[0;32mtry\u001b[0m\u001b[0;34m:\u001b[0m\u001b[0;34m\u001b[0m\u001b[0m\n\u001b[0;32m---> 63\u001b[0;31m             \u001b[0;32mreturn\u001b[0m \u001b[0mf\u001b[0m\u001b[0;34m(\u001b[0m\u001b[0;34m*\u001b[0m\u001b[0ma\u001b[0m\u001b[0;34m,\u001b[0m \u001b[0;34m**\u001b[0m\u001b[0mkw\u001b[0m\u001b[0;34m)\u001b[0m\u001b[0;34m\u001b[0m\u001b[0m\n\u001b[0m\u001b[1;32m     64\u001b[0m         \u001b[0;32mexcept\u001b[0m \u001b[0mpy4j\u001b[0m\u001b[0;34m.\u001b[0m\u001b[0mprotocol\u001b[0m\u001b[0;34m.\u001b[0m\u001b[0mPy4JJavaError\u001b[0m \u001b[0;32mas\u001b[0m \u001b[0me\u001b[0m\u001b[0;34m:\u001b[0m\u001b[0;34m\u001b[0m\u001b[0m\n\u001b[1;32m     65\u001b[0m             \u001b[0ms\u001b[0m \u001b[0;34m=\u001b[0m \u001b[0me\u001b[0m\u001b[0;34m.\u001b[0m\u001b[0mjava_exception\u001b[0m\u001b[0;34m.\u001b[0m\u001b[0mtoString\u001b[0m\u001b[0;34m(\u001b[0m\u001b[0;34m)\u001b[0m\u001b[0;34m\u001b[0m\u001b[0m\n",
      "\u001b[0;32m/Users/admin/anaconda/lib/python2.7/site-packages/pyspark/python/lib/py4j-0.10.4-src.zip/py4j/protocol.py\u001b[0m in \u001b[0;36mget_return_value\u001b[0;34m(answer, gateway_client, target_id, name)\u001b[0m\n\u001b[1;32m    317\u001b[0m                 raise Py4JJavaError(\n\u001b[1;32m    318\u001b[0m                     \u001b[0;34m\"An error occurred while calling {0}{1}{2}.\\n\"\u001b[0m\u001b[0;34m.\u001b[0m\u001b[0;34m\u001b[0m\u001b[0m\n\u001b[0;32m--> 319\u001b[0;31m                     format(target_id, \".\", name), value)\n\u001b[0m\u001b[1;32m    320\u001b[0m             \u001b[0;32melse\u001b[0m\u001b[0;34m:\u001b[0m\u001b[0;34m\u001b[0m\u001b[0m\n\u001b[1;32m    321\u001b[0m                 raise Py4JError(\n",
      "\u001b[0;31mPy4JJavaError\u001b[0m: An error occurred while calling o75.collectToPython.\n: java.lang.OutOfMemoryError: GC overhead limit exceeded\n\tat org.apache.spark.sql.execution.SparkPlan$$anon$1.next(SparkPlan.scala:261)\n\tat org.apache.spark.sql.execution.SparkPlan$$anon$1.next(SparkPlan.scala:257)\n\tat scala.collection.Iterator$class.foreach(Iterator.scala:893)\n\tat org.apache.spark.sql.execution.SparkPlan$$anon$1.foreach(SparkPlan.scala:257)\n\tat org.apache.spark.sql.execution.SparkPlan$$anonfun$executeCollect$1.apply(SparkPlan.scala:279)\n\tat org.apache.spark.sql.execution.SparkPlan$$anonfun$executeCollect$1.apply(SparkPlan.scala:278)\n\tat scala.collection.IndexedSeqOptimized$class.foreach(IndexedSeqOptimized.scala:33)\n\tat scala.collection.mutable.ArrayOps$ofRef.foreach(ArrayOps.scala:186)\n\tat org.apache.spark.sql.execution.SparkPlan.executeCollect(SparkPlan.scala:278)\n\tat org.apache.spark.sql.Dataset$$anonfun$collectToPython$1.apply$mcI$sp(Dataset.scala:2803)\n\tat org.apache.spark.sql.Dataset$$anonfun$collectToPython$1.apply(Dataset.scala:2800)\n\tat org.apache.spark.sql.Dataset$$anonfun$collectToPython$1.apply(Dataset.scala:2800)\n\tat org.apache.spark.sql.execution.SQLExecution$.withNewExecutionId(SQLExecution.scala:65)\n\tat org.apache.spark.sql.Dataset.withNewExecutionId(Dataset.scala:2823)\n\tat org.apache.spark.sql.Dataset.collectToPython(Dataset.scala:2800)\n\tat sun.reflect.NativeMethodAccessorImpl.invoke0(Native Method)\n\tat sun.reflect.NativeMethodAccessorImpl.invoke(NativeMethodAccessorImpl.java:62)\n\tat sun.reflect.DelegatingMethodAccessorImpl.invoke(DelegatingMethodAccessorImpl.java:43)\n\tat java.lang.reflect.Method.invoke(Method.java:498)\n\tat py4j.reflection.MethodInvoker.invoke(MethodInvoker.java:244)\n\tat py4j.reflection.ReflectionEngine.invoke(ReflectionEngine.java:357)\n\tat py4j.Gateway.invoke(Gateway.java:280)\n\tat py4j.commands.AbstractCommand.invokeMethod(AbstractCommand.java:132)\n\tat py4j.commands.CallCommand.execute(CallCommand.java:79)\n\tat py4j.GatewayConnection.run(GatewayConnection.java:214)\n\tat java.lang.Thread.run(Thread.java:748)\n"
     ]
    }
   ],
   "source": [
    "%%time\n",
    "import time\n",
    "start_time = time.time()\n",
    "_review_business = review_business.toPandas()\n",
    "print(\"--- %s seconds ---\" % (time.time() - start_time))"
   ]
  },
  {
   "cell_type": "markdown",
   "metadata": {},
   "source": [
    "## Error msg from Terminal\n",
    "#### Exception in thread \"refresh progress\" Exception in thread \"dispatcher-event-loop-3\" java.lang.OutOfMemoryError: GC overhead limit exceeded\n",
    "\tat org.apache.spark.ui.ConsoleProgressBar.org$apache$spark$ui$ConsoleProgressBar$$refresh(ConsoleProgressBar.scala:69)\n",
    "\tat org.apache.spark.ui.ConsoleProgressBar$$anon$1.run(ConsoleProgressBar.scala:55)\n",
    "\tat java.util.TimerThread.mainLoop(Timer.java:555)\n",
    "\tat java.util.TimerThread.run(Timer.java:505)\n",
    "java.lang.OutOfMemoryError: GC overhead limit exceeded\n",
    "\tat java.util.concurrent.Executors$DefaultThreadFactory.newThread(Executors.java:612)\n",
    "\tat org.spark_project.guava.util.concurrent.ThreadFactoryBuilder$1.newThread(ThreadFactoryBuilder.java:162)\n",
    "\tat java.util.concurrent.ThreadPoolExecutor$Worker.<init>(ThreadPoolExecutor.java:619)\n",
    "\tat java.util.concurrent.ThreadPoolExecutor.addWorker(ThreadPoolExecutor.java:932)\n",
    "\tat java.util.concurrent.ThreadPoolExecutor.processWorkerExit(ThreadPoolExecutor.java:1025)\n",
    "\tat java.util.concurrent.ThreadPoolExecutor.runWorker(ThreadPoolExecutor.java:1167)\n",
    "\tat java.util.concurrent.ThreadPoolExecutor$Worker.run(ThreadPoolExecutor.java:624)\n",
    "\tat java.lang.Thread.run(Thread.java:748)\n",
    "\n",
    "\n",
    "\n"
   ]
  },
  {
   "cell_type": "markdown",
   "metadata": {},
   "source": [
    "# Retrieving big data from RDD to local machine"
   ]
  },
  {
   "cell_type": "markdown",
   "metadata": {},
   "source": [
    "## abuse RDD.Collect() \n",
    "Collect (Action) - Return all the elements of the dataset as an array at the driver program. This is usually useful after a filter or other operation that returns a sufficiently small subset of the data."
   ]
  },
  {
   "cell_type": "code",
   "execution_count": 16,
   "metadata": {
    "collapsed": false
   },
   "outputs": [
    {
     "ename": "Py4JJavaError",
     "evalue": "An error occurred while calling o75.collectToPython.\n: java.lang.OutOfMemoryError: GC overhead limit exceeded\n",
     "output_type": "error",
     "traceback": [
      "\u001b[0;31m---------------------------------------------------------------------------\u001b[0m",
      "\u001b[0;31mPy4JJavaError\u001b[0m                             Traceback (most recent call last)",
      "\u001b[0;32m<ipython-input-16-644bbad1298f>\u001b[0m in \u001b[0;36m<module>\u001b[0;34m()\u001b[0m\n\u001b[0;32m----> 1\u001b[0;31m \u001b[0mget_ipython\u001b[0m\u001b[0;34m(\u001b[0m\u001b[0;34m)\u001b[0m\u001b[0;34m.\u001b[0m\u001b[0mrun_cell_magic\u001b[0m\u001b[0;34m(\u001b[0m\u001b[0;34mu'time'\u001b[0m\u001b[0;34m,\u001b[0m \u001b[0;34mu''\u001b[0m\u001b[0;34m,\u001b[0m \u001b[0;34mu'review_business.collect()    '\u001b[0m\u001b[0;34m)\u001b[0m\u001b[0;34m\u001b[0m\u001b[0m\n\u001b[0m",
      "\u001b[0;32m/Users/admin/anaconda/lib/python2.7/site-packages/IPython/core/interactiveshell.pyc\u001b[0m in \u001b[0;36mrun_cell_magic\u001b[0;34m(self, magic_name, line, cell)\u001b[0m\n\u001b[1;32m   2101\u001b[0m             \u001b[0mmagic_arg_s\u001b[0m \u001b[0;34m=\u001b[0m \u001b[0mself\u001b[0m\u001b[0;34m.\u001b[0m\u001b[0mvar_expand\u001b[0m\u001b[0;34m(\u001b[0m\u001b[0mline\u001b[0m\u001b[0;34m,\u001b[0m \u001b[0mstack_depth\u001b[0m\u001b[0;34m)\u001b[0m\u001b[0;34m\u001b[0m\u001b[0m\n\u001b[1;32m   2102\u001b[0m             \u001b[0;32mwith\u001b[0m \u001b[0mself\u001b[0m\u001b[0;34m.\u001b[0m\u001b[0mbuiltin_trap\u001b[0m\u001b[0;34m:\u001b[0m\u001b[0;34m\u001b[0m\u001b[0m\n\u001b[0;32m-> 2103\u001b[0;31m                 \u001b[0mresult\u001b[0m \u001b[0;34m=\u001b[0m \u001b[0mfn\u001b[0m\u001b[0;34m(\u001b[0m\u001b[0mmagic_arg_s\u001b[0m\u001b[0;34m,\u001b[0m \u001b[0mcell\u001b[0m\u001b[0;34m)\u001b[0m\u001b[0;34m\u001b[0m\u001b[0m\n\u001b[0m\u001b[1;32m   2104\u001b[0m             \u001b[0;32mreturn\u001b[0m \u001b[0mresult\u001b[0m\u001b[0;34m\u001b[0m\u001b[0m\n\u001b[1;32m   2105\u001b[0m \u001b[0;34m\u001b[0m\u001b[0m\n",
      "\u001b[0;32m<decorator-gen-59>\u001b[0m in \u001b[0;36mtime\u001b[0;34m(self, line, cell, local_ns)\u001b[0m\n",
      "\u001b[0;32m/Users/admin/anaconda/lib/python2.7/site-packages/IPython/core/magic.pyc\u001b[0m in \u001b[0;36m<lambda>\u001b[0;34m(f, *a, **k)\u001b[0m\n\u001b[1;32m    186\u001b[0m     \u001b[0;31m# but it's overkill for just that one bit of state.\u001b[0m\u001b[0;34m\u001b[0m\u001b[0;34m\u001b[0m\u001b[0m\n\u001b[1;32m    187\u001b[0m     \u001b[0;32mdef\u001b[0m \u001b[0mmagic_deco\u001b[0m\u001b[0;34m(\u001b[0m\u001b[0marg\u001b[0m\u001b[0;34m)\u001b[0m\u001b[0;34m:\u001b[0m\u001b[0;34m\u001b[0m\u001b[0m\n\u001b[0;32m--> 188\u001b[0;31m         \u001b[0mcall\u001b[0m \u001b[0;34m=\u001b[0m \u001b[0;32mlambda\u001b[0m \u001b[0mf\u001b[0m\u001b[0;34m,\u001b[0m \u001b[0;34m*\u001b[0m\u001b[0ma\u001b[0m\u001b[0;34m,\u001b[0m \u001b[0;34m**\u001b[0m\u001b[0mk\u001b[0m\u001b[0;34m:\u001b[0m \u001b[0mf\u001b[0m\u001b[0;34m(\u001b[0m\u001b[0;34m*\u001b[0m\u001b[0ma\u001b[0m\u001b[0;34m,\u001b[0m \u001b[0;34m**\u001b[0m\u001b[0mk\u001b[0m\u001b[0;34m)\u001b[0m\u001b[0;34m\u001b[0m\u001b[0m\n\u001b[0m\u001b[1;32m    189\u001b[0m \u001b[0;34m\u001b[0m\u001b[0m\n\u001b[1;32m    190\u001b[0m         \u001b[0;32mif\u001b[0m \u001b[0mcallable\u001b[0m\u001b[0;34m(\u001b[0m\u001b[0marg\u001b[0m\u001b[0;34m)\u001b[0m\u001b[0;34m:\u001b[0m\u001b[0;34m\u001b[0m\u001b[0m\n",
      "\u001b[0;32m/Users/admin/anaconda/lib/python2.7/site-packages/IPython/core/magics/execution.pyc\u001b[0m in \u001b[0;36mtime\u001b[0;34m(self, line, cell, local_ns)\u001b[0m\n\u001b[1;32m   1170\u001b[0m         \u001b[0;32mif\u001b[0m \u001b[0mmode\u001b[0m\u001b[0;34m==\u001b[0m\u001b[0;34m'eval'\u001b[0m\u001b[0;34m:\u001b[0m\u001b[0;34m\u001b[0m\u001b[0m\n\u001b[1;32m   1171\u001b[0m             \u001b[0mst\u001b[0m \u001b[0;34m=\u001b[0m \u001b[0mclock2\u001b[0m\u001b[0;34m(\u001b[0m\u001b[0;34m)\u001b[0m\u001b[0;34m\u001b[0m\u001b[0m\n\u001b[0;32m-> 1172\u001b[0;31m             \u001b[0mout\u001b[0m \u001b[0;34m=\u001b[0m \u001b[0meval\u001b[0m\u001b[0;34m(\u001b[0m\u001b[0mcode\u001b[0m\u001b[0;34m,\u001b[0m \u001b[0mglob\u001b[0m\u001b[0;34m,\u001b[0m \u001b[0mlocal_ns\u001b[0m\u001b[0;34m)\u001b[0m\u001b[0;34m\u001b[0m\u001b[0m\n\u001b[0m\u001b[1;32m   1173\u001b[0m             \u001b[0mend\u001b[0m \u001b[0;34m=\u001b[0m \u001b[0mclock2\u001b[0m\u001b[0;34m(\u001b[0m\u001b[0;34m)\u001b[0m\u001b[0;34m\u001b[0m\u001b[0m\n\u001b[1;32m   1174\u001b[0m         \u001b[0;32melse\u001b[0m\u001b[0;34m:\u001b[0m\u001b[0;34m\u001b[0m\u001b[0m\n",
      "\u001b[0;32m<timed eval>\u001b[0m in \u001b[0;36m<module>\u001b[0;34m()\u001b[0m\n",
      "\u001b[0;32m/Users/admin/anaconda/lib/python2.7/site-packages/pyspark/sql/dataframe.pyc\u001b[0m in \u001b[0;36mcollect\u001b[0;34m(self)\u001b[0m\n\u001b[1;32m    436\u001b[0m         \"\"\"\n\u001b[1;32m    437\u001b[0m         \u001b[0;32mwith\u001b[0m \u001b[0mSCCallSiteSync\u001b[0m\u001b[0;34m(\u001b[0m\u001b[0mself\u001b[0m\u001b[0;34m.\u001b[0m\u001b[0m_sc\u001b[0m\u001b[0;34m)\u001b[0m \u001b[0;32mas\u001b[0m \u001b[0mcss\u001b[0m\u001b[0;34m:\u001b[0m\u001b[0;34m\u001b[0m\u001b[0m\n\u001b[0;32m--> 438\u001b[0;31m             \u001b[0mport\u001b[0m \u001b[0;34m=\u001b[0m \u001b[0mself\u001b[0m\u001b[0;34m.\u001b[0m\u001b[0m_jdf\u001b[0m\u001b[0;34m.\u001b[0m\u001b[0mcollectToPython\u001b[0m\u001b[0;34m(\u001b[0m\u001b[0;34m)\u001b[0m\u001b[0;34m\u001b[0m\u001b[0m\n\u001b[0m\u001b[1;32m    439\u001b[0m         \u001b[0;32mreturn\u001b[0m \u001b[0mlist\u001b[0m\u001b[0;34m(\u001b[0m\u001b[0m_load_from_socket\u001b[0m\u001b[0;34m(\u001b[0m\u001b[0mport\u001b[0m\u001b[0;34m,\u001b[0m \u001b[0mBatchedSerializer\u001b[0m\u001b[0;34m(\u001b[0m\u001b[0mPickleSerializer\u001b[0m\u001b[0;34m(\u001b[0m\u001b[0;34m)\u001b[0m\u001b[0;34m)\u001b[0m\u001b[0;34m)\u001b[0m\u001b[0;34m)\u001b[0m\u001b[0;34m\u001b[0m\u001b[0m\n\u001b[1;32m    440\u001b[0m \u001b[0;34m\u001b[0m\u001b[0m\n",
      "\u001b[0;32m/Users/admin/anaconda/lib/python2.7/site-packages/pyspark/python/lib/py4j-0.10.4-src.zip/py4j/java_gateway.py\u001b[0m in \u001b[0;36m__call__\u001b[0;34m(self, *args)\u001b[0m\n\u001b[1;32m   1131\u001b[0m         \u001b[0manswer\u001b[0m \u001b[0;34m=\u001b[0m \u001b[0mself\u001b[0m\u001b[0;34m.\u001b[0m\u001b[0mgateway_client\u001b[0m\u001b[0;34m.\u001b[0m\u001b[0msend_command\u001b[0m\u001b[0;34m(\u001b[0m\u001b[0mcommand\u001b[0m\u001b[0;34m)\u001b[0m\u001b[0;34m\u001b[0m\u001b[0m\n\u001b[1;32m   1132\u001b[0m         return_value = get_return_value(\n\u001b[0;32m-> 1133\u001b[0;31m             answer, self.gateway_client, self.target_id, self.name)\n\u001b[0m\u001b[1;32m   1134\u001b[0m \u001b[0;34m\u001b[0m\u001b[0m\n\u001b[1;32m   1135\u001b[0m         \u001b[0;32mfor\u001b[0m \u001b[0mtemp_arg\u001b[0m \u001b[0;32min\u001b[0m \u001b[0mtemp_args\u001b[0m\u001b[0;34m:\u001b[0m\u001b[0;34m\u001b[0m\u001b[0m\n",
      "\u001b[0;32m/Users/admin/anaconda/lib/python2.7/site-packages/pyspark/sql/utils.pyc\u001b[0m in \u001b[0;36mdeco\u001b[0;34m(*a, **kw)\u001b[0m\n\u001b[1;32m     61\u001b[0m     \u001b[0;32mdef\u001b[0m \u001b[0mdeco\u001b[0m\u001b[0;34m(\u001b[0m\u001b[0;34m*\u001b[0m\u001b[0ma\u001b[0m\u001b[0;34m,\u001b[0m \u001b[0;34m**\u001b[0m\u001b[0mkw\u001b[0m\u001b[0;34m)\u001b[0m\u001b[0;34m:\u001b[0m\u001b[0;34m\u001b[0m\u001b[0m\n\u001b[1;32m     62\u001b[0m         \u001b[0;32mtry\u001b[0m\u001b[0;34m:\u001b[0m\u001b[0;34m\u001b[0m\u001b[0m\n\u001b[0;32m---> 63\u001b[0;31m             \u001b[0;32mreturn\u001b[0m \u001b[0mf\u001b[0m\u001b[0;34m(\u001b[0m\u001b[0;34m*\u001b[0m\u001b[0ma\u001b[0m\u001b[0;34m,\u001b[0m \u001b[0;34m**\u001b[0m\u001b[0mkw\u001b[0m\u001b[0;34m)\u001b[0m\u001b[0;34m\u001b[0m\u001b[0m\n\u001b[0m\u001b[1;32m     64\u001b[0m         \u001b[0;32mexcept\u001b[0m \u001b[0mpy4j\u001b[0m\u001b[0;34m.\u001b[0m\u001b[0mprotocol\u001b[0m\u001b[0;34m.\u001b[0m\u001b[0mPy4JJavaError\u001b[0m \u001b[0;32mas\u001b[0m \u001b[0me\u001b[0m\u001b[0;34m:\u001b[0m\u001b[0;34m\u001b[0m\u001b[0m\n\u001b[1;32m     65\u001b[0m             \u001b[0ms\u001b[0m \u001b[0;34m=\u001b[0m \u001b[0me\u001b[0m\u001b[0;34m.\u001b[0m\u001b[0mjava_exception\u001b[0m\u001b[0;34m.\u001b[0m\u001b[0mtoString\u001b[0m\u001b[0;34m(\u001b[0m\u001b[0;34m)\u001b[0m\u001b[0;34m\u001b[0m\u001b[0m\n",
      "\u001b[0;32m/Users/admin/anaconda/lib/python2.7/site-packages/pyspark/python/lib/py4j-0.10.4-src.zip/py4j/protocol.py\u001b[0m in \u001b[0;36mget_return_value\u001b[0;34m(answer, gateway_client, target_id, name)\u001b[0m\n\u001b[1;32m    317\u001b[0m                 raise Py4JJavaError(\n\u001b[1;32m    318\u001b[0m                     \u001b[0;34m\"An error occurred while calling {0}{1}{2}.\\n\"\u001b[0m\u001b[0;34m.\u001b[0m\u001b[0;34m\u001b[0m\u001b[0m\n\u001b[0;32m--> 319\u001b[0;31m                     format(target_id, \".\", name), value)\n\u001b[0m\u001b[1;32m    320\u001b[0m             \u001b[0;32melse\u001b[0m\u001b[0;34m:\u001b[0m\u001b[0;34m\u001b[0m\u001b[0m\n\u001b[1;32m    321\u001b[0m                 raise Py4JError(\n",
      "\u001b[0;31mPy4JJavaError\u001b[0m: An error occurred while calling o75.collectToPython.\n: java.lang.OutOfMemoryError: GC overhead limit exceeded\n"
     ]
    }
   ],
   "source": [
    "%%time\n",
    "review_business.collect()    "
   ]
  },
  {
   "cell_type": "markdown",
   "metadata": {},
   "source": [
    "### Error before imcreasing driver maxResultSize \n",
    "####  size serialized results (1035.2 MB) is bigger than spark.driver.maxResultSize (1024.0 MB)\n",
    "Problem stems from RDD sends/collects (big chunk of) all the data (from different nodes) to the driver node."
   ]
  },
  {
   "cell_type": "markdown",
   "metadata": {},
   "source": [
    "### Easy temp fix is changing driver memory in spark instance. \n",
    "change spark.driver.maxResultSize by \n",
    "1. start pyspark w/ --conf spark.driver.maxResultSize=2g or\n",
    "2. see next cell"
   ]
  },
  {
   "cell_type": "code",
   "execution_count": 17,
   "metadata": {
    "collapsed": false
   },
   "outputs": [],
   "source": [
    "# from pyspark import SparkConf, SparkContext\n",
    "\n",
    "## In Jupyter you have to stop the current context first\n",
    "# spark.stop()"
   ]
  },
  {
   "cell_type": "code",
   "execution_count": 18,
   "metadata": {
    "collapsed": true
   },
   "outputs": [],
   "source": [
    "# del spark"
   ]
  },
  {
   "cell_type": "code",
   "execution_count": 19,
   "metadata": {
    "collapsed": false
   },
   "outputs": [],
   "source": [
    "## restart w/ driver.maxResultSize\n",
    "# spark = SparkSession \\\n",
    "#         .builder \\\n",
    "#         .master(\"yarn\") \\\n",
    "#         .appName(\"testing\") \\\n",
    "#         .config(\"spark.executor.instances\", \"4\") \\\n",
    "#         .config(\"spark.executor.memory\",\"2g\") \\\n",
    "#         .config(\"spark.driver.memory\",\"4g\") \\\n",
    "#         .config(\"spark.executor.cores\",'1') \\\n",
    "#         .config(\"spark.scheduler.mode\",\"FIFO\") \\\n",
    "#         .getOrCreate()\n",
    "##         .config(\"spark.driver.maxResultSize\", \"2g\") \\"
   ]
  },
  {
   "cell_type": "markdown",
   "metadata": {},
   "source": [
    "# ok well.. encountered some error while re-importing SparkSeesion even tho already \"del spark\" ... \n",
    "### will restart pyspark and specific that in terminal\n",
    "\n",
    "pyspark --master yarn --deploy-mode client --num-executors 4 --executor-memory 2g --driver-memory 4g --conf spark.driver.maxResultSize=3g"
   ]
  },
  {
   "cell_type": "code",
   "execution_count": 20,
   "metadata": {
    "collapsed": false
   },
   "outputs": [
    {
     "name": "stdout",
     "output_type": "stream",
     "text": [
      "CPU times: user 3 µs, sys: 1 µs, total: 4 µs\n",
      "Wall time: 14.1 µs\n"
     ]
    }
   ],
   "source": [
    "%%time\n",
    "# review_business.collect()     <<already executed above after we restart"
   ]
  },
  {
   "cell_type": "markdown",
   "metadata": {},
   "source": [
    "### Error after increasing driver maxResultSize:\n",
    "Py4JJavaError: An error occurred while calling o75.collectToPython.\n",
    ": java.lang.OutOfMemoryError: GC overhead limit exceeded"
   ]
  },
  {
   "cell_type": "markdown",
   "metadata": {},
   "source": [
    "### alternatives?\n",
    "1. review_business.rdd      # and do all the magic stuff on the cluster, not in the driver\n",
    "2. Use spark.rdd.compress to compress RDDs when you collect them        << configuration\n",
    "3. Try to collect it using pagination. \n",
    "\n",
    "see https://stackoverflow.com/questions/31058504/spark-1-4-increase-maxresultsize-memory"
   ]
  },
  {
   "cell_type": "markdown",
   "metadata": {},
   "source": [
    "## recall RDD\n",
    "\n",
    "Collection of data partitions called RDD. These RDD must follow few properties:\n",
    "\n",
    "- Immutable,\n",
    "- Fault Tolerant,\n",
    "- Distributed,\n",
    "- +...\n",
    "\n",
    "Here RDD is either structured or unstructured."
   ]
  },
  {
   "cell_type": "code",
   "execution_count": 15,
   "metadata": {
    "collapsed": false
   },
   "outputs": [],
   "source": [
    "yelp_rb = review_business.rdd"
   ]
  },
  {
   "cell_type": "code",
   "execution_count": 16,
   "metadata": {
    "collapsed": false
   },
   "outputs": [
    {
     "data": {
      "text/plain": [
       "pyspark.rdd.RDD"
      ]
     },
     "execution_count": 16,
     "metadata": {},
     "output_type": "execute_result"
    }
   ],
   "source": [
    "type(yelp_rb)"
   ]
  },
  {
   "cell_type": "code",
   "execution_count": 24,
   "metadata": {
    "collapsed": false
   },
   "outputs": [
    {
     "ename": "Py4JJavaError",
     "evalue": "An error occurred while calling z:org.apache.spark.api.python.PythonRDD.collectAndServe.\n: java.lang.IllegalStateException: SparkContext has been shutdown\n\tat org.apache.spark.SparkContext.runJob(SparkContext.scala:2014)\n\tat org.apache.spark.SparkContext.runJob(SparkContext.scala:2043)\n\tat org.apache.spark.SparkContext.runJob(SparkContext.scala:2062)\n\tat org.apache.spark.SparkContext.runJob(SparkContext.scala:2087)\n\tat org.apache.spark.rdd.RDD$$anonfun$collect$1.apply(RDD.scala:936)\n\tat org.apache.spark.rdd.RDDOperationScope$.withScope(RDDOperationScope.scala:151)\n\tat org.apache.spark.rdd.RDDOperationScope$.withScope(RDDOperationScope.scala:112)\n\tat org.apache.spark.rdd.RDD.withScope(RDD.scala:362)\n\tat org.apache.spark.rdd.RDD.collect(RDD.scala:935)\n\tat org.apache.spark.api.python.PythonRDD$.collectAndServe(PythonRDD.scala:458)\n\tat org.apache.spark.api.python.PythonRDD.collectAndServe(PythonRDD.scala)\n\tat sun.reflect.NativeMethodAccessorImpl.invoke0(Native Method)\n\tat sun.reflect.NativeMethodAccessorImpl.invoke(NativeMethodAccessorImpl.java:62)\n\tat sun.reflect.DelegatingMethodAccessorImpl.invoke(DelegatingMethodAccessorImpl.java:43)\n\tat java.lang.reflect.Method.invoke(Method.java:498)\n\tat py4j.reflection.MethodInvoker.invoke(MethodInvoker.java:244)\n\tat py4j.reflection.ReflectionEngine.invoke(ReflectionEngine.java:357)\n\tat py4j.Gateway.invoke(Gateway.java:280)\n\tat py4j.commands.AbstractCommand.invokeMethod(AbstractCommand.java:132)\n\tat py4j.commands.CallCommand.execute(CallCommand.java:79)\n\tat py4j.GatewayConnection.run(GatewayConnection.java:214)\n\tat java.lang.Thread.run(Thread.java:748)\n",
     "output_type": "error",
     "traceback": [
      "\u001b[0;31m---------------------------------------------------------------------------\u001b[0m",
      "\u001b[0;31mPy4JJavaError\u001b[0m                             Traceback (most recent call last)",
      "\u001b[0;32m<ipython-input-24-dec58e69a88f>\u001b[0m in \u001b[0;36m<module>\u001b[0;34m()\u001b[0m\n\u001b[0;32m----> 1\u001b[0;31m \u001b[0myelp_rb\u001b[0m\u001b[0;34m.\u001b[0m\u001b[0mcollect\u001b[0m\u001b[0;34m(\u001b[0m\u001b[0;34m)\u001b[0m\u001b[0;34m\u001b[0m\u001b[0m\n\u001b[0m",
      "\u001b[0;32m/Users/admin/anaconda/lib/python2.7/site-packages/pyspark/rdd.pyc\u001b[0m in \u001b[0;36mcollect\u001b[0;34m(self)\u001b[0m\n\u001b[1;32m    807\u001b[0m         \"\"\"\n\u001b[1;32m    808\u001b[0m         \u001b[0;32mwith\u001b[0m \u001b[0mSCCallSiteSync\u001b[0m\u001b[0;34m(\u001b[0m\u001b[0mself\u001b[0m\u001b[0;34m.\u001b[0m\u001b[0mcontext\u001b[0m\u001b[0;34m)\u001b[0m \u001b[0;32mas\u001b[0m \u001b[0mcss\u001b[0m\u001b[0;34m:\u001b[0m\u001b[0;34m\u001b[0m\u001b[0m\n\u001b[0;32m--> 809\u001b[0;31m             \u001b[0mport\u001b[0m \u001b[0;34m=\u001b[0m \u001b[0mself\u001b[0m\u001b[0;34m.\u001b[0m\u001b[0mctx\u001b[0m\u001b[0;34m.\u001b[0m\u001b[0m_jvm\u001b[0m\u001b[0;34m.\u001b[0m\u001b[0mPythonRDD\u001b[0m\u001b[0;34m.\u001b[0m\u001b[0mcollectAndServe\u001b[0m\u001b[0;34m(\u001b[0m\u001b[0mself\u001b[0m\u001b[0;34m.\u001b[0m\u001b[0m_jrdd\u001b[0m\u001b[0;34m.\u001b[0m\u001b[0mrdd\u001b[0m\u001b[0;34m(\u001b[0m\u001b[0;34m)\u001b[0m\u001b[0;34m)\u001b[0m\u001b[0;34m\u001b[0m\u001b[0m\n\u001b[0m\u001b[1;32m    810\u001b[0m         \u001b[0;32mreturn\u001b[0m \u001b[0mlist\u001b[0m\u001b[0;34m(\u001b[0m\u001b[0m_load_from_socket\u001b[0m\u001b[0;34m(\u001b[0m\u001b[0mport\u001b[0m\u001b[0;34m,\u001b[0m \u001b[0mself\u001b[0m\u001b[0;34m.\u001b[0m\u001b[0m_jrdd_deserializer\u001b[0m\u001b[0;34m)\u001b[0m\u001b[0;34m)\u001b[0m\u001b[0;34m\u001b[0m\u001b[0m\n\u001b[1;32m    811\u001b[0m \u001b[0;34m\u001b[0m\u001b[0m\n",
      "\u001b[0;32m/Users/admin/anaconda/lib/python2.7/site-packages/pyspark/python/lib/py4j-0.10.4-src.zip/py4j/java_gateway.py\u001b[0m in \u001b[0;36m__call__\u001b[0;34m(self, *args)\u001b[0m\n\u001b[1;32m   1131\u001b[0m         \u001b[0manswer\u001b[0m \u001b[0;34m=\u001b[0m \u001b[0mself\u001b[0m\u001b[0;34m.\u001b[0m\u001b[0mgateway_client\u001b[0m\u001b[0;34m.\u001b[0m\u001b[0msend_command\u001b[0m\u001b[0;34m(\u001b[0m\u001b[0mcommand\u001b[0m\u001b[0;34m)\u001b[0m\u001b[0;34m\u001b[0m\u001b[0m\n\u001b[1;32m   1132\u001b[0m         return_value = get_return_value(\n\u001b[0;32m-> 1133\u001b[0;31m             answer, self.gateway_client, self.target_id, self.name)\n\u001b[0m\u001b[1;32m   1134\u001b[0m \u001b[0;34m\u001b[0m\u001b[0m\n\u001b[1;32m   1135\u001b[0m         \u001b[0;32mfor\u001b[0m \u001b[0mtemp_arg\u001b[0m \u001b[0;32min\u001b[0m \u001b[0mtemp_args\u001b[0m\u001b[0;34m:\u001b[0m\u001b[0;34m\u001b[0m\u001b[0m\n",
      "\u001b[0;32m/Users/admin/anaconda/lib/python2.7/site-packages/pyspark/sql/utils.pyc\u001b[0m in \u001b[0;36mdeco\u001b[0;34m(*a, **kw)\u001b[0m\n\u001b[1;32m     61\u001b[0m     \u001b[0;32mdef\u001b[0m \u001b[0mdeco\u001b[0m\u001b[0;34m(\u001b[0m\u001b[0;34m*\u001b[0m\u001b[0ma\u001b[0m\u001b[0;34m,\u001b[0m \u001b[0;34m**\u001b[0m\u001b[0mkw\u001b[0m\u001b[0;34m)\u001b[0m\u001b[0;34m:\u001b[0m\u001b[0;34m\u001b[0m\u001b[0m\n\u001b[1;32m     62\u001b[0m         \u001b[0;32mtry\u001b[0m\u001b[0;34m:\u001b[0m\u001b[0;34m\u001b[0m\u001b[0m\n\u001b[0;32m---> 63\u001b[0;31m             \u001b[0;32mreturn\u001b[0m \u001b[0mf\u001b[0m\u001b[0;34m(\u001b[0m\u001b[0;34m*\u001b[0m\u001b[0ma\u001b[0m\u001b[0;34m,\u001b[0m \u001b[0;34m**\u001b[0m\u001b[0mkw\u001b[0m\u001b[0;34m)\u001b[0m\u001b[0;34m\u001b[0m\u001b[0m\n\u001b[0m\u001b[1;32m     64\u001b[0m         \u001b[0;32mexcept\u001b[0m \u001b[0mpy4j\u001b[0m\u001b[0;34m.\u001b[0m\u001b[0mprotocol\u001b[0m\u001b[0;34m.\u001b[0m\u001b[0mPy4JJavaError\u001b[0m \u001b[0;32mas\u001b[0m \u001b[0me\u001b[0m\u001b[0;34m:\u001b[0m\u001b[0;34m\u001b[0m\u001b[0m\n\u001b[1;32m     65\u001b[0m             \u001b[0ms\u001b[0m \u001b[0;34m=\u001b[0m \u001b[0me\u001b[0m\u001b[0;34m.\u001b[0m\u001b[0mjava_exception\u001b[0m\u001b[0;34m.\u001b[0m\u001b[0mtoString\u001b[0m\u001b[0;34m(\u001b[0m\u001b[0;34m)\u001b[0m\u001b[0;34m\u001b[0m\u001b[0m\n",
      "\u001b[0;32m/Users/admin/anaconda/lib/python2.7/site-packages/pyspark/python/lib/py4j-0.10.4-src.zip/py4j/protocol.py\u001b[0m in \u001b[0;36mget_return_value\u001b[0;34m(answer, gateway_client, target_id, name)\u001b[0m\n\u001b[1;32m    317\u001b[0m                 raise Py4JJavaError(\n\u001b[1;32m    318\u001b[0m                     \u001b[0;34m\"An error occurred while calling {0}{1}{2}.\\n\"\u001b[0m\u001b[0;34m.\u001b[0m\u001b[0;34m\u001b[0m\u001b[0m\n\u001b[0;32m--> 319\u001b[0;31m                     format(target_id, \".\", name), value)\n\u001b[0m\u001b[1;32m    320\u001b[0m             \u001b[0;32melse\u001b[0m\u001b[0;34m:\u001b[0m\u001b[0;34m\u001b[0m\u001b[0m\n\u001b[1;32m    321\u001b[0m                 raise Py4JError(\n",
      "\u001b[0;31mPy4JJavaError\u001b[0m: An error occurred while calling z:org.apache.spark.api.python.PythonRDD.collectAndServe.\n: java.lang.IllegalStateException: SparkContext has been shutdown\n\tat org.apache.spark.SparkContext.runJob(SparkContext.scala:2014)\n\tat org.apache.spark.SparkContext.runJob(SparkContext.scala:2043)\n\tat org.apache.spark.SparkContext.runJob(SparkContext.scala:2062)\n\tat org.apache.spark.SparkContext.runJob(SparkContext.scala:2087)\n\tat org.apache.spark.rdd.RDD$$anonfun$collect$1.apply(RDD.scala:936)\n\tat org.apache.spark.rdd.RDDOperationScope$.withScope(RDDOperationScope.scala:151)\n\tat org.apache.spark.rdd.RDDOperationScope$.withScope(RDDOperationScope.scala:112)\n\tat org.apache.spark.rdd.RDD.withScope(RDD.scala:362)\n\tat org.apache.spark.rdd.RDD.collect(RDD.scala:935)\n\tat org.apache.spark.api.python.PythonRDD$.collectAndServe(PythonRDD.scala:458)\n\tat org.apache.spark.api.python.PythonRDD.collectAndServe(PythonRDD.scala)\n\tat sun.reflect.NativeMethodAccessorImpl.invoke0(Native Method)\n\tat sun.reflect.NativeMethodAccessorImpl.invoke(NativeMethodAccessorImpl.java:62)\n\tat sun.reflect.DelegatingMethodAccessorImpl.invoke(DelegatingMethodAccessorImpl.java:43)\n\tat java.lang.reflect.Method.invoke(Method.java:498)\n\tat py4j.reflection.MethodInvoker.invoke(MethodInvoker.java:244)\n\tat py4j.reflection.ReflectionEngine.invoke(ReflectionEngine.java:357)\n\tat py4j.Gateway.invoke(Gateway.java:280)\n\tat py4j.commands.AbstractCommand.invokeMethod(AbstractCommand.java:132)\n\tat py4j.commands.CallCommand.execute(CallCommand.java:79)\n\tat py4j.GatewayConnection.run(GatewayConnection.java:214)\n\tat java.lang.Thread.run(Thread.java:748)\n"
     ]
    }
   ],
   "source": [
    "yelp_rb.collect()"
   ]
  },
  {
   "cell_type": "markdown",
   "metadata": {},
   "source": [
    "## Error this time, after running review_business.collect(), which was executed after we have increased the maxResultSize() --> \n",
    "\"Py4JJavaError: An error occurred while calling o75.collectToPython. : java.lang.OutOfMemoryError: GC overhead limit exceeded\"\n",
    "### Error following last cell: java.lang.IllegalStateException: SparkContext has been shutdown"
   ]
  },
  {
   "cell_type": "code",
   "execution_count": 26,
   "metadata": {
    "collapsed": false
   },
   "outputs": [
    {
     "data": {
      "text/html": [
       "\n",
       "            <div>\n",
       "                <p><b>SparkSession - hive</b></p>\n",
       "                \n",
       "        <div>\n",
       "            <p><b>SparkContext</b></p>\n",
       "\n",
       "            <p><a href=\"http://10.144.40.21:4040\">Spark UI</a></p>\n",
       "\n",
       "            <dl>\n",
       "              <dt>Version</dt>\n",
       "                <dd><code>v2.2.0</code></dd>\n",
       "              <dt>Master</dt>\n",
       "                <dd><code>yarn</code></dd>\n",
       "              <dt>AppName</dt>\n",
       "                <dd><code>PySparkShell</code></dd>\n",
       "            </dl>\n",
       "        </div>\n",
       "        \n",
       "            </div>\n",
       "        "
      ],
      "text/plain": [
       "<pyspark.sql.session.SparkSession at 0x1052c71d0>"
      ]
     },
     "execution_count": 26,
     "metadata": {},
     "output_type": "execute_result"
    }
   ],
   "source": [
    "spark"
   ]
  },
  {
   "cell_type": "code",
   "execution_count": 28,
   "metadata": {
    "collapsed": false
   },
   "outputs": [
    {
     "ename": "ValueError",
     "evalue": "Cannot run multiple SparkContexts at once; existing SparkContext(app=PySparkShell, master=yarn) created by <module> at /Users/admin/anaconda/lib/python2.7/site-packages/IPython/utils/py3compat.py:288 ",
     "output_type": "error",
     "traceback": [
      "\u001b[0;31m---------------------------------------------------------------------------\u001b[0m",
      "\u001b[0;31mValueError\u001b[0m                                Traceback (most recent call last)",
      "\u001b[0;32m<ipython-input-28-76dd08d2c718>\u001b[0m in \u001b[0;36m<module>\u001b[0;34m()\u001b[0m\n\u001b[0;32m----> 1\u001b[0;31m \u001b[0msc\u001b[0m \u001b[0;34m=\u001b[0m \u001b[0mSparkContext\u001b[0m\u001b[0;34m(\u001b[0m\u001b[0;34m)\u001b[0m\u001b[0;34m\u001b[0m\u001b[0m\n\u001b[0m",
      "\u001b[0;32m/Users/admin/anaconda/lib/python2.7/site-packages/pyspark/context.pyc\u001b[0m in \u001b[0;36m__init__\u001b[0;34m(self, master, appName, sparkHome, pyFiles, environment, batchSize, serializer, conf, gateway, jsc, profiler_cls)\u001b[0m\n\u001b[1;32m    113\u001b[0m         \"\"\"\n\u001b[1;32m    114\u001b[0m         \u001b[0mself\u001b[0m\u001b[0;34m.\u001b[0m\u001b[0m_callsite\u001b[0m \u001b[0;34m=\u001b[0m \u001b[0mfirst_spark_call\u001b[0m\u001b[0;34m(\u001b[0m\u001b[0;34m)\u001b[0m \u001b[0;32mor\u001b[0m \u001b[0mCallSite\u001b[0m\u001b[0;34m(\u001b[0m\u001b[0mNone\u001b[0m\u001b[0;34m,\u001b[0m \u001b[0mNone\u001b[0m\u001b[0;34m,\u001b[0m \u001b[0mNone\u001b[0m\u001b[0;34m)\u001b[0m\u001b[0;34m\u001b[0m\u001b[0m\n\u001b[0;32m--> 115\u001b[0;31m         \u001b[0mSparkContext\u001b[0m\u001b[0;34m.\u001b[0m\u001b[0m_ensure_initialized\u001b[0m\u001b[0;34m(\u001b[0m\u001b[0mself\u001b[0m\u001b[0;34m,\u001b[0m \u001b[0mgateway\u001b[0m\u001b[0;34m=\u001b[0m\u001b[0mgateway\u001b[0m\u001b[0;34m,\u001b[0m \u001b[0mconf\u001b[0m\u001b[0;34m=\u001b[0m\u001b[0mconf\u001b[0m\u001b[0;34m)\u001b[0m\u001b[0;34m\u001b[0m\u001b[0m\n\u001b[0m\u001b[1;32m    116\u001b[0m         \u001b[0;32mtry\u001b[0m\u001b[0;34m:\u001b[0m\u001b[0;34m\u001b[0m\u001b[0m\n\u001b[1;32m    117\u001b[0m             self._do_init(master, appName, sparkHome, pyFiles, environment, batchSize, serializer,\n",
      "\u001b[0;32m/Users/admin/anaconda/lib/python2.7/site-packages/pyspark/context.pyc\u001b[0m in \u001b[0;36m_ensure_initialized\u001b[0;34m(cls, instance, gateway, conf)\u001b[0m\n\u001b[1;32m    297\u001b[0m                         \u001b[0;34m\" created by %s at %s:%s \"\u001b[0m\u001b[0;34m\u001b[0m\u001b[0m\n\u001b[1;32m    298\u001b[0m                         % (currentAppName, currentMaster,\n\u001b[0;32m--> 299\u001b[0;31m                             callsite.function, callsite.file, callsite.linenum))\n\u001b[0m\u001b[1;32m    300\u001b[0m                 \u001b[0;32melse\u001b[0m\u001b[0;34m:\u001b[0m\u001b[0;34m\u001b[0m\u001b[0m\n\u001b[1;32m    301\u001b[0m                     \u001b[0mSparkContext\u001b[0m\u001b[0;34m.\u001b[0m\u001b[0m_active_spark_context\u001b[0m \u001b[0;34m=\u001b[0m \u001b[0minstance\u001b[0m\u001b[0;34m\u001b[0m\u001b[0m\n",
      "\u001b[0;31mValueError\u001b[0m: Cannot run multiple SparkContexts at once; existing SparkContext(app=PySparkShell, master=yarn) created by <module> at /Users/admin/anaconda/lib/python2.7/site-packages/IPython/utils/py3compat.py:288 "
     ]
    }
   ],
   "source": [
    "sc = SparkContext()   "
   ]
  },
  {
   "cell_type": "markdown",
   "metadata": {},
   "source": [
    "## Great.. can't even start it again"
   ]
  },
  {
   "cell_type": "code",
   "execution_count": 35,
   "metadata": {
    "collapsed": false
   },
   "outputs": [
    {
     "ename": "TypeError",
     "evalue": "unbound method stop() must be called with SparkContext instance as first argument (got SparkSession instance instead)",
     "output_type": "error",
     "traceback": [
      "\u001b[0;31m---------------------------------------------------------------------------\u001b[0m",
      "\u001b[0;31mTypeError\u001b[0m                                 Traceback (most recent call last)",
      "\u001b[0;32m<ipython-input-35-2c20bec95eb6>\u001b[0m in \u001b[0;36m<module>\u001b[0;34m()\u001b[0m\n\u001b[0;32m----> 1\u001b[0;31m \u001b[0mSparkContext\u001b[0m\u001b[0;34m.\u001b[0m\u001b[0mstop\u001b[0m\u001b[0;34m(\u001b[0m\u001b[0mspark\u001b[0m\u001b[0;34m)\u001b[0m\u001b[0;34m\u001b[0m\u001b[0m\n\u001b[0m\u001b[1;32m      2\u001b[0m \u001b[0;31m# spark.stop()\u001b[0m\u001b[0;34m\u001b[0m\u001b[0;34m\u001b[0m\u001b[0m\n",
      "\u001b[0;31mTypeError\u001b[0m: unbound method stop() must be called with SparkContext instance as first argument (got SparkSession instance instead)"
     ]
    }
   ],
   "source": [
    "SparkContext.stop(spark)\n",
    "# spark.stop()"
   ]
  },
  {
   "cell_type": "markdown",
   "metadata": {},
   "source": [
    "### also can't stop.... will restart pyspark.... \n",
    "----------------------------"
   ]
  },
  {
   "cell_type": "markdown",
   "metadata": {},
   "source": [
    "### after restart pyspark .............."
   ]
  },
  {
   "cell_type": "code",
   "execution_count": 23,
   "metadata": {
    "collapsed": false
   },
   "outputs": [
    {
     "name": "stdout",
     "output_type": "stream",
     "text": [
      "CPU times: user 20.1 ms, sys: 5.49 ms, total: 25.6 ms\n",
      "Wall time: 50.2 ms\n"
     ]
    },
    {
     "data": {
      "text/plain": [
       "[(u'spark.executor.memory', u'2g'),\n",
       " (u'spark.executor.instances', u'4'),\n",
       " (u'spark.org.apache.hadoop.yarn.server.webproxy.amfilter.AmIpFilter.param.PROXY_URI_BASES',\n",
       "  u'http://dhcp-ccc-10261.redrover.cornell.edu:8088/proxy/application_1509845828116_0007'),\n",
       " (u'spark.driver.memory', u'4g'),\n",
       " (u'spark.driver.port', u'58591'),\n",
       " (u'spark.driver.host', u'10.144.40.21'),\n",
       " (u'spark.executor.id', u'driver'),\n",
       " (u'spark.app.name', u'PySparkShell'),\n",
       " (u'spark.ui.proxyBase', u'/proxy/application_1509845828116_0007'),\n",
       " (u'spark.app.id', u'application_1509845828116_0007'),\n",
       " (u'spark.master', u'yarn'),\n",
       " (u'spark.driver.appUIAddress', u'http://10.144.40.21:4040'),\n",
       " (u'spark.sql.catalogImplementation', u'hive'),\n",
       " (u'spark.rdd.compress', u'True'),\n",
       " (u'spark.executorEnv.PYTHONPATH',\n",
       "  u'/Users/admin/anaconda/lib/python2.7/site-packages/pyspark/python/lib/py4j-0.10.4-src.zip:/Users/admin/anaconda/lib/python2.7/site-packages/pyspark/python/:/Users/admin/gildas-exe-sep15a/x86_64-darwin-gfortran/python:/Users/admin/anaconda/lib/python2.7/site-packages:/Users/admin/DNest3:/Users/admin/Lensingmodel/uvmcmcfit:<CPS>{{PWD}}/pyspark.zip<CPS>{{PWD}}/py4j-0.10.4-src.zip'),\n",
       " (u'spark.serializer.objectStreamReset', u'100'),\n",
       " (u'spark.yarn.isPython', u'true'),\n",
       " (u'spark.submit.deployMode', u'client'),\n",
       " (u'spark.org.apache.hadoop.yarn.server.webproxy.amfilter.AmIpFilter.param.PROXY_HOSTS',\n",
       "  u'dhcp-ccc-10261.redrover.cornell.edu'),\n",
       " (u'spark.driver.maxResultSize', u'3g'),\n",
       " (u'spark.ui.filters',\n",
       "  u'org.apache.hadoop.yarn.server.webproxy.amfilter.AmIpFilter')]"
      ]
     },
     "execution_count": 23,
     "metadata": {},
     "output_type": "execute_result"
    }
   ],
   "source": [
    "%%time\n",
    "spark.sparkContext.getConf().getAll() "
   ]
  },
  {
   "cell_type": "markdown",
   "metadata": {},
   "source": [
    "### 3. pagination"
   ]
  },
  {
   "cell_type": "code",
   "execution_count": 24,
   "metadata": {
    "collapsed": false
   },
   "outputs": [
    {
     "name": "stdout",
     "output_type": "stream",
     "text": [
      "CPU times: user 18.2 ms, sys: 13.2 ms, total: 31.4 ms\n",
      "Wall time: 1min 28s\n"
     ]
    },
    {
     "data": {
      "text/plain": [
       "Row(business_id=u'--9e1ONYQuAa-CB_Rrw7Tw', cool=0, date=u'2012-03-29', funny=0, review_id=u'OJTjgyV6HYRPo7ZO1KlRsQ', business_avg_stars=5, text=u'For me the bar has been raised! \\n\\nI thought the Conch Republic in Key West was my best meal ever. It has been topped. The best Ribeye I have ever eaten. Everything about this place was top shelf. I had the escargot, Ribeye, loaded baked potato, and finished it off with the best pecan pie ever.', useful=0, user_id=u'poUDFITGDHUoaiAvwFzXEw', address=u'3355 Las Vegas Blvd S', business_type=Row(AcceptsInsurance=None, AgesAllowed=None, Alcohol=u'full_bar', Ambience=Row(casual=False, classy=True, divey=False, hipster=False, intimate=False, romantic=False, touristy=False, trendy=False, upscale=True), BYOB=False, BYOBCorkage=u'yes_corkage', BestNights=None, BikeParking=False, BusinessAcceptsBitcoin=None, BusinessAcceptsCreditCards=True, BusinessParking=Row(garage=True, lot=False, street=False, valet=True, validated=False), ByAppointmentOnly=None, Caters=False, CoatCheck=None, Corkage=True, DietaryRestrictions=None, DogsAllowed=None, DriveThru=None, GoodForDancing=None, GoodForKids=False, GoodForMeal=Row(breakfast=False, brunch=False, dessert=False, dinner=True, latenight=False, lunch=False), HairSpecializesIn=None, HappyHour=None, HasTV=False, Music=None, NoiseLevel=u'average', Open24Hours=False, OutdoorSeating=False, RestaurantsAttire=u'dressy', RestaurantsCounterService=None, RestaurantsDelivery=False, RestaurantsGoodForGroups=True, RestaurantsPriceRange2=4, RestaurantsReservations=True, RestaurantsTableService=True, RestaurantsTakeOut=False, Smoking=None, WheelchairAccessible=True, WiFi=u'no'), categories=[u'Steakhouses', u'Cajun/Creole', u'Restaurants'], city=u'Las Vegas', hours=Row(Friday=u'11:30-14:00', Monday=u'11:30-14:00', Saturday=u'11:30-14:00', Sunday=u'11:30-14:00', Thursday=u'11:30-14:00', Tuesday=u'11:30-14:00', Wednesday=u'11:30-14:00'), is_open=1, latitude=36.123183, longitude=-115.16919, name=u'Delmonico Steakhouse', neighborhood=u'The Strip', postal_code=u'89109', business_review_count=1389, state=u'NV')"
      ]
     },
     "execution_count": 24,
     "metadata": {},
     "output_type": "execute_result"
    }
   ],
   "source": [
    "%%time\n",
    "yelp_rb.first()"
   ]
  },
  {
   "cell_type": "code",
   "execution_count": 26,
   "metadata": {
    "collapsed": false
   },
   "outputs": [
    {
     "data": {
      "text/plain": [
       "[Row(business_id=u'--9e1ONYQuAa-CB_Rrw7Tw', cool=0, date=u'2012-03-29', funny=0, review_id=u'OJTjgyV6HYRPo7ZO1KlRsQ', business_avg_stars=5, text=u'For me the bar has been raised! \\n\\nI thought the Conch Republic in Key West was my best meal ever. It has been topped. The best Ribeye I have ever eaten. Everything about this place was top shelf. I had the escargot, Ribeye, loaded baked potato, and finished it off with the best pecan pie ever.', useful=0, user_id=u'poUDFITGDHUoaiAvwFzXEw', address=u'3355 Las Vegas Blvd S', business_type=Row(AcceptsInsurance=None, AgesAllowed=None, Alcohol=u'full_bar', Ambience=Row(casual=False, classy=True, divey=False, hipster=False, intimate=False, romantic=False, touristy=False, trendy=False, upscale=True), BYOB=False, BYOBCorkage=u'yes_corkage', BestNights=None, BikeParking=False, BusinessAcceptsBitcoin=None, BusinessAcceptsCreditCards=True, BusinessParking=Row(garage=True, lot=False, street=False, valet=True, validated=False), ByAppointmentOnly=None, Caters=False, CoatCheck=None, Corkage=True, DietaryRestrictions=None, DogsAllowed=None, DriveThru=None, GoodForDancing=None, GoodForKids=False, GoodForMeal=Row(breakfast=False, brunch=False, dessert=False, dinner=True, latenight=False, lunch=False), HairSpecializesIn=None, HappyHour=None, HasTV=False, Music=None, NoiseLevel=u'average', Open24Hours=False, OutdoorSeating=False, RestaurantsAttire=u'dressy', RestaurantsCounterService=None, RestaurantsDelivery=False, RestaurantsGoodForGroups=True, RestaurantsPriceRange2=4, RestaurantsReservations=True, RestaurantsTableService=True, RestaurantsTakeOut=False, Smoking=None, WheelchairAccessible=True, WiFi=u'no'), categories=[u'Steakhouses', u'Cajun/Creole', u'Restaurants'], city=u'Las Vegas', hours=Row(Friday=u'11:30-14:00', Monday=u'11:30-14:00', Saturday=u'11:30-14:00', Sunday=u'11:30-14:00', Thursday=u'11:30-14:00', Tuesday=u'11:30-14:00', Wednesday=u'11:30-14:00'), is_open=1, latitude=36.123183, longitude=-115.16919, name=u'Delmonico Steakhouse', neighborhood=u'The Strip', postal_code=u'89109', business_review_count=1389, state=u'NV'),\n",
       " Row(business_id=u'--9e1ONYQuAa-CB_Rrw7Tw', cool=0, date=u'2013-12-30', funny=0, review_id=u'DEuf8OY5hQX-xugpb88nlg', business_avg_stars=5, text=u'I am in love. In love with the ceasar salad prepared at our table by our very likable  waiter, in love with the steak medallions topped with lobster and drizzled with a wonderful bearnaise sauce... in fact I would be hard pressed to find anything to criticize about the experience we had here last week. Finally, the banana cream pie was nothing short of the totally perfect end to our evening. Fine wine, fine company, fine service and more than fine food. Dare I say it one more time??? In LOVE haha', useful=0, user_id=u'-XzAzGKAGCLn-sxy0_3dDw', address=u'3355 Las Vegas Blvd S', business_type=Row(AcceptsInsurance=None, AgesAllowed=None, Alcohol=u'full_bar', Ambience=Row(casual=False, classy=True, divey=False, hipster=False, intimate=False, romantic=False, touristy=False, trendy=False, upscale=True), BYOB=False, BYOBCorkage=u'yes_corkage', BestNights=None, BikeParking=False, BusinessAcceptsBitcoin=None, BusinessAcceptsCreditCards=True, BusinessParking=Row(garage=True, lot=False, street=False, valet=True, validated=False), ByAppointmentOnly=None, Caters=False, CoatCheck=None, Corkage=True, DietaryRestrictions=None, DogsAllowed=None, DriveThru=None, GoodForDancing=None, GoodForKids=False, GoodForMeal=Row(breakfast=False, brunch=False, dessert=False, dinner=True, latenight=False, lunch=False), HairSpecializesIn=None, HappyHour=None, HasTV=False, Music=None, NoiseLevel=u'average', Open24Hours=False, OutdoorSeating=False, RestaurantsAttire=u'dressy', RestaurantsCounterService=None, RestaurantsDelivery=False, RestaurantsGoodForGroups=True, RestaurantsPriceRange2=4, RestaurantsReservations=True, RestaurantsTableService=True, RestaurantsTakeOut=False, Smoking=None, WheelchairAccessible=True, WiFi=u'no'), categories=[u'Steakhouses', u'Cajun/Creole', u'Restaurants'], city=u'Las Vegas', hours=Row(Friday=u'11:30-14:00', Monday=u'11:30-14:00', Saturday=u'11:30-14:00', Sunday=u'11:30-14:00', Thursday=u'11:30-14:00', Tuesday=u'11:30-14:00', Wednesday=u'11:30-14:00'), is_open=1, latitude=36.123183, longitude=-115.16919, name=u'Delmonico Steakhouse', neighborhood=u'The Strip', postal_code=u'89109', business_review_count=1389, state=u'NV')]"
      ]
     },
     "execution_count": 26,
     "metadata": {},
     "output_type": "execute_result"
    }
   ],
   "source": [
    "yelp_rb.take(2)"
   ]
  },
  {
   "cell_type": "code",
   "execution_count": 29,
   "metadata": {
    "collapsed": false
   },
   "outputs": [
    {
     "ename": "ValueError",
     "evalue": "Some of types cannot be determined by the first 100 rows, please try again with sampling",
     "output_type": "error",
     "traceback": [
      "\u001b[0;31m---------------------------------------------------------------------------\u001b[0m",
      "\u001b[0;31mValueError\u001b[0m                                Traceback (most recent call last)",
      "\u001b[0;32m<ipython-input-29-495c12344758>\u001b[0m in \u001b[0;36m<module>\u001b[0;34m()\u001b[0m\n\u001b[0;32m----> 1\u001b[0;31m \u001b[0mget_ipython\u001b[0m\u001b[0;34m(\u001b[0m\u001b[0;34m)\u001b[0m\u001b[0;34m.\u001b[0m\u001b[0mrun_cell_magic\u001b[0m\u001b[0;34m(\u001b[0m\u001b[0;34mu'time'\u001b[0m\u001b[0;34m,\u001b[0m \u001b[0;34mu''\u001b[0m\u001b[0;34m,\u001b[0m \u001b[0;34mu'yelp_rb.toDF().show()'\u001b[0m\u001b[0;34m)\u001b[0m\u001b[0;34m\u001b[0m\u001b[0m\n\u001b[0m",
      "\u001b[0;32m/Users/admin/anaconda/lib/python2.7/site-packages/IPython/core/interactiveshell.pyc\u001b[0m in \u001b[0;36mrun_cell_magic\u001b[0;34m(self, magic_name, line, cell)\u001b[0m\n\u001b[1;32m   2101\u001b[0m             \u001b[0mmagic_arg_s\u001b[0m \u001b[0;34m=\u001b[0m \u001b[0mself\u001b[0m\u001b[0;34m.\u001b[0m\u001b[0mvar_expand\u001b[0m\u001b[0;34m(\u001b[0m\u001b[0mline\u001b[0m\u001b[0;34m,\u001b[0m \u001b[0mstack_depth\u001b[0m\u001b[0;34m)\u001b[0m\u001b[0;34m\u001b[0m\u001b[0m\n\u001b[1;32m   2102\u001b[0m             \u001b[0;32mwith\u001b[0m \u001b[0mself\u001b[0m\u001b[0;34m.\u001b[0m\u001b[0mbuiltin_trap\u001b[0m\u001b[0;34m:\u001b[0m\u001b[0;34m\u001b[0m\u001b[0m\n\u001b[0;32m-> 2103\u001b[0;31m                 \u001b[0mresult\u001b[0m \u001b[0;34m=\u001b[0m \u001b[0mfn\u001b[0m\u001b[0;34m(\u001b[0m\u001b[0mmagic_arg_s\u001b[0m\u001b[0;34m,\u001b[0m \u001b[0mcell\u001b[0m\u001b[0;34m)\u001b[0m\u001b[0;34m\u001b[0m\u001b[0m\n\u001b[0m\u001b[1;32m   2104\u001b[0m             \u001b[0;32mreturn\u001b[0m \u001b[0mresult\u001b[0m\u001b[0;34m\u001b[0m\u001b[0m\n\u001b[1;32m   2105\u001b[0m \u001b[0;34m\u001b[0m\u001b[0m\n",
      "\u001b[0;32m<decorator-gen-59>\u001b[0m in \u001b[0;36mtime\u001b[0;34m(self, line, cell, local_ns)\u001b[0m\n",
      "\u001b[0;32m/Users/admin/anaconda/lib/python2.7/site-packages/IPython/core/magic.pyc\u001b[0m in \u001b[0;36m<lambda>\u001b[0;34m(f, *a, **k)\u001b[0m\n\u001b[1;32m    186\u001b[0m     \u001b[0;31m# but it's overkill for just that one bit of state.\u001b[0m\u001b[0;34m\u001b[0m\u001b[0;34m\u001b[0m\u001b[0m\n\u001b[1;32m    187\u001b[0m     \u001b[0;32mdef\u001b[0m \u001b[0mmagic_deco\u001b[0m\u001b[0;34m(\u001b[0m\u001b[0marg\u001b[0m\u001b[0;34m)\u001b[0m\u001b[0;34m:\u001b[0m\u001b[0;34m\u001b[0m\u001b[0m\n\u001b[0;32m--> 188\u001b[0;31m         \u001b[0mcall\u001b[0m \u001b[0;34m=\u001b[0m \u001b[0;32mlambda\u001b[0m \u001b[0mf\u001b[0m\u001b[0;34m,\u001b[0m \u001b[0;34m*\u001b[0m\u001b[0ma\u001b[0m\u001b[0;34m,\u001b[0m \u001b[0;34m**\u001b[0m\u001b[0mk\u001b[0m\u001b[0;34m:\u001b[0m \u001b[0mf\u001b[0m\u001b[0;34m(\u001b[0m\u001b[0;34m*\u001b[0m\u001b[0ma\u001b[0m\u001b[0;34m,\u001b[0m \u001b[0;34m**\u001b[0m\u001b[0mk\u001b[0m\u001b[0;34m)\u001b[0m\u001b[0;34m\u001b[0m\u001b[0m\n\u001b[0m\u001b[1;32m    189\u001b[0m \u001b[0;34m\u001b[0m\u001b[0m\n\u001b[1;32m    190\u001b[0m         \u001b[0;32mif\u001b[0m \u001b[0mcallable\u001b[0m\u001b[0;34m(\u001b[0m\u001b[0marg\u001b[0m\u001b[0;34m)\u001b[0m\u001b[0;34m:\u001b[0m\u001b[0;34m\u001b[0m\u001b[0m\n",
      "\u001b[0;32m/Users/admin/anaconda/lib/python2.7/site-packages/IPython/core/magics/execution.pyc\u001b[0m in \u001b[0;36mtime\u001b[0;34m(self, line, cell, local_ns)\u001b[0m\n\u001b[1;32m   1170\u001b[0m         \u001b[0;32mif\u001b[0m \u001b[0mmode\u001b[0m\u001b[0;34m==\u001b[0m\u001b[0;34m'eval'\u001b[0m\u001b[0;34m:\u001b[0m\u001b[0;34m\u001b[0m\u001b[0m\n\u001b[1;32m   1171\u001b[0m             \u001b[0mst\u001b[0m \u001b[0;34m=\u001b[0m \u001b[0mclock2\u001b[0m\u001b[0;34m(\u001b[0m\u001b[0;34m)\u001b[0m\u001b[0;34m\u001b[0m\u001b[0m\n\u001b[0;32m-> 1172\u001b[0;31m             \u001b[0mout\u001b[0m \u001b[0;34m=\u001b[0m \u001b[0meval\u001b[0m\u001b[0;34m(\u001b[0m\u001b[0mcode\u001b[0m\u001b[0;34m,\u001b[0m \u001b[0mglob\u001b[0m\u001b[0;34m,\u001b[0m \u001b[0mlocal_ns\u001b[0m\u001b[0;34m)\u001b[0m\u001b[0;34m\u001b[0m\u001b[0m\n\u001b[0m\u001b[1;32m   1173\u001b[0m             \u001b[0mend\u001b[0m \u001b[0;34m=\u001b[0m \u001b[0mclock2\u001b[0m\u001b[0;34m(\u001b[0m\u001b[0;34m)\u001b[0m\u001b[0;34m\u001b[0m\u001b[0m\n\u001b[1;32m   1174\u001b[0m         \u001b[0;32melse\u001b[0m\u001b[0;34m:\u001b[0m\u001b[0;34m\u001b[0m\u001b[0m\n",
      "\u001b[0;32m<timed eval>\u001b[0m in \u001b[0;36m<module>\u001b[0;34m()\u001b[0m\n",
      "\u001b[0;32m/Users/admin/anaconda/lib/python2.7/site-packages/pyspark/sql/session.pyc\u001b[0m in \u001b[0;36mtoDF\u001b[0;34m(self, schema, sampleRatio)\u001b[0m\n\u001b[1;32m     55\u001b[0m         \u001b[0;34m[\u001b[0m\u001b[0mRow\u001b[0m\u001b[0;34m(\u001b[0m\u001b[0mname\u001b[0m\u001b[0;34m=\u001b[0m\u001b[0;34mu'Alice'\u001b[0m\u001b[0;34m,\u001b[0m \u001b[0mage\u001b[0m\u001b[0;34m=\u001b[0m\u001b[0;36m1\u001b[0m\u001b[0;34m)\u001b[0m\u001b[0;34m]\u001b[0m\u001b[0;34m\u001b[0m\u001b[0m\n\u001b[1;32m     56\u001b[0m         \"\"\"\n\u001b[0;32m---> 57\u001b[0;31m         \u001b[0;32mreturn\u001b[0m \u001b[0msparkSession\u001b[0m\u001b[0;34m.\u001b[0m\u001b[0mcreateDataFrame\u001b[0m\u001b[0;34m(\u001b[0m\u001b[0mself\u001b[0m\u001b[0;34m,\u001b[0m \u001b[0mschema\u001b[0m\u001b[0;34m,\u001b[0m \u001b[0msampleRatio\u001b[0m\u001b[0;34m)\u001b[0m\u001b[0;34m\u001b[0m\u001b[0m\n\u001b[0m\u001b[1;32m     58\u001b[0m \u001b[0;34m\u001b[0m\u001b[0m\n\u001b[1;32m     59\u001b[0m     \u001b[0mRDD\u001b[0m\u001b[0;34m.\u001b[0m\u001b[0mtoDF\u001b[0m \u001b[0;34m=\u001b[0m \u001b[0mtoDF\u001b[0m\u001b[0;34m\u001b[0m\u001b[0m\n",
      "\u001b[0;32m/Users/admin/anaconda/lib/python2.7/site-packages/pyspark/sql/session.pyc\u001b[0m in \u001b[0;36mcreateDataFrame\u001b[0;34m(self, data, schema, samplingRatio, verifySchema)\u001b[0m\n\u001b[1;32m    533\u001b[0m \u001b[0;34m\u001b[0m\u001b[0m\n\u001b[1;32m    534\u001b[0m         \u001b[0;32mif\u001b[0m \u001b[0misinstance\u001b[0m\u001b[0;34m(\u001b[0m\u001b[0mdata\u001b[0m\u001b[0;34m,\u001b[0m \u001b[0mRDD\u001b[0m\u001b[0;34m)\u001b[0m\u001b[0;34m:\u001b[0m\u001b[0;34m\u001b[0m\u001b[0m\n\u001b[0;32m--> 535\u001b[0;31m             \u001b[0mrdd\u001b[0m\u001b[0;34m,\u001b[0m \u001b[0mschema\u001b[0m \u001b[0;34m=\u001b[0m \u001b[0mself\u001b[0m\u001b[0;34m.\u001b[0m\u001b[0m_createFromRDD\u001b[0m\u001b[0;34m(\u001b[0m\u001b[0mdata\u001b[0m\u001b[0;34m.\u001b[0m\u001b[0mmap\u001b[0m\u001b[0;34m(\u001b[0m\u001b[0mprepare\u001b[0m\u001b[0;34m)\u001b[0m\u001b[0;34m,\u001b[0m \u001b[0mschema\u001b[0m\u001b[0;34m,\u001b[0m \u001b[0msamplingRatio\u001b[0m\u001b[0;34m)\u001b[0m\u001b[0;34m\u001b[0m\u001b[0m\n\u001b[0m\u001b[1;32m    536\u001b[0m         \u001b[0;32melse\u001b[0m\u001b[0;34m:\u001b[0m\u001b[0;34m\u001b[0m\u001b[0m\n\u001b[1;32m    537\u001b[0m             \u001b[0mrdd\u001b[0m\u001b[0;34m,\u001b[0m \u001b[0mschema\u001b[0m \u001b[0;34m=\u001b[0m \u001b[0mself\u001b[0m\u001b[0;34m.\u001b[0m\u001b[0m_createFromLocal\u001b[0m\u001b[0;34m(\u001b[0m\u001b[0mmap\u001b[0m\u001b[0;34m(\u001b[0m\u001b[0mprepare\u001b[0m\u001b[0;34m,\u001b[0m \u001b[0mdata\u001b[0m\u001b[0;34m)\u001b[0m\u001b[0;34m,\u001b[0m \u001b[0mschema\u001b[0m\u001b[0;34m)\u001b[0m\u001b[0;34m\u001b[0m\u001b[0m\n",
      "\u001b[0;32m/Users/admin/anaconda/lib/python2.7/site-packages/pyspark/sql/session.pyc\u001b[0m in \u001b[0;36m_createFromRDD\u001b[0;34m(self, rdd, schema, samplingRatio)\u001b[0m\n\u001b[1;32m    373\u001b[0m         \"\"\"\n\u001b[1;32m    374\u001b[0m         \u001b[0;32mif\u001b[0m \u001b[0mschema\u001b[0m \u001b[0;32mis\u001b[0m \u001b[0mNone\u001b[0m \u001b[0;32mor\u001b[0m \u001b[0misinstance\u001b[0m\u001b[0;34m(\u001b[0m\u001b[0mschema\u001b[0m\u001b[0;34m,\u001b[0m \u001b[0;34m(\u001b[0m\u001b[0mlist\u001b[0m\u001b[0;34m,\u001b[0m \u001b[0mtuple\u001b[0m\u001b[0;34m)\u001b[0m\u001b[0;34m)\u001b[0m\u001b[0;34m:\u001b[0m\u001b[0;34m\u001b[0m\u001b[0m\n\u001b[0;32m--> 375\u001b[0;31m             \u001b[0mstruct\u001b[0m \u001b[0;34m=\u001b[0m \u001b[0mself\u001b[0m\u001b[0;34m.\u001b[0m\u001b[0m_inferSchema\u001b[0m\u001b[0;34m(\u001b[0m\u001b[0mrdd\u001b[0m\u001b[0;34m,\u001b[0m \u001b[0msamplingRatio\u001b[0m\u001b[0;34m)\u001b[0m\u001b[0;34m\u001b[0m\u001b[0m\n\u001b[0m\u001b[1;32m    376\u001b[0m             \u001b[0mconverter\u001b[0m \u001b[0;34m=\u001b[0m \u001b[0m_create_converter\u001b[0m\u001b[0;34m(\u001b[0m\u001b[0mstruct\u001b[0m\u001b[0;34m)\u001b[0m\u001b[0;34m\u001b[0m\u001b[0m\n\u001b[1;32m    377\u001b[0m             \u001b[0mrdd\u001b[0m \u001b[0;34m=\u001b[0m \u001b[0mrdd\u001b[0m\u001b[0;34m.\u001b[0m\u001b[0mmap\u001b[0m\u001b[0;34m(\u001b[0m\u001b[0mconverter\u001b[0m\u001b[0;34m)\u001b[0m\u001b[0;34m\u001b[0m\u001b[0m\n",
      "\u001b[0;32m/Users/admin/anaconda/lib/python2.7/site-packages/pyspark/sql/session.pyc\u001b[0m in \u001b[0;36m_inferSchema\u001b[0;34m(self, rdd, samplingRatio)\u001b[0m\n\u001b[1;32m    360\u001b[0m                         \u001b[0;32mbreak\u001b[0m\u001b[0;34m\u001b[0m\u001b[0m\n\u001b[1;32m    361\u001b[0m                 \u001b[0;32melse\u001b[0m\u001b[0;34m:\u001b[0m\u001b[0;34m\u001b[0m\u001b[0m\n\u001b[0;32m--> 362\u001b[0;31m                     raise ValueError(\"Some of types cannot be determined by the \"\n\u001b[0m\u001b[1;32m    363\u001b[0m                                      \"first 100 rows, please try again with sampling\")\n\u001b[1;32m    364\u001b[0m         \u001b[0;32melse\u001b[0m\u001b[0;34m:\u001b[0m\u001b[0;34m\u001b[0m\u001b[0m\n",
      "\u001b[0;31mValueError\u001b[0m: Some of types cannot be determined by the first 100 rows, please try again with sampling"
     ]
    }
   ],
   "source": [
    "%%time\n",
    "yelp_rb.toDF().show()"
   ]
  },
  {
   "cell_type": "markdown",
   "metadata": {},
   "source": [
    "## don't seem to have a straight way out, can only do:\n",
    "- buy more computing power\n",
    "- filter the data to smaller size before doing actions "
   ]
  },
  {
   "cell_type": "markdown",
   "metadata": {},
   "source": [
    "# merge, join, union transformation\n",
    "\n",
    "e.g., Union()\n",
    "- Union is basically used to merge two RDDs together if they have the same structure."
   ]
  },
  {
   "cell_type": "code",
   "execution_count": 41,
   "metadata": {
    "collapsed": false
   },
   "outputs": [
    {
     "ename": "AnalysisException",
     "evalue": "u\"Union can only be performed on tables with the same number of columns, but the first table has 9 columns and the second table has 15 columns;;\\n'Union\\n:- Repartition 150, true\\n:  +- Relation[business_id#86,cool#87L,date#88,funny#89L,review_id#90,stars#91L,text#92,useful#93L,user_id#94] json\\n+- Repartition 150, true\\n   +- Relation[address#46,attributes#47,business_id#48,categories#49,city#50,hours#51,is_open#52L,latitude#53,longitude#54,name#55,neighborhood#56,postal_code#57,review_count#58L,stars#59,state#60] json\\n\"",
     "output_type": "error",
     "traceback": [
      "\u001b[0;31m---------------------------------------------------------------------------\u001b[0m",
      "\u001b[0;31mAnalysisException\u001b[0m                         Traceback (most recent call last)",
      "\u001b[0;32m<ipython-input-41-d8d94761b94e>\u001b[0m in \u001b[0;36m<module>\u001b[0;34m()\u001b[0m\n\u001b[0;32m----> 1\u001b[0;31m \u001b[0mget_ipython\u001b[0m\u001b[0;34m(\u001b[0m\u001b[0;34m)\u001b[0m\u001b[0;34m.\u001b[0m\u001b[0mrun_cell_magic\u001b[0m\u001b[0;34m(\u001b[0m\u001b[0;34mu'time'\u001b[0m\u001b[0;34m,\u001b[0m \u001b[0;34mu''\u001b[0m\u001b[0;34m,\u001b[0m \u001b[0;34mu'review.union(bus).collect()'\u001b[0m\u001b[0;34m)\u001b[0m\u001b[0;34m\u001b[0m\u001b[0m\n\u001b[0m",
      "\u001b[0;32m/Users/admin/anaconda/lib/python2.7/site-packages/IPython/core/interactiveshell.pyc\u001b[0m in \u001b[0;36mrun_cell_magic\u001b[0;34m(self, magic_name, line, cell)\u001b[0m\n\u001b[1;32m   2101\u001b[0m             \u001b[0mmagic_arg_s\u001b[0m \u001b[0;34m=\u001b[0m \u001b[0mself\u001b[0m\u001b[0;34m.\u001b[0m\u001b[0mvar_expand\u001b[0m\u001b[0;34m(\u001b[0m\u001b[0mline\u001b[0m\u001b[0;34m,\u001b[0m \u001b[0mstack_depth\u001b[0m\u001b[0;34m)\u001b[0m\u001b[0;34m\u001b[0m\u001b[0m\n\u001b[1;32m   2102\u001b[0m             \u001b[0;32mwith\u001b[0m \u001b[0mself\u001b[0m\u001b[0;34m.\u001b[0m\u001b[0mbuiltin_trap\u001b[0m\u001b[0;34m:\u001b[0m\u001b[0;34m\u001b[0m\u001b[0m\n\u001b[0;32m-> 2103\u001b[0;31m                 \u001b[0mresult\u001b[0m \u001b[0;34m=\u001b[0m \u001b[0mfn\u001b[0m\u001b[0;34m(\u001b[0m\u001b[0mmagic_arg_s\u001b[0m\u001b[0;34m,\u001b[0m \u001b[0mcell\u001b[0m\u001b[0;34m)\u001b[0m\u001b[0;34m\u001b[0m\u001b[0m\n\u001b[0m\u001b[1;32m   2104\u001b[0m             \u001b[0;32mreturn\u001b[0m \u001b[0mresult\u001b[0m\u001b[0;34m\u001b[0m\u001b[0m\n\u001b[1;32m   2105\u001b[0m \u001b[0;34m\u001b[0m\u001b[0m\n",
      "\u001b[0;32m<decorator-gen-59>\u001b[0m in \u001b[0;36mtime\u001b[0;34m(self, line, cell, local_ns)\u001b[0m\n",
      "\u001b[0;32m/Users/admin/anaconda/lib/python2.7/site-packages/IPython/core/magic.pyc\u001b[0m in \u001b[0;36m<lambda>\u001b[0;34m(f, *a, **k)\u001b[0m\n\u001b[1;32m    186\u001b[0m     \u001b[0;31m# but it's overkill for just that one bit of state.\u001b[0m\u001b[0;34m\u001b[0m\u001b[0;34m\u001b[0m\u001b[0m\n\u001b[1;32m    187\u001b[0m     \u001b[0;32mdef\u001b[0m \u001b[0mmagic_deco\u001b[0m\u001b[0;34m(\u001b[0m\u001b[0marg\u001b[0m\u001b[0;34m)\u001b[0m\u001b[0;34m:\u001b[0m\u001b[0;34m\u001b[0m\u001b[0m\n\u001b[0;32m--> 188\u001b[0;31m         \u001b[0mcall\u001b[0m \u001b[0;34m=\u001b[0m \u001b[0;32mlambda\u001b[0m \u001b[0mf\u001b[0m\u001b[0;34m,\u001b[0m \u001b[0;34m*\u001b[0m\u001b[0ma\u001b[0m\u001b[0;34m,\u001b[0m \u001b[0;34m**\u001b[0m\u001b[0mk\u001b[0m\u001b[0;34m:\u001b[0m \u001b[0mf\u001b[0m\u001b[0;34m(\u001b[0m\u001b[0;34m*\u001b[0m\u001b[0ma\u001b[0m\u001b[0;34m,\u001b[0m \u001b[0;34m**\u001b[0m\u001b[0mk\u001b[0m\u001b[0;34m)\u001b[0m\u001b[0;34m\u001b[0m\u001b[0m\n\u001b[0m\u001b[1;32m    189\u001b[0m \u001b[0;34m\u001b[0m\u001b[0m\n\u001b[1;32m    190\u001b[0m         \u001b[0;32mif\u001b[0m \u001b[0mcallable\u001b[0m\u001b[0;34m(\u001b[0m\u001b[0marg\u001b[0m\u001b[0;34m)\u001b[0m\u001b[0;34m:\u001b[0m\u001b[0;34m\u001b[0m\u001b[0m\n",
      "\u001b[0;32m/Users/admin/anaconda/lib/python2.7/site-packages/IPython/core/magics/execution.pyc\u001b[0m in \u001b[0;36mtime\u001b[0;34m(self, line, cell, local_ns)\u001b[0m\n\u001b[1;32m   1170\u001b[0m         \u001b[0;32mif\u001b[0m \u001b[0mmode\u001b[0m\u001b[0;34m==\u001b[0m\u001b[0;34m'eval'\u001b[0m\u001b[0;34m:\u001b[0m\u001b[0;34m\u001b[0m\u001b[0m\n\u001b[1;32m   1171\u001b[0m             \u001b[0mst\u001b[0m \u001b[0;34m=\u001b[0m \u001b[0mclock2\u001b[0m\u001b[0;34m(\u001b[0m\u001b[0;34m)\u001b[0m\u001b[0;34m\u001b[0m\u001b[0m\n\u001b[0;32m-> 1172\u001b[0;31m             \u001b[0mout\u001b[0m \u001b[0;34m=\u001b[0m \u001b[0meval\u001b[0m\u001b[0;34m(\u001b[0m\u001b[0mcode\u001b[0m\u001b[0;34m,\u001b[0m \u001b[0mglob\u001b[0m\u001b[0;34m,\u001b[0m \u001b[0mlocal_ns\u001b[0m\u001b[0;34m)\u001b[0m\u001b[0;34m\u001b[0m\u001b[0m\n\u001b[0m\u001b[1;32m   1173\u001b[0m             \u001b[0mend\u001b[0m \u001b[0;34m=\u001b[0m \u001b[0mclock2\u001b[0m\u001b[0;34m(\u001b[0m\u001b[0;34m)\u001b[0m\u001b[0;34m\u001b[0m\u001b[0m\n\u001b[1;32m   1174\u001b[0m         \u001b[0;32melse\u001b[0m\u001b[0;34m:\u001b[0m\u001b[0;34m\u001b[0m\u001b[0m\n",
      "\u001b[0;32m<timed eval>\u001b[0m in \u001b[0;36m<module>\u001b[0;34m()\u001b[0m\n",
      "\u001b[0;32m/Users/admin/anaconda/lib/python2.7/site-packages/pyspark/sql/dataframe.pyc\u001b[0m in \u001b[0;36munion\u001b[0;34m(self, other)\u001b[0m\n\u001b[1;32m   1174\u001b[0m         \u001b[0mAlso\u001b[0m \u001b[0;32mas\u001b[0m \u001b[0mstandard\u001b[0m \u001b[0;32min\u001b[0m \u001b[0mSQL\u001b[0m\u001b[0;34m,\u001b[0m \u001b[0mthis\u001b[0m \u001b[0mfunction\u001b[0m \u001b[0mresolves\u001b[0m \u001b[0mcolumns\u001b[0m \u001b[0mby\u001b[0m \u001b[0mposition\u001b[0m \u001b[0;34m(\u001b[0m\u001b[0;32mnot\u001b[0m \u001b[0mby\u001b[0m \u001b[0mname\u001b[0m\u001b[0;34m)\u001b[0m\u001b[0;34m.\u001b[0m\u001b[0;34m\u001b[0m\u001b[0m\n\u001b[1;32m   1175\u001b[0m         \"\"\"\n\u001b[0;32m-> 1176\u001b[0;31m         \u001b[0;32mreturn\u001b[0m \u001b[0mDataFrame\u001b[0m\u001b[0;34m(\u001b[0m\u001b[0mself\u001b[0m\u001b[0;34m.\u001b[0m\u001b[0m_jdf\u001b[0m\u001b[0;34m.\u001b[0m\u001b[0munion\u001b[0m\u001b[0;34m(\u001b[0m\u001b[0mother\u001b[0m\u001b[0;34m.\u001b[0m\u001b[0m_jdf\u001b[0m\u001b[0;34m)\u001b[0m\u001b[0;34m,\u001b[0m \u001b[0mself\u001b[0m\u001b[0;34m.\u001b[0m\u001b[0msql_ctx\u001b[0m\u001b[0;34m)\u001b[0m\u001b[0;34m\u001b[0m\u001b[0m\n\u001b[0m\u001b[1;32m   1177\u001b[0m \u001b[0;34m\u001b[0m\u001b[0m\n\u001b[1;32m   1178\u001b[0m     \u001b[0;34m@\u001b[0m\u001b[0msince\u001b[0m\u001b[0;34m(\u001b[0m\u001b[0;36m1.3\u001b[0m\u001b[0;34m)\u001b[0m\u001b[0;34m\u001b[0m\u001b[0m\n",
      "\u001b[0;32m/Users/admin/anaconda/lib/python2.7/site-packages/pyspark/python/lib/py4j-0.10.4-src.zip/py4j/java_gateway.py\u001b[0m in \u001b[0;36m__call__\u001b[0;34m(self, *args)\u001b[0m\n\u001b[1;32m   1131\u001b[0m         \u001b[0manswer\u001b[0m \u001b[0;34m=\u001b[0m \u001b[0mself\u001b[0m\u001b[0;34m.\u001b[0m\u001b[0mgateway_client\u001b[0m\u001b[0;34m.\u001b[0m\u001b[0msend_command\u001b[0m\u001b[0;34m(\u001b[0m\u001b[0mcommand\u001b[0m\u001b[0;34m)\u001b[0m\u001b[0;34m\u001b[0m\u001b[0m\n\u001b[1;32m   1132\u001b[0m         return_value = get_return_value(\n\u001b[0;32m-> 1133\u001b[0;31m             answer, self.gateway_client, self.target_id, self.name)\n\u001b[0m\u001b[1;32m   1134\u001b[0m \u001b[0;34m\u001b[0m\u001b[0m\n\u001b[1;32m   1135\u001b[0m         \u001b[0;32mfor\u001b[0m \u001b[0mtemp_arg\u001b[0m \u001b[0;32min\u001b[0m \u001b[0mtemp_args\u001b[0m\u001b[0;34m:\u001b[0m\u001b[0;34m\u001b[0m\u001b[0m\n",
      "\u001b[0;32m/Users/admin/anaconda/lib/python2.7/site-packages/pyspark/sql/utils.pyc\u001b[0m in \u001b[0;36mdeco\u001b[0;34m(*a, **kw)\u001b[0m\n\u001b[1;32m     67\u001b[0m                                              e.java_exception.getStackTrace()))\n\u001b[1;32m     68\u001b[0m             \u001b[0;32mif\u001b[0m \u001b[0ms\u001b[0m\u001b[0;34m.\u001b[0m\u001b[0mstartswith\u001b[0m\u001b[0;34m(\u001b[0m\u001b[0;34m'org.apache.spark.sql.AnalysisException: '\u001b[0m\u001b[0;34m)\u001b[0m\u001b[0;34m:\u001b[0m\u001b[0;34m\u001b[0m\u001b[0m\n\u001b[0;32m---> 69\u001b[0;31m                 \u001b[0;32mraise\u001b[0m \u001b[0mAnalysisException\u001b[0m\u001b[0;34m(\u001b[0m\u001b[0ms\u001b[0m\u001b[0;34m.\u001b[0m\u001b[0msplit\u001b[0m\u001b[0;34m(\u001b[0m\u001b[0;34m': '\u001b[0m\u001b[0;34m,\u001b[0m \u001b[0;36m1\u001b[0m\u001b[0;34m)\u001b[0m\u001b[0;34m[\u001b[0m\u001b[0;36m1\u001b[0m\u001b[0;34m]\u001b[0m\u001b[0;34m,\u001b[0m \u001b[0mstackTrace\u001b[0m\u001b[0;34m)\u001b[0m\u001b[0;34m\u001b[0m\u001b[0m\n\u001b[0m\u001b[1;32m     70\u001b[0m             \u001b[0;32mif\u001b[0m \u001b[0ms\u001b[0m\u001b[0;34m.\u001b[0m\u001b[0mstartswith\u001b[0m\u001b[0;34m(\u001b[0m\u001b[0;34m'org.apache.spark.sql.catalyst.analysis'\u001b[0m\u001b[0;34m)\u001b[0m\u001b[0;34m:\u001b[0m\u001b[0;34m\u001b[0m\u001b[0m\n\u001b[1;32m     71\u001b[0m                 \u001b[0;32mraise\u001b[0m \u001b[0mAnalysisException\u001b[0m\u001b[0;34m(\u001b[0m\u001b[0ms\u001b[0m\u001b[0;34m.\u001b[0m\u001b[0msplit\u001b[0m\u001b[0;34m(\u001b[0m\u001b[0;34m': '\u001b[0m\u001b[0;34m,\u001b[0m \u001b[0;36m1\u001b[0m\u001b[0;34m)\u001b[0m\u001b[0;34m[\u001b[0m\u001b[0;36m1\u001b[0m\u001b[0;34m]\u001b[0m\u001b[0;34m,\u001b[0m \u001b[0mstackTrace\u001b[0m\u001b[0;34m)\u001b[0m\u001b[0;34m\u001b[0m\u001b[0m\n",
      "\u001b[0;31mAnalysisException\u001b[0m: u\"Union can only be performed on tables with the same number of columns, but the first table has 9 columns and the second table has 15 columns;;\\n'Union\\n:- Repartition 150, true\\n:  +- Relation[business_id#86,cool#87L,date#88,funny#89L,review_id#90,stars#91L,text#92,useful#93L,user_id#94] json\\n+- Repartition 150, true\\n   +- Relation[address#46,attributes#47,business_id#48,categories#49,city#50,hours#51,is_open#52L,latitude#53,longitude#54,name#55,neighborhood#56,postal_code#57,review_count#58L,stars#59,state#60] json\\n\""
     ]
    }
   ],
   "source": [
    "%%time\n",
    "review.union(bus).collect()"
   ]
  },
  {
   "cell_type": "markdown",
   "metadata": {},
   "source": [
    "---"
   ]
  },
  {
   "cell_type": "markdown",
   "metadata": {},
   "source": [
    "### glom - return an RDD created by coalescing all elements within each partition into a list.\n",
    "\n",
    "http://parrotprediction.com/partitioning-in-apache-spark/\n",
    "\n",
    "Spark uses different partitioning schemes for various types of RDDs and operations. In a case of using parallelize(), data is evenly distributed between partitions using their indices (no partitioning scheme is used). << how could I get sc.parallelize() with my current setup tho...."
   ]
  },
  {
   "cell_type": "code",
   "execution_count": 42,
   "metadata": {
    "collapsed": false
   },
   "outputs": [
    {
     "name": "stdout",
     "output_type": "stream",
     "text": [
      "Number of partitions: 200\n"
     ]
    }
   ],
   "source": [
    "print(\"Number of partitions: {}\".format(yelp_rb.getNumPartitions()))"
   ]
  },
  {
   "cell_type": "code",
   "execution_count": 43,
   "metadata": {
    "collapsed": false
   },
   "outputs": [
    {
     "name": "stdout",
     "output_type": "stream",
     "text": [
      "Partitioner: None\n"
     ]
    },
    {
     "ename": "Py4JJavaError",
     "evalue": "An error occurred while calling z:org.apache.spark.api.python.PythonRDD.collectAndServe.\n: org.apache.spark.SparkException: Job aborted due to stage failure: Total size of serialized results of 106 tasks (3.0 GB) is bigger than spark.driver.maxResultSize (3.0 GB)\n\tat org.apache.spark.scheduler.DAGScheduler.org$apache$spark$scheduler$DAGScheduler$$failJobAndIndependentStages(DAGScheduler.scala:1499)\n\tat org.apache.spark.scheduler.DAGScheduler$$anonfun$abortStage$1.apply(DAGScheduler.scala:1487)\n\tat org.apache.spark.scheduler.DAGScheduler$$anonfun$abortStage$1.apply(DAGScheduler.scala:1486)\n\tat scala.collection.mutable.ResizableArray$class.foreach(ResizableArray.scala:59)\n\tat scala.collection.mutable.ArrayBuffer.foreach(ArrayBuffer.scala:48)\n\tat org.apache.spark.scheduler.DAGScheduler.abortStage(DAGScheduler.scala:1486)\n\tat org.apache.spark.scheduler.DAGScheduler$$anonfun$handleTaskSetFailed$1.apply(DAGScheduler.scala:814)\n\tat org.apache.spark.scheduler.DAGScheduler$$anonfun$handleTaskSetFailed$1.apply(DAGScheduler.scala:814)\n\tat scala.Option.foreach(Option.scala:257)\n\tat org.apache.spark.scheduler.DAGScheduler.handleTaskSetFailed(DAGScheduler.scala:814)\n\tat org.apache.spark.scheduler.DAGSchedulerEventProcessLoop.doOnReceive(DAGScheduler.scala:1714)\n\tat org.apache.spark.scheduler.DAGSchedulerEventProcessLoop.onReceive(DAGScheduler.scala:1669)\n\tat org.apache.spark.scheduler.DAGSchedulerEventProcessLoop.onReceive(DAGScheduler.scala:1658)\n\tat org.apache.spark.util.EventLoop$$anon$1.run(EventLoop.scala:48)\n\tat org.apache.spark.scheduler.DAGScheduler.runJob(DAGScheduler.scala:630)\n\tat org.apache.spark.SparkContext.runJob(SparkContext.scala:2022)\n\tat org.apache.spark.SparkContext.runJob(SparkContext.scala:2043)\n\tat org.apache.spark.SparkContext.runJob(SparkContext.scala:2062)\n\tat org.apache.spark.SparkContext.runJob(SparkContext.scala:2087)\n\tat org.apache.spark.rdd.RDD$$anonfun$collect$1.apply(RDD.scala:936)\n\tat org.apache.spark.rdd.RDDOperationScope$.withScope(RDDOperationScope.scala:151)\n\tat org.apache.spark.rdd.RDDOperationScope$.withScope(RDDOperationScope.scala:112)\n\tat org.apache.spark.rdd.RDD.withScope(RDD.scala:362)\n\tat org.apache.spark.rdd.RDD.collect(RDD.scala:935)\n\tat org.apache.spark.api.python.PythonRDD$.collectAndServe(PythonRDD.scala:458)\n\tat org.apache.spark.api.python.PythonRDD.collectAndServe(PythonRDD.scala)\n\tat sun.reflect.NativeMethodAccessorImpl.invoke0(Native Method)\n\tat sun.reflect.NativeMethodAccessorImpl.invoke(NativeMethodAccessorImpl.java:62)\n\tat sun.reflect.DelegatingMethodAccessorImpl.invoke(DelegatingMethodAccessorImpl.java:43)\n\tat java.lang.reflect.Method.invoke(Method.java:498)\n\tat py4j.reflection.MethodInvoker.invoke(MethodInvoker.java:244)\n\tat py4j.reflection.ReflectionEngine.invoke(ReflectionEngine.java:357)\n\tat py4j.Gateway.invoke(Gateway.java:280)\n\tat py4j.commands.AbstractCommand.invokeMethod(AbstractCommand.java:132)\n\tat py4j.commands.CallCommand.execute(CallCommand.java:79)\n\tat py4j.GatewayConnection.run(GatewayConnection.java:214)\n\tat java.lang.Thread.run(Thread.java:748)\n",
     "output_type": "error",
     "traceback": [
      "\u001b[0;31m---------------------------------------------------------------------------\u001b[0m",
      "\u001b[0;31mPy4JJavaError\u001b[0m                             Traceback (most recent call last)",
      "\u001b[0;32m<ipython-input-43-d2723a5bdf55>\u001b[0m in \u001b[0;36m<module>\u001b[0;34m()\u001b[0m\n\u001b[1;32m      1\u001b[0m \u001b[0;32mprint\u001b[0m\u001b[0;34m(\u001b[0m\u001b[0;34m\"Partitioner: {}\"\u001b[0m\u001b[0;34m.\u001b[0m\u001b[0mformat\u001b[0m\u001b[0;34m(\u001b[0m\u001b[0myelp_rb\u001b[0m\u001b[0;34m.\u001b[0m\u001b[0mpartitioner\u001b[0m\u001b[0;34m)\u001b[0m\u001b[0;34m)\u001b[0m\u001b[0;34m\u001b[0m\u001b[0m\n\u001b[0;32m----> 2\u001b[0;31m \u001b[0;32mprint\u001b[0m\u001b[0;34m(\u001b[0m\u001b[0;34m\"Partitions structure: {}\"\u001b[0m\u001b[0;34m.\u001b[0m\u001b[0mformat\u001b[0m\u001b[0;34m(\u001b[0m\u001b[0myelp_rb\u001b[0m\u001b[0;34m.\u001b[0m\u001b[0mglom\u001b[0m\u001b[0;34m(\u001b[0m\u001b[0;34m)\u001b[0m\u001b[0;34m.\u001b[0m\u001b[0mcollect\u001b[0m\u001b[0;34m(\u001b[0m\u001b[0;34m)\u001b[0m\u001b[0;34m)\u001b[0m\u001b[0;34m)\u001b[0m\u001b[0;34m\u001b[0m\u001b[0m\n\u001b[0m",
      "\u001b[0;32m/Users/admin/anaconda/lib/python2.7/site-packages/pyspark/rdd.pyc\u001b[0m in \u001b[0;36mcollect\u001b[0;34m(self)\u001b[0m\n\u001b[1;32m    807\u001b[0m         \"\"\"\n\u001b[1;32m    808\u001b[0m         \u001b[0;32mwith\u001b[0m \u001b[0mSCCallSiteSync\u001b[0m\u001b[0;34m(\u001b[0m\u001b[0mself\u001b[0m\u001b[0;34m.\u001b[0m\u001b[0mcontext\u001b[0m\u001b[0;34m)\u001b[0m \u001b[0;32mas\u001b[0m \u001b[0mcss\u001b[0m\u001b[0;34m:\u001b[0m\u001b[0;34m\u001b[0m\u001b[0m\n\u001b[0;32m--> 809\u001b[0;31m             \u001b[0mport\u001b[0m \u001b[0;34m=\u001b[0m \u001b[0mself\u001b[0m\u001b[0;34m.\u001b[0m\u001b[0mctx\u001b[0m\u001b[0;34m.\u001b[0m\u001b[0m_jvm\u001b[0m\u001b[0;34m.\u001b[0m\u001b[0mPythonRDD\u001b[0m\u001b[0;34m.\u001b[0m\u001b[0mcollectAndServe\u001b[0m\u001b[0;34m(\u001b[0m\u001b[0mself\u001b[0m\u001b[0;34m.\u001b[0m\u001b[0m_jrdd\u001b[0m\u001b[0;34m.\u001b[0m\u001b[0mrdd\u001b[0m\u001b[0;34m(\u001b[0m\u001b[0;34m)\u001b[0m\u001b[0;34m)\u001b[0m\u001b[0;34m\u001b[0m\u001b[0m\n\u001b[0m\u001b[1;32m    810\u001b[0m         \u001b[0;32mreturn\u001b[0m \u001b[0mlist\u001b[0m\u001b[0;34m(\u001b[0m\u001b[0m_load_from_socket\u001b[0m\u001b[0;34m(\u001b[0m\u001b[0mport\u001b[0m\u001b[0;34m,\u001b[0m \u001b[0mself\u001b[0m\u001b[0;34m.\u001b[0m\u001b[0m_jrdd_deserializer\u001b[0m\u001b[0;34m)\u001b[0m\u001b[0;34m)\u001b[0m\u001b[0;34m\u001b[0m\u001b[0m\n\u001b[1;32m    811\u001b[0m \u001b[0;34m\u001b[0m\u001b[0m\n",
      "\u001b[0;32m/Users/admin/anaconda/lib/python2.7/site-packages/pyspark/python/lib/py4j-0.10.4-src.zip/py4j/java_gateway.py\u001b[0m in \u001b[0;36m__call__\u001b[0;34m(self, *args)\u001b[0m\n\u001b[1;32m   1131\u001b[0m         \u001b[0manswer\u001b[0m \u001b[0;34m=\u001b[0m \u001b[0mself\u001b[0m\u001b[0;34m.\u001b[0m\u001b[0mgateway_client\u001b[0m\u001b[0;34m.\u001b[0m\u001b[0msend_command\u001b[0m\u001b[0;34m(\u001b[0m\u001b[0mcommand\u001b[0m\u001b[0;34m)\u001b[0m\u001b[0;34m\u001b[0m\u001b[0m\n\u001b[1;32m   1132\u001b[0m         return_value = get_return_value(\n\u001b[0;32m-> 1133\u001b[0;31m             answer, self.gateway_client, self.target_id, self.name)\n\u001b[0m\u001b[1;32m   1134\u001b[0m \u001b[0;34m\u001b[0m\u001b[0m\n\u001b[1;32m   1135\u001b[0m         \u001b[0;32mfor\u001b[0m \u001b[0mtemp_arg\u001b[0m \u001b[0;32min\u001b[0m \u001b[0mtemp_args\u001b[0m\u001b[0;34m:\u001b[0m\u001b[0;34m\u001b[0m\u001b[0m\n",
      "\u001b[0;32m/Users/admin/anaconda/lib/python2.7/site-packages/pyspark/sql/utils.pyc\u001b[0m in \u001b[0;36mdeco\u001b[0;34m(*a, **kw)\u001b[0m\n\u001b[1;32m     61\u001b[0m     \u001b[0;32mdef\u001b[0m \u001b[0mdeco\u001b[0m\u001b[0;34m(\u001b[0m\u001b[0;34m*\u001b[0m\u001b[0ma\u001b[0m\u001b[0;34m,\u001b[0m \u001b[0;34m**\u001b[0m\u001b[0mkw\u001b[0m\u001b[0;34m)\u001b[0m\u001b[0;34m:\u001b[0m\u001b[0;34m\u001b[0m\u001b[0m\n\u001b[1;32m     62\u001b[0m         \u001b[0;32mtry\u001b[0m\u001b[0;34m:\u001b[0m\u001b[0;34m\u001b[0m\u001b[0m\n\u001b[0;32m---> 63\u001b[0;31m             \u001b[0;32mreturn\u001b[0m \u001b[0mf\u001b[0m\u001b[0;34m(\u001b[0m\u001b[0;34m*\u001b[0m\u001b[0ma\u001b[0m\u001b[0;34m,\u001b[0m \u001b[0;34m**\u001b[0m\u001b[0mkw\u001b[0m\u001b[0;34m)\u001b[0m\u001b[0;34m\u001b[0m\u001b[0m\n\u001b[0m\u001b[1;32m     64\u001b[0m         \u001b[0;32mexcept\u001b[0m \u001b[0mpy4j\u001b[0m\u001b[0;34m.\u001b[0m\u001b[0mprotocol\u001b[0m\u001b[0;34m.\u001b[0m\u001b[0mPy4JJavaError\u001b[0m \u001b[0;32mas\u001b[0m \u001b[0me\u001b[0m\u001b[0;34m:\u001b[0m\u001b[0;34m\u001b[0m\u001b[0m\n\u001b[1;32m     65\u001b[0m             \u001b[0ms\u001b[0m \u001b[0;34m=\u001b[0m \u001b[0me\u001b[0m\u001b[0;34m.\u001b[0m\u001b[0mjava_exception\u001b[0m\u001b[0;34m.\u001b[0m\u001b[0mtoString\u001b[0m\u001b[0;34m(\u001b[0m\u001b[0;34m)\u001b[0m\u001b[0;34m\u001b[0m\u001b[0m\n",
      "\u001b[0;32m/Users/admin/anaconda/lib/python2.7/site-packages/pyspark/python/lib/py4j-0.10.4-src.zip/py4j/protocol.py\u001b[0m in \u001b[0;36mget_return_value\u001b[0;34m(answer, gateway_client, target_id, name)\u001b[0m\n\u001b[1;32m    317\u001b[0m                 raise Py4JJavaError(\n\u001b[1;32m    318\u001b[0m                     \u001b[0;34m\"An error occurred while calling {0}{1}{2}.\\n\"\u001b[0m\u001b[0;34m.\u001b[0m\u001b[0;34m\u001b[0m\u001b[0m\n\u001b[0;32m--> 319\u001b[0;31m                     format(target_id, \".\", name), value)\n\u001b[0m\u001b[1;32m    320\u001b[0m             \u001b[0;32melse\u001b[0m\u001b[0;34m:\u001b[0m\u001b[0;34m\u001b[0m\u001b[0m\n\u001b[1;32m    321\u001b[0m                 raise Py4JError(\n",
      "\u001b[0;31mPy4JJavaError\u001b[0m: An error occurred while calling z:org.apache.spark.api.python.PythonRDD.collectAndServe.\n: org.apache.spark.SparkException: Job aborted due to stage failure: Total size of serialized results of 106 tasks (3.0 GB) is bigger than spark.driver.maxResultSize (3.0 GB)\n\tat org.apache.spark.scheduler.DAGScheduler.org$apache$spark$scheduler$DAGScheduler$$failJobAndIndependentStages(DAGScheduler.scala:1499)\n\tat org.apache.spark.scheduler.DAGScheduler$$anonfun$abortStage$1.apply(DAGScheduler.scala:1487)\n\tat org.apache.spark.scheduler.DAGScheduler$$anonfun$abortStage$1.apply(DAGScheduler.scala:1486)\n\tat scala.collection.mutable.ResizableArray$class.foreach(ResizableArray.scala:59)\n\tat scala.collection.mutable.ArrayBuffer.foreach(ArrayBuffer.scala:48)\n\tat org.apache.spark.scheduler.DAGScheduler.abortStage(DAGScheduler.scala:1486)\n\tat org.apache.spark.scheduler.DAGScheduler$$anonfun$handleTaskSetFailed$1.apply(DAGScheduler.scala:814)\n\tat org.apache.spark.scheduler.DAGScheduler$$anonfun$handleTaskSetFailed$1.apply(DAGScheduler.scala:814)\n\tat scala.Option.foreach(Option.scala:257)\n\tat org.apache.spark.scheduler.DAGScheduler.handleTaskSetFailed(DAGScheduler.scala:814)\n\tat org.apache.spark.scheduler.DAGSchedulerEventProcessLoop.doOnReceive(DAGScheduler.scala:1714)\n\tat org.apache.spark.scheduler.DAGSchedulerEventProcessLoop.onReceive(DAGScheduler.scala:1669)\n\tat org.apache.spark.scheduler.DAGSchedulerEventProcessLoop.onReceive(DAGScheduler.scala:1658)\n\tat org.apache.spark.util.EventLoop$$anon$1.run(EventLoop.scala:48)\n\tat org.apache.spark.scheduler.DAGScheduler.runJob(DAGScheduler.scala:630)\n\tat org.apache.spark.SparkContext.runJob(SparkContext.scala:2022)\n\tat org.apache.spark.SparkContext.runJob(SparkContext.scala:2043)\n\tat org.apache.spark.SparkContext.runJob(SparkContext.scala:2062)\n\tat org.apache.spark.SparkContext.runJob(SparkContext.scala:2087)\n\tat org.apache.spark.rdd.RDD$$anonfun$collect$1.apply(RDD.scala:936)\n\tat org.apache.spark.rdd.RDDOperationScope$.withScope(RDDOperationScope.scala:151)\n\tat org.apache.spark.rdd.RDDOperationScope$.withScope(RDDOperationScope.scala:112)\n\tat org.apache.spark.rdd.RDD.withScope(RDD.scala:362)\n\tat org.apache.spark.rdd.RDD.collect(RDD.scala:935)\n\tat org.apache.spark.api.python.PythonRDD$.collectAndServe(PythonRDD.scala:458)\n\tat org.apache.spark.api.python.PythonRDD.collectAndServe(PythonRDD.scala)\n\tat sun.reflect.NativeMethodAccessorImpl.invoke0(Native Method)\n\tat sun.reflect.NativeMethodAccessorImpl.invoke(NativeMethodAccessorImpl.java:62)\n\tat sun.reflect.DelegatingMethodAccessorImpl.invoke(DelegatingMethodAccessorImpl.java:43)\n\tat java.lang.reflect.Method.invoke(Method.java:498)\n\tat py4j.reflection.MethodInvoker.invoke(MethodInvoker.java:244)\n\tat py4j.reflection.ReflectionEngine.invoke(ReflectionEngine.java:357)\n\tat py4j.Gateway.invoke(Gateway.java:280)\n\tat py4j.commands.AbstractCommand.invokeMethod(AbstractCommand.java:132)\n\tat py4j.commands.CallCommand.execute(CallCommand.java:79)\n\tat py4j.GatewayConnection.run(GatewayConnection.java:214)\n\tat java.lang.Thread.run(Thread.java:748)\n"
     ]
    }
   ],
   "source": [
    "print(\"Partitioner: {}\".format(yelp_rb.partitioner))\n",
    "print(\"Partitions structure: {}\".format(yelp_rb.glom().collect()))"
   ]
  },
  {
   "cell_type": "markdown",
   "metadata": {},
   "source": [
    "### again .... error \n",
    "Py4JJavaError: An error occurred while calling z:org.apache.spark.api.python.PythonRDD.collectAndServe.\n",
    ": org.apache.spark.SparkException: Job aborted due to stage failure: Total size of serialized results of 106 tasks (3.0 GB) is bigger than spark.driver.maxResultSize (3.0 GB)"
   ]
  },
  {
   "cell_type": "code",
   "execution_count": 18,
   "metadata": {
    "collapsed": true
   },
   "outputs": [],
   "source": [
    "sc.stop()\n"
   ]
  },
  {
   "cell_type": "code",
   "execution_count": 19,
   "metadata": {
    "collapsed": false
   },
   "outputs": [
    {
     "name": "stdout",
     "output_type": "stream",
     "text": [
      "Number of partitions: 1\n",
      "Partitioner: None\n",
      "Partitions structure: [[0, 1, 2, 3, 4, 5, 6, 7, 8, 9]]\n",
      "CPU times: user 20 ms, sys: 9.7 ms, total: 29.7 ms\n",
      "Wall time: 2.01 s\n"
     ]
    }
   ],
   "source": [
    "%%time\n",
    "# in the following, let's do simple data instead of hauling the big yelp data\n",
    "nums = range(0, 10)\n",
    "\n",
    "with SparkContext(\"local\") as sc:\n",
    "    rdd = sc.parallelize(nums)\n",
    "    \n",
    "    print(\"Number of partitions: {}\".format(rdd.getNumPartitions()))\n",
    "    print(\"Partitioner: {}\".format(rdd.partitioner))\n",
    "    print(\"Partitions structure: {}\".format(rdd.glom().collect()))\n"
   ]
  },
  {
   "cell_type": "code",
   "execution_count": 21,
   "metadata": {
    "collapsed": false
   },
   "outputs": [
    {
     "name": "stdout",
     "output_type": "stream",
     "text": [
      "Default parallelism: 2\n",
      "Number of partitions: 2\n",
      "Partitioner: None\n",
      "Partitions structure: [[0, 1, 2, 3, 4], [5, 6, 7, 8, 9]]\n",
      "CPU times: user 16.3 ms, sys: 6.02 ms, total: 22.3 ms\n",
      "Wall time: 1.43 s\n"
     ]
    }
   ],
   "source": [
    "%%time\n",
    "# allow driver to use two local cores.\n",
    "with SparkContext(\"local[2]\") as sc:\n",
    "    rdd = sc.parallelize(nums)\n",
    "    \n",
    "    print(\"Default parallelism: {}\".format(sc.defaultParallelism))\n",
    "    print(\"Number of partitions: {}\".format(rdd.getNumPartitions()))\n",
    "    print(\"Partitioner: {}\".format(rdd.partitioner))\n",
    "    print(\"Partitions structure: {}\".format(rdd.glom().collect()))\n"
   ]
  },
  {
   "cell_type": "code",
   "execution_count": 22,
   "metadata": {
    "collapsed": false
   },
   "outputs": [
    {
     "name": "stdout",
     "output_type": "stream",
     "text": [
      "Number of partitions: 15\n",
      "Partitioner: None\n",
      "Partitions structure: [[], [0], [1], [], [2], [3], [], [4], [5], [], [6], [7], [], [8], [9]]\n",
      "CPU times: user 20.9 ms, sys: 7.46 ms, total: 28.3 ms\n",
      "Wall time: 1.59 s\n"
     ]
    }
   ],
   "source": [
    "%%time\n",
    "# what happens if number of partitions exceeds number of data records?\n",
    "with SparkContext(\"local\") as sc:\n",
    "    rdd = sc.parallelize(nums, 15)\n",
    "    \n",
    "    print(\"Number of partitions: {}\".format(rdd.getNumPartitions()))\n",
    "    print(\"Partitioner: {}\".format(rdd.partitioner))\n",
    "    print(\"Partitions structure: {}\".format(rdd.glom().collect()))"
   ]
  },
  {
   "cell_type": "markdown",
   "metadata": {},
   "source": [
    "--> Spark created requested a number of partitions but most of them are empty. This is bad because the time needed to prepare a new thread for processing data (one element) is significantly greater than processing time itself (you can analyze it in Spark UI)."
   ]
  },
  {
   "cell_type": "markdown",
   "metadata": {},
   "source": [
    "## Custom partitions with partitionBy()\n",
    "\n",
    "partitionBy() *transformation* allows applying custom partitioning logic over the RDD, requires data to be in key/value format we will need to transform the data."
   ]
  },
  {
   "cell_type": "code",
   "execution_count": 23,
   "metadata": {
    "collapsed": false
   },
   "outputs": [
    {
     "name": "stdout",
     "output_type": "stream",
     "text": [
      "Number of partitions: 2\n",
      "Partitioner: <pyspark.rdd.Partitioner object at 0x116ac4590>\n",
      "Partitions structure: [[(0, 0), (2, 2), (4, 4), (6, 6), (8, 8)], [(1, 1), (3, 3), (5, 5), (7, 7), (9, 9)]]\n"
     ]
    }
   ],
   "source": [
    "with SparkContext(\"local[2]\") as sc:\n",
    "    rdd = sc.parallelize(nums) \\     # put into RDD w/o partitioning schmee\n",
    "        .map(lambda el: (el, el)) \\ \n",
    "        .partitionBy(2) \\           # split into 2 chunks using the default hash partitioner\n",
    "        .persist()                  # persist storage level, default = memory\n",
    "    \n",
    "    print(\"Number of partitions: {}\".format(rdd.getNumPartitions()))\n",
    "    print(\"Partitioner: {}\".format(rdd.partitioner))\n",
    "    print(\"Partitions structure: {}\".format(rdd.glom().collect()))"
   ]
  },
  {
   "cell_type": "code",
   "execution_count": 27,
   "metadata": {
    "collapsed": true
   },
   "outputs": [],
   "source": [
    "yelp_rb.persist?"
   ]
  },
  {
   "cell_type": "code",
   "execution_count": 30,
   "metadata": {
    "collapsed": false
   },
   "outputs": [
    {
     "name": "stdout",
     "output_type": "stream",
     "text": [
      "Element: [0]: 0 % 2 = partition 0\n",
      "Element: [1]: 1 % 2 = partition 1\n",
      "Element: [2]: 2 % 2 = partition 0\n",
      "Element: [3]: 3 % 2 = partition 1\n",
      "Element: [4]: 4 % 2 = partition 0\n",
      "Element: [5]: 5 % 2 = partition 1\n",
      "Element: [6]: 6 % 2 = partition 0\n",
      "Element: [7]: 7 % 2 = partition 1\n",
      "Element: [8]: 8 % 2 = partition 0\n",
      "Element: [9]: 9 % 2 = partition 1\n",
      "CPU times: user 236 µs, sys: 53 µs, total: 289 µs\n",
      "Wall time: 249 µs\n"
     ]
    }
   ],
   "source": [
    "%%time\n",
    "# santity\n",
    "from pyspark.rdd import portable_hash\n",
    " \n",
    "num_partitions = 2\n",
    " \n",
    "for el in nums:\n",
    "    # partition number is evaluated using: partition = partitionFunc(key) % num_partitions.\n",
    "    # default partition func in pyspark = hash\n",
    "    print(\"Element: [{}]: {} % {} = partition {}\".format(\n",
    "        el, portable_hash(el), num_partitions, portable_hash(el) % num_partitions))"
   ]
  },
  {
   "cell_type": "markdown",
   "metadata": {},
   "source": [
    "#### slightly more realistic example"
   ]
  },
  {
   "cell_type": "code",
   "execution_count": 31,
   "metadata": {
    "collapsed": true
   },
   "outputs": [],
   "source": [
    "# data consist of various dummy transactions made across different countries.\n",
    "\n",
    "transactions = [\n",
    "    {'name': 'Bob', 'amount': 100, 'country': 'United Kingdom'},\n",
    "    {'name': 'James', 'amount': 15, 'country': 'United Kingdom'},\n",
    "    {'name': 'Marek', 'amount': 51, 'country': 'Poland'},\n",
    "    {'name': 'Johannes', 'amount': 200, 'country': 'Germany'},\n",
    "    {'name': 'Paul', 'amount': 75, 'country': 'Poland'},\n",
    "]"
   ]
  },
  {
   "cell_type": "markdown",
   "metadata": {},
   "source": [
    "#### To optimize network traffic for further analysis, put records from one country in one node.\n",
    "Will use custom_partitioner(), which returns an integer for given object (tuple key).\n"
   ]
  },
  {
   "cell_type": "code",
   "execution_count": 40,
   "metadata": {
    "collapsed": false
   },
   "outputs": [],
   "source": [
    "hash?"
   ]
  },
  {
   "cell_type": "code",
   "execution_count": 38,
   "metadata": {
    "collapsed": false
   },
   "outputs": [
    {
     "ename": "AttributeError",
     "evalue": "'NoneType' object has no attribute '_jvm'",
     "output_type": "error",
     "traceback": [
      "\u001b[0;31m---------------------------------------------------------------------------\u001b[0m",
      "\u001b[0;31mAttributeError\u001b[0m                            Traceback (most recent call last)",
      "\u001b[0;32m<ipython-input-38-f4c79c669619>\u001b[0m in \u001b[0;36m<module>\u001b[0;34m()\u001b[0m\n\u001b[1;32m      6\u001b[0m \u001b[0mnum_partitions\u001b[0m \u001b[0;34m=\u001b[0m \u001b[0;36m5\u001b[0m\u001b[0;34m\u001b[0m\u001b[0m\n\u001b[1;32m      7\u001b[0m \u001b[0;34m\u001b[0m\u001b[0m\n\u001b[0;32m----> 8\u001b[0;31m \u001b[0;32mprint\u001b[0m\u001b[0;34m(\u001b[0m\u001b[0mcountry_partitioner\u001b[0m\u001b[0;34m(\u001b[0m\u001b[0;34m\"Poland\"\u001b[0m\u001b[0;34m)\u001b[0m \u001b[0;34m%\u001b[0m \u001b[0mnum_partitions\u001b[0m\u001b[0;34m)\u001b[0m\u001b[0;34m\u001b[0m\u001b[0m\n\u001b[0m\u001b[1;32m      9\u001b[0m \u001b[0;32mprint\u001b[0m\u001b[0;34m(\u001b[0m\u001b[0mcountry_partitioner\u001b[0m\u001b[0;34m(\u001b[0m\u001b[0;34m\"Germany\"\u001b[0m\u001b[0;34m)\u001b[0m \u001b[0;34m%\u001b[0m \u001b[0mnum_partitions\u001b[0m\u001b[0;34m)\u001b[0m\u001b[0;34m\u001b[0m\u001b[0m\n\u001b[1;32m     10\u001b[0m \u001b[0;32mprint\u001b[0m\u001b[0;34m(\u001b[0m\u001b[0mcountry_partitioner\u001b[0m\u001b[0;34m(\u001b[0m\u001b[0;34m\"United Kingdom\"\u001b[0m\u001b[0;34m)\u001b[0m \u001b[0;34m%\u001b[0m \u001b[0mnum_partitions\u001b[0m\u001b[0;34m)\u001b[0m\u001b[0;34m\u001b[0m\u001b[0m\n",
      "\u001b[0;32m<ipython-input-38-f4c79c669619>\u001b[0m in \u001b[0;36mcountry_partitioner\u001b[0;34m(country)\u001b[0m\n\u001b[1;32m      1\u001b[0m \u001b[0;31m# ensure that data for each country is in one partition\u001b[0m\u001b[0;34m\u001b[0m\u001b[0;34m\u001b[0m\u001b[0m\n\u001b[1;32m      2\u001b[0m \u001b[0;32mdef\u001b[0m \u001b[0mcountry_partitioner\u001b[0m\u001b[0;34m(\u001b[0m\u001b[0mcountry\u001b[0m\u001b[0;34m)\u001b[0m\u001b[0;34m:\u001b[0m\u001b[0;34m\u001b[0m\u001b[0m\n\u001b[0;32m----> 3\u001b[0;31m     \u001b[0;32mreturn\u001b[0m \u001b[0mhash\u001b[0m\u001b[0;34m(\u001b[0m\u001b[0mcountry\u001b[0m\u001b[0;34m)\u001b[0m\u001b[0;34m\u001b[0m\u001b[0m\n\u001b[0m\u001b[1;32m      4\u001b[0m \u001b[0;34m\u001b[0m\u001b[0m\n\u001b[1;32m      5\u001b[0m \u001b[0;31m# Validate results\u001b[0m\u001b[0;34m\u001b[0m\u001b[0;34m\u001b[0m\u001b[0m\n",
      "\u001b[0;32m/Users/admin/anaconda/lib/python2.7/site-packages/pyspark/sql/functions.pyc\u001b[0m in \u001b[0;36mhash\u001b[0;34m(*cols)\u001b[0m\n\u001b[1;32m   1249\u001b[0m     \"\"\"\n\u001b[1;32m   1250\u001b[0m     \u001b[0msc\u001b[0m \u001b[0;34m=\u001b[0m \u001b[0mSparkContext\u001b[0m\u001b[0;34m.\u001b[0m\u001b[0m_active_spark_context\u001b[0m\u001b[0;34m\u001b[0m\u001b[0m\n\u001b[0;32m-> 1251\u001b[0;31m     \u001b[0mjc\u001b[0m \u001b[0;34m=\u001b[0m \u001b[0msc\u001b[0m\u001b[0;34m.\u001b[0m\u001b[0m_jvm\u001b[0m\u001b[0;34m.\u001b[0m\u001b[0mfunctions\u001b[0m\u001b[0;34m.\u001b[0m\u001b[0mhash\u001b[0m\u001b[0;34m(\u001b[0m\u001b[0m_to_seq\u001b[0m\u001b[0;34m(\u001b[0m\u001b[0msc\u001b[0m\u001b[0;34m,\u001b[0m \u001b[0mcols\u001b[0m\u001b[0;34m,\u001b[0m \u001b[0m_to_java_column\u001b[0m\u001b[0;34m)\u001b[0m\u001b[0;34m)\u001b[0m\u001b[0;34m\u001b[0m\u001b[0m\n\u001b[0m\u001b[1;32m   1252\u001b[0m     \u001b[0;32mreturn\u001b[0m \u001b[0mColumn\u001b[0m\u001b[0;34m(\u001b[0m\u001b[0mjc\u001b[0m\u001b[0;34m)\u001b[0m\u001b[0;34m\u001b[0m\u001b[0m\n\u001b[1;32m   1253\u001b[0m \u001b[0;34m\u001b[0m\u001b[0m\n",
      "\u001b[0;31mAttributeError\u001b[0m: 'NoneType' object has no attribute '_jvm'"
     ]
    }
   ],
   "source": [
    "# ensure that data for each country is in one partition\n",
    "def country_partitioner(country):\n",
    "    return hash(country)\n",
    " \n",
    "# Validate results to see what partitions are assigned for each country.\n",
    "num_partitions = 5\n",
    " \n",
    "print(country_partitioner(\"Poland\") % num_partitions)\n",
    "print(country_partitioner(\"Germany\") % num_partitions)\n",
    "print(country_partitioner(\"United Kingdom\") % num_partitions)"
   ]
  },
  {
   "cell_type": "code",
   "execution_count": 42,
   "metadata": {
    "collapsed": false
   },
   "outputs": [
    {
     "name": "stdout",
     "output_type": "stream",
     "text": [
      "Number of partitions: 4\n",
      "Partitioner: <pyspark.rdd.Partitioner object at 0x116cbf810>\n"
     ]
    },
    {
     "ename": "Py4JJavaError",
     "evalue": "An error occurred while calling z:org.apache.spark.api.python.PythonRDD.collectAndServe.\n: org.apache.spark.SparkException: Job aborted due to stage failure: Task 1 in stage 0.0 failed 1 times, most recent failure: Lost task 1.0 in stage 0.0 (TID 1, localhost, executor driver): org.apache.spark.api.python.PythonException: Traceback (most recent call last):\n  File \"/Users/admin/anaconda/lib/python2.7/site-packages/pyspark/python/lib/pyspark.zip/pyspark/worker.py\", line 177, in main\n    process()\n  File \"/Users/admin/anaconda/lib/python2.7/site-packages/pyspark/python/lib/pyspark.zip/pyspark/worker.py\", line 172, in process\n    serializer.dump_stream(func(split_index, iterator), outfile)\n  File \"/Users/admin/anaconda/lib/python2.7/site-packages/pyspark/python/lib/pyspark.zip/pyspark/serializers.py\", line 138, in dump_stream\n    for obj in iterator:\n  File \"/Users/admin/anaconda/lib/python2.7/site-packages/pyspark/rdd.py\", line 1753, in add_shuffle_key\n    buckets[partitionFunc(k) % numPartitions].append((k, v))\n  File \"<ipython-input-38-f4c79c669619>\", line 3, in country_partitioner\n  File \"/Users/admin/anaconda/lib/python2.7/site-packages/pyspark/python/lib/pyspark.zip/pyspark/sql/functions.py\", line 1251, in hash\n    jc = sc._jvm.functions.hash(_to_seq(sc, cols, _to_java_column))\nAttributeError: 'NoneType' object has no attribute '_jvm'\n\n\tat org.apache.spark.api.python.PythonRunner$$anon$1.read(PythonRDD.scala:193)\n\tat org.apache.spark.api.python.PythonRunner$$anon$1.<init>(PythonRDD.scala:234)\n\tat org.apache.spark.api.python.PythonRunner.compute(PythonRDD.scala:152)\n\tat org.apache.spark.api.python.PythonRDD.compute(PythonRDD.scala:63)\n\tat org.apache.spark.rdd.RDD.computeOrReadCheckpoint(RDD.scala:323)\n\tat org.apache.spark.rdd.RDD.iterator(RDD.scala:287)\n\tat org.apache.spark.api.python.PairwiseRDD.compute(PythonRDD.scala:395)\n\tat org.apache.spark.rdd.RDD.computeOrReadCheckpoint(RDD.scala:323)\n\tat org.apache.spark.rdd.RDD.iterator(RDD.scala:287)\n\tat org.apache.spark.scheduler.ShuffleMapTask.runTask(ShuffleMapTask.scala:96)\n\tat org.apache.spark.scheduler.ShuffleMapTask.runTask(ShuffleMapTask.scala:53)\n\tat org.apache.spark.scheduler.Task.run(Task.scala:108)\n\tat org.apache.spark.executor.Executor$TaskRunner.run(Executor.scala:335)\n\tat java.util.concurrent.ThreadPoolExecutor.runWorker(ThreadPoolExecutor.java:1149)\n\tat java.util.concurrent.ThreadPoolExecutor$Worker.run(ThreadPoolExecutor.java:624)\n\tat java.lang.Thread.run(Thread.java:748)\n\nDriver stacktrace:\n\tat org.apache.spark.scheduler.DAGScheduler.org$apache$spark$scheduler$DAGScheduler$$failJobAndIndependentStages(DAGScheduler.scala:1499)\n\tat org.apache.spark.scheduler.DAGScheduler$$anonfun$abortStage$1.apply(DAGScheduler.scala:1487)\n\tat org.apache.spark.scheduler.DAGScheduler$$anonfun$abortStage$1.apply(DAGScheduler.scala:1486)\n\tat scala.collection.mutable.ResizableArray$class.foreach(ResizableArray.scala:59)\n\tat scala.collection.mutable.ArrayBuffer.foreach(ArrayBuffer.scala:48)\n\tat org.apache.spark.scheduler.DAGScheduler.abortStage(DAGScheduler.scala:1486)\n\tat org.apache.spark.scheduler.DAGScheduler$$anonfun$handleTaskSetFailed$1.apply(DAGScheduler.scala:814)\n\tat org.apache.spark.scheduler.DAGScheduler$$anonfun$handleTaskSetFailed$1.apply(DAGScheduler.scala:814)\n\tat scala.Option.foreach(Option.scala:257)\n\tat org.apache.spark.scheduler.DAGScheduler.handleTaskSetFailed(DAGScheduler.scala:814)\n\tat org.apache.spark.scheduler.DAGSchedulerEventProcessLoop.doOnReceive(DAGScheduler.scala:1714)\n\tat org.apache.spark.scheduler.DAGSchedulerEventProcessLoop.onReceive(DAGScheduler.scala:1669)\n\tat org.apache.spark.scheduler.DAGSchedulerEventProcessLoop.onReceive(DAGScheduler.scala:1658)\n\tat org.apache.spark.util.EventLoop$$anon$1.run(EventLoop.scala:48)\n\tat org.apache.spark.scheduler.DAGScheduler.runJob(DAGScheduler.scala:630)\n\tat org.apache.spark.SparkContext.runJob(SparkContext.scala:2022)\n\tat org.apache.spark.SparkContext.runJob(SparkContext.scala:2043)\n\tat org.apache.spark.SparkContext.runJob(SparkContext.scala:2062)\n\tat org.apache.spark.SparkContext.runJob(SparkContext.scala:2087)\n\tat org.apache.spark.rdd.RDD$$anonfun$collect$1.apply(RDD.scala:936)\n\tat org.apache.spark.rdd.RDDOperationScope$.withScope(RDDOperationScope.scala:151)\n\tat org.apache.spark.rdd.RDDOperationScope$.withScope(RDDOperationScope.scala:112)\n\tat org.apache.spark.rdd.RDD.withScope(RDD.scala:362)\n\tat org.apache.spark.rdd.RDD.collect(RDD.scala:935)\n\tat org.apache.spark.api.python.PythonRDD$.collectAndServe(PythonRDD.scala:458)\n\tat org.apache.spark.api.python.PythonRDD.collectAndServe(PythonRDD.scala)\n\tat sun.reflect.NativeMethodAccessorImpl.invoke0(Native Method)\n\tat sun.reflect.NativeMethodAccessorImpl.invoke(NativeMethodAccessorImpl.java:62)\n\tat sun.reflect.DelegatingMethodAccessorImpl.invoke(DelegatingMethodAccessorImpl.java:43)\n\tat java.lang.reflect.Method.invoke(Method.java:498)\n\tat py4j.reflection.MethodInvoker.invoke(MethodInvoker.java:244)\n\tat py4j.reflection.ReflectionEngine.invoke(ReflectionEngine.java:357)\n\tat py4j.Gateway.invoke(Gateway.java:280)\n\tat py4j.commands.AbstractCommand.invokeMethod(AbstractCommand.java:132)\n\tat py4j.commands.CallCommand.execute(CallCommand.java:79)\n\tat py4j.GatewayConnection.run(GatewayConnection.java:214)\n\tat java.lang.Thread.run(Thread.java:748)\nCaused by: org.apache.spark.api.python.PythonException: Traceback (most recent call last):\n  File \"/Users/admin/anaconda/lib/python2.7/site-packages/pyspark/python/lib/pyspark.zip/pyspark/worker.py\", line 177, in main\n    process()\n  File \"/Users/admin/anaconda/lib/python2.7/site-packages/pyspark/python/lib/pyspark.zip/pyspark/worker.py\", line 172, in process\n    serializer.dump_stream(func(split_index, iterator), outfile)\n  File \"/Users/admin/anaconda/lib/python2.7/site-packages/pyspark/python/lib/pyspark.zip/pyspark/serializers.py\", line 138, in dump_stream\n    for obj in iterator:\n  File \"/Users/admin/anaconda/lib/python2.7/site-packages/pyspark/rdd.py\", line 1753, in add_shuffle_key\n    buckets[partitionFunc(k) % numPartitions].append((k, v))\n  File \"<ipython-input-38-f4c79c669619>\", line 3, in country_partitioner\n  File \"/Users/admin/anaconda/lib/python2.7/site-packages/pyspark/python/lib/pyspark.zip/pyspark/sql/functions.py\", line 1251, in hash\n    jc = sc._jvm.functions.hash(_to_seq(sc, cols, _to_java_column))\nAttributeError: 'NoneType' object has no attribute '_jvm'\n\n\tat org.apache.spark.api.python.PythonRunner$$anon$1.read(PythonRDD.scala:193)\n\tat org.apache.spark.api.python.PythonRunner$$anon$1.<init>(PythonRDD.scala:234)\n\tat org.apache.spark.api.python.PythonRunner.compute(PythonRDD.scala:152)\n\tat org.apache.spark.api.python.PythonRDD.compute(PythonRDD.scala:63)\n\tat org.apache.spark.rdd.RDD.computeOrReadCheckpoint(RDD.scala:323)\n\tat org.apache.spark.rdd.RDD.iterator(RDD.scala:287)\n\tat org.apache.spark.api.python.PairwiseRDD.compute(PythonRDD.scala:395)\n\tat org.apache.spark.rdd.RDD.computeOrReadCheckpoint(RDD.scala:323)\n\tat org.apache.spark.rdd.RDD.iterator(RDD.scala:287)\n\tat org.apache.spark.scheduler.ShuffleMapTask.runTask(ShuffleMapTask.scala:96)\n\tat org.apache.spark.scheduler.ShuffleMapTask.runTask(ShuffleMapTask.scala:53)\n\tat org.apache.spark.scheduler.Task.run(Task.scala:108)\n\tat org.apache.spark.executor.Executor$TaskRunner.run(Executor.scala:335)\n\tat java.util.concurrent.ThreadPoolExecutor.runWorker(ThreadPoolExecutor.java:1149)\n\tat java.util.concurrent.ThreadPoolExecutor$Worker.run(ThreadPoolExecutor.java:624)\n\t... 1 more\n",
     "output_type": "error",
     "traceback": [
      "\u001b[0;31m---------------------------------------------------------------------------\u001b[0m",
      "\u001b[0;31mPy4JJavaError\u001b[0m                             Traceback (most recent call last)",
      "\u001b[0;32m<ipython-input-42-8feded77fc63>\u001b[0m in \u001b[0;36m<module>\u001b[0;34m()\u001b[0m\n\u001b[1;32m      5\u001b[0m     \u001b[0;32mprint\u001b[0m\u001b[0;34m(\u001b[0m\u001b[0;34m\"Number of partitions: {}\"\u001b[0m\u001b[0;34m.\u001b[0m\u001b[0mformat\u001b[0m\u001b[0;34m(\u001b[0m\u001b[0mrdd\u001b[0m\u001b[0;34m.\u001b[0m\u001b[0mgetNumPartitions\u001b[0m\u001b[0;34m(\u001b[0m\u001b[0;34m)\u001b[0m\u001b[0;34m)\u001b[0m\u001b[0;34m)\u001b[0m\u001b[0;34m\u001b[0m\u001b[0m\n\u001b[1;32m      6\u001b[0m     \u001b[0;32mprint\u001b[0m\u001b[0;34m(\u001b[0m\u001b[0;34m\"Partitioner: {}\"\u001b[0m\u001b[0;34m.\u001b[0m\u001b[0mformat\u001b[0m\u001b[0;34m(\u001b[0m\u001b[0mrdd\u001b[0m\u001b[0;34m.\u001b[0m\u001b[0mpartitioner\u001b[0m\u001b[0;34m)\u001b[0m\u001b[0;34m)\u001b[0m\u001b[0;34m\u001b[0m\u001b[0m\n\u001b[0;32m----> 7\u001b[0;31m     \u001b[0;32mprint\u001b[0m\u001b[0;34m(\u001b[0m\u001b[0;34m\"Partitions structure: {}\"\u001b[0m\u001b[0;34m.\u001b[0m\u001b[0mformat\u001b[0m\u001b[0;34m(\u001b[0m\u001b[0mrdd\u001b[0m\u001b[0;34m.\u001b[0m\u001b[0mglom\u001b[0m\u001b[0;34m(\u001b[0m\u001b[0;34m)\u001b[0m\u001b[0;34m.\u001b[0m\u001b[0mcollect\u001b[0m\u001b[0;34m(\u001b[0m\u001b[0;34m)\u001b[0m\u001b[0;34m)\u001b[0m\u001b[0;34m)\u001b[0m\u001b[0;34m\u001b[0m\u001b[0m\n\u001b[0m",
      "\u001b[0;32m/Users/admin/anaconda/lib/python2.7/site-packages/pyspark/rdd.pyc\u001b[0m in \u001b[0;36mcollect\u001b[0;34m(self)\u001b[0m\n\u001b[1;32m    807\u001b[0m         \"\"\"\n\u001b[1;32m    808\u001b[0m         \u001b[0;32mwith\u001b[0m \u001b[0mSCCallSiteSync\u001b[0m\u001b[0;34m(\u001b[0m\u001b[0mself\u001b[0m\u001b[0;34m.\u001b[0m\u001b[0mcontext\u001b[0m\u001b[0;34m)\u001b[0m \u001b[0;32mas\u001b[0m \u001b[0mcss\u001b[0m\u001b[0;34m:\u001b[0m\u001b[0;34m\u001b[0m\u001b[0m\n\u001b[0;32m--> 809\u001b[0;31m             \u001b[0mport\u001b[0m \u001b[0;34m=\u001b[0m \u001b[0mself\u001b[0m\u001b[0;34m.\u001b[0m\u001b[0mctx\u001b[0m\u001b[0;34m.\u001b[0m\u001b[0m_jvm\u001b[0m\u001b[0;34m.\u001b[0m\u001b[0mPythonRDD\u001b[0m\u001b[0;34m.\u001b[0m\u001b[0mcollectAndServe\u001b[0m\u001b[0;34m(\u001b[0m\u001b[0mself\u001b[0m\u001b[0;34m.\u001b[0m\u001b[0m_jrdd\u001b[0m\u001b[0;34m.\u001b[0m\u001b[0mrdd\u001b[0m\u001b[0;34m(\u001b[0m\u001b[0;34m)\u001b[0m\u001b[0;34m)\u001b[0m\u001b[0;34m\u001b[0m\u001b[0m\n\u001b[0m\u001b[1;32m    810\u001b[0m         \u001b[0;32mreturn\u001b[0m \u001b[0mlist\u001b[0m\u001b[0;34m(\u001b[0m\u001b[0m_load_from_socket\u001b[0m\u001b[0;34m(\u001b[0m\u001b[0mport\u001b[0m\u001b[0;34m,\u001b[0m \u001b[0mself\u001b[0m\u001b[0;34m.\u001b[0m\u001b[0m_jrdd_deserializer\u001b[0m\u001b[0;34m)\u001b[0m\u001b[0;34m)\u001b[0m\u001b[0;34m\u001b[0m\u001b[0m\n\u001b[1;32m    811\u001b[0m \u001b[0;34m\u001b[0m\u001b[0m\n",
      "\u001b[0;32m/Users/admin/anaconda/lib/python2.7/site-packages/pyspark/python/lib/py4j-0.10.4-src.zip/py4j/java_gateway.py\u001b[0m in \u001b[0;36m__call__\u001b[0;34m(self, *args)\u001b[0m\n\u001b[1;32m   1131\u001b[0m         \u001b[0manswer\u001b[0m \u001b[0;34m=\u001b[0m \u001b[0mself\u001b[0m\u001b[0;34m.\u001b[0m\u001b[0mgateway_client\u001b[0m\u001b[0;34m.\u001b[0m\u001b[0msend_command\u001b[0m\u001b[0;34m(\u001b[0m\u001b[0mcommand\u001b[0m\u001b[0;34m)\u001b[0m\u001b[0;34m\u001b[0m\u001b[0m\n\u001b[1;32m   1132\u001b[0m         return_value = get_return_value(\n\u001b[0;32m-> 1133\u001b[0;31m             answer, self.gateway_client, self.target_id, self.name)\n\u001b[0m\u001b[1;32m   1134\u001b[0m \u001b[0;34m\u001b[0m\u001b[0m\n\u001b[1;32m   1135\u001b[0m         \u001b[0;32mfor\u001b[0m \u001b[0mtemp_arg\u001b[0m \u001b[0;32min\u001b[0m \u001b[0mtemp_args\u001b[0m\u001b[0;34m:\u001b[0m\u001b[0;34m\u001b[0m\u001b[0m\n",
      "\u001b[0;32m/Users/admin/anaconda/lib/python2.7/site-packages/pyspark/sql/utils.pyc\u001b[0m in \u001b[0;36mdeco\u001b[0;34m(*a, **kw)\u001b[0m\n\u001b[1;32m     61\u001b[0m     \u001b[0;32mdef\u001b[0m \u001b[0mdeco\u001b[0m\u001b[0;34m(\u001b[0m\u001b[0;34m*\u001b[0m\u001b[0ma\u001b[0m\u001b[0;34m,\u001b[0m \u001b[0;34m**\u001b[0m\u001b[0mkw\u001b[0m\u001b[0;34m)\u001b[0m\u001b[0;34m:\u001b[0m\u001b[0;34m\u001b[0m\u001b[0m\n\u001b[1;32m     62\u001b[0m         \u001b[0;32mtry\u001b[0m\u001b[0;34m:\u001b[0m\u001b[0;34m\u001b[0m\u001b[0m\n\u001b[0;32m---> 63\u001b[0;31m             \u001b[0;32mreturn\u001b[0m \u001b[0mf\u001b[0m\u001b[0;34m(\u001b[0m\u001b[0;34m*\u001b[0m\u001b[0ma\u001b[0m\u001b[0;34m,\u001b[0m \u001b[0;34m**\u001b[0m\u001b[0mkw\u001b[0m\u001b[0;34m)\u001b[0m\u001b[0;34m\u001b[0m\u001b[0m\n\u001b[0m\u001b[1;32m     64\u001b[0m         \u001b[0;32mexcept\u001b[0m \u001b[0mpy4j\u001b[0m\u001b[0;34m.\u001b[0m\u001b[0mprotocol\u001b[0m\u001b[0;34m.\u001b[0m\u001b[0mPy4JJavaError\u001b[0m \u001b[0;32mas\u001b[0m \u001b[0me\u001b[0m\u001b[0;34m:\u001b[0m\u001b[0;34m\u001b[0m\u001b[0m\n\u001b[1;32m     65\u001b[0m             \u001b[0ms\u001b[0m \u001b[0;34m=\u001b[0m \u001b[0me\u001b[0m\u001b[0;34m.\u001b[0m\u001b[0mjava_exception\u001b[0m\u001b[0;34m.\u001b[0m\u001b[0mtoString\u001b[0m\u001b[0;34m(\u001b[0m\u001b[0;34m)\u001b[0m\u001b[0;34m\u001b[0m\u001b[0m\n",
      "\u001b[0;32m/Users/admin/anaconda/lib/python2.7/site-packages/pyspark/python/lib/py4j-0.10.4-src.zip/py4j/protocol.py\u001b[0m in \u001b[0;36mget_return_value\u001b[0;34m(answer, gateway_client, target_id, name)\u001b[0m\n\u001b[1;32m    317\u001b[0m                 raise Py4JJavaError(\n\u001b[1;32m    318\u001b[0m                     \u001b[0;34m\"An error occurred while calling {0}{1}{2}.\\n\"\u001b[0m\u001b[0;34m.\u001b[0m\u001b[0;34m\u001b[0m\u001b[0m\n\u001b[0;32m--> 319\u001b[0;31m                     format(target_id, \".\", name), value)\n\u001b[0m\u001b[1;32m    320\u001b[0m             \u001b[0;32melse\u001b[0m\u001b[0;34m:\u001b[0m\u001b[0;34m\u001b[0m\u001b[0m\n\u001b[1;32m    321\u001b[0m                 raise Py4JError(\n",
      "\u001b[0;31mPy4JJavaError\u001b[0m: An error occurred while calling z:org.apache.spark.api.python.PythonRDD.collectAndServe.\n: org.apache.spark.SparkException: Job aborted due to stage failure: Task 1 in stage 0.0 failed 1 times, most recent failure: Lost task 1.0 in stage 0.0 (TID 1, localhost, executor driver): org.apache.spark.api.python.PythonException: Traceback (most recent call last):\n  File \"/Users/admin/anaconda/lib/python2.7/site-packages/pyspark/python/lib/pyspark.zip/pyspark/worker.py\", line 177, in main\n    process()\n  File \"/Users/admin/anaconda/lib/python2.7/site-packages/pyspark/python/lib/pyspark.zip/pyspark/worker.py\", line 172, in process\n    serializer.dump_stream(func(split_index, iterator), outfile)\n  File \"/Users/admin/anaconda/lib/python2.7/site-packages/pyspark/python/lib/pyspark.zip/pyspark/serializers.py\", line 138, in dump_stream\n    for obj in iterator:\n  File \"/Users/admin/anaconda/lib/python2.7/site-packages/pyspark/rdd.py\", line 1753, in add_shuffle_key\n    buckets[partitionFunc(k) % numPartitions].append((k, v))\n  File \"<ipython-input-38-f4c79c669619>\", line 3, in country_partitioner\n  File \"/Users/admin/anaconda/lib/python2.7/site-packages/pyspark/python/lib/pyspark.zip/pyspark/sql/functions.py\", line 1251, in hash\n    jc = sc._jvm.functions.hash(_to_seq(sc, cols, _to_java_column))\nAttributeError: 'NoneType' object has no attribute '_jvm'\n\n\tat org.apache.spark.api.python.PythonRunner$$anon$1.read(PythonRDD.scala:193)\n\tat org.apache.spark.api.python.PythonRunner$$anon$1.<init>(PythonRDD.scala:234)\n\tat org.apache.spark.api.python.PythonRunner.compute(PythonRDD.scala:152)\n\tat org.apache.spark.api.python.PythonRDD.compute(PythonRDD.scala:63)\n\tat org.apache.spark.rdd.RDD.computeOrReadCheckpoint(RDD.scala:323)\n\tat org.apache.spark.rdd.RDD.iterator(RDD.scala:287)\n\tat org.apache.spark.api.python.PairwiseRDD.compute(PythonRDD.scala:395)\n\tat org.apache.spark.rdd.RDD.computeOrReadCheckpoint(RDD.scala:323)\n\tat org.apache.spark.rdd.RDD.iterator(RDD.scala:287)\n\tat org.apache.spark.scheduler.ShuffleMapTask.runTask(ShuffleMapTask.scala:96)\n\tat org.apache.spark.scheduler.ShuffleMapTask.runTask(ShuffleMapTask.scala:53)\n\tat org.apache.spark.scheduler.Task.run(Task.scala:108)\n\tat org.apache.spark.executor.Executor$TaskRunner.run(Executor.scala:335)\n\tat java.util.concurrent.ThreadPoolExecutor.runWorker(ThreadPoolExecutor.java:1149)\n\tat java.util.concurrent.ThreadPoolExecutor$Worker.run(ThreadPoolExecutor.java:624)\n\tat java.lang.Thread.run(Thread.java:748)\n\nDriver stacktrace:\n\tat org.apache.spark.scheduler.DAGScheduler.org$apache$spark$scheduler$DAGScheduler$$failJobAndIndependentStages(DAGScheduler.scala:1499)\n\tat org.apache.spark.scheduler.DAGScheduler$$anonfun$abortStage$1.apply(DAGScheduler.scala:1487)\n\tat org.apache.spark.scheduler.DAGScheduler$$anonfun$abortStage$1.apply(DAGScheduler.scala:1486)\n\tat scala.collection.mutable.ResizableArray$class.foreach(ResizableArray.scala:59)\n\tat scala.collection.mutable.ArrayBuffer.foreach(ArrayBuffer.scala:48)\n\tat org.apache.spark.scheduler.DAGScheduler.abortStage(DAGScheduler.scala:1486)\n\tat org.apache.spark.scheduler.DAGScheduler$$anonfun$handleTaskSetFailed$1.apply(DAGScheduler.scala:814)\n\tat org.apache.spark.scheduler.DAGScheduler$$anonfun$handleTaskSetFailed$1.apply(DAGScheduler.scala:814)\n\tat scala.Option.foreach(Option.scala:257)\n\tat org.apache.spark.scheduler.DAGScheduler.handleTaskSetFailed(DAGScheduler.scala:814)\n\tat org.apache.spark.scheduler.DAGSchedulerEventProcessLoop.doOnReceive(DAGScheduler.scala:1714)\n\tat org.apache.spark.scheduler.DAGSchedulerEventProcessLoop.onReceive(DAGScheduler.scala:1669)\n\tat org.apache.spark.scheduler.DAGSchedulerEventProcessLoop.onReceive(DAGScheduler.scala:1658)\n\tat org.apache.spark.util.EventLoop$$anon$1.run(EventLoop.scala:48)\n\tat org.apache.spark.scheduler.DAGScheduler.runJob(DAGScheduler.scala:630)\n\tat org.apache.spark.SparkContext.runJob(SparkContext.scala:2022)\n\tat org.apache.spark.SparkContext.runJob(SparkContext.scala:2043)\n\tat org.apache.spark.SparkContext.runJob(SparkContext.scala:2062)\n\tat org.apache.spark.SparkContext.runJob(SparkContext.scala:2087)\n\tat org.apache.spark.rdd.RDD$$anonfun$collect$1.apply(RDD.scala:936)\n\tat org.apache.spark.rdd.RDDOperationScope$.withScope(RDDOperationScope.scala:151)\n\tat org.apache.spark.rdd.RDDOperationScope$.withScope(RDDOperationScope.scala:112)\n\tat org.apache.spark.rdd.RDD.withScope(RDD.scala:362)\n\tat org.apache.spark.rdd.RDD.collect(RDD.scala:935)\n\tat org.apache.spark.api.python.PythonRDD$.collectAndServe(PythonRDD.scala:458)\n\tat org.apache.spark.api.python.PythonRDD.collectAndServe(PythonRDD.scala)\n\tat sun.reflect.NativeMethodAccessorImpl.invoke0(Native Method)\n\tat sun.reflect.NativeMethodAccessorImpl.invoke(NativeMethodAccessorImpl.java:62)\n\tat sun.reflect.DelegatingMethodAccessorImpl.invoke(DelegatingMethodAccessorImpl.java:43)\n\tat java.lang.reflect.Method.invoke(Method.java:498)\n\tat py4j.reflection.MethodInvoker.invoke(MethodInvoker.java:244)\n\tat py4j.reflection.ReflectionEngine.invoke(ReflectionEngine.java:357)\n\tat py4j.Gateway.invoke(Gateway.java:280)\n\tat py4j.commands.AbstractCommand.invokeMethod(AbstractCommand.java:132)\n\tat py4j.commands.CallCommand.execute(CallCommand.java:79)\n\tat py4j.GatewayConnection.run(GatewayConnection.java:214)\n\tat java.lang.Thread.run(Thread.java:748)\nCaused by: org.apache.spark.api.python.PythonException: Traceback (most recent call last):\n  File \"/Users/admin/anaconda/lib/python2.7/site-packages/pyspark/python/lib/pyspark.zip/pyspark/worker.py\", line 177, in main\n    process()\n  File \"/Users/admin/anaconda/lib/python2.7/site-packages/pyspark/python/lib/pyspark.zip/pyspark/worker.py\", line 172, in process\n    serializer.dump_stream(func(split_index, iterator), outfile)\n  File \"/Users/admin/anaconda/lib/python2.7/site-packages/pyspark/python/lib/pyspark.zip/pyspark/serializers.py\", line 138, in dump_stream\n    for obj in iterator:\n  File \"/Users/admin/anaconda/lib/python2.7/site-packages/pyspark/rdd.py\", line 1753, in add_shuffle_key\n    buckets[partitionFunc(k) % numPartitions].append((k, v))\n  File \"<ipython-input-38-f4c79c669619>\", line 3, in country_partitioner\n  File \"/Users/admin/anaconda/lib/python2.7/site-packages/pyspark/python/lib/pyspark.zip/pyspark/sql/functions.py\", line 1251, in hash\n    jc = sc._jvm.functions.hash(_to_seq(sc, cols, _to_java_column))\nAttributeError: 'NoneType' object has no attribute '_jvm'\n\n\tat org.apache.spark.api.python.PythonRunner$$anon$1.read(PythonRDD.scala:193)\n\tat org.apache.spark.api.python.PythonRunner$$anon$1.<init>(PythonRDD.scala:234)\n\tat org.apache.spark.api.python.PythonRunner.compute(PythonRDD.scala:152)\n\tat org.apache.spark.api.python.PythonRDD.compute(PythonRDD.scala:63)\n\tat org.apache.spark.rdd.RDD.computeOrReadCheckpoint(RDD.scala:323)\n\tat org.apache.spark.rdd.RDD.iterator(RDD.scala:287)\n\tat org.apache.spark.api.python.PairwiseRDD.compute(PythonRDD.scala:395)\n\tat org.apache.spark.rdd.RDD.computeOrReadCheckpoint(RDD.scala:323)\n\tat org.apache.spark.rdd.RDD.iterator(RDD.scala:287)\n\tat org.apache.spark.scheduler.ShuffleMapTask.runTask(ShuffleMapTask.scala:96)\n\tat org.apache.spark.scheduler.ShuffleMapTask.runTask(ShuffleMapTask.scala:53)\n\tat org.apache.spark.scheduler.Task.run(Task.scala:108)\n\tat org.apache.spark.executor.Executor$TaskRunner.run(Executor.scala:335)\n\tat java.util.concurrent.ThreadPoolExecutor.runWorker(ThreadPoolExecutor.java:1149)\n\tat java.util.concurrent.ThreadPoolExecutor$Worker.run(ThreadPoolExecutor.java:624)\n\t... 1 more\n"
     ]
    }
   ],
   "source": [
    "\n",
    "with SparkContext(\"local[2]\") as sc:\n",
    "    rdd = sc.parallelize(transactions) \\\n",
    "        .map(lambda el: (el['country'], el)) \\\n",
    "        .partitionBy(4, country_partitioner)\n",
    "    \n",
    "    print(\"Number of partitions: {}\".format(rdd.getNumPartitions()))\n",
    "    print(\"Partitioner: {}\".format(rdd.partitioner))\n",
    "    print(\"Partitions structure: {}\".format(rdd.glom().collect()))"
   ]
  },
  {
   "cell_type": "markdown",
   "metadata": {},
   "source": [
    "### some errors to look into later.."
   ]
  },
  {
   "cell_type": "markdown",
   "metadata": {},
   "source": [
    " ------------------------------------------------------\n",
    " *** side question *** \n",
    " \n",
    "While running stuff in notebook, the following appears in the terminal:   \n",
    "[W 22:25:09.065 NotebookApp] Timeout waiting for kernel_info reply from 5e476d4b-3c33-4eee-839b-e3173fda7970\n",
    "\n",
    "17/11/04 22:25:39 WARN metastore.ObjectStore: Failed to get database global_temp, returning NoSuchObjectException\n",
    "\n",
    "[Stage 6:=================>                                      (47 + 2) / 150][I 22:26:45.828 NotebookApp] Saving file at /CostlyFunctions.ipynb\n",
    "\n",
    "[Stage 9:>                                                          (0 + 2) / 2][I 22:27:00.840 NotebookApp] Saving file at /CostlyFunctions.ipynb\n",
    "\n",
    "17/11/04 22:27:03 WARN util.Utils: Truncated the string representation of a plan since it was too large. This behavior can be adjusted by setting 'spark.debug.maxToStringFields' in SparkEnv.conf.\n",
    "\n",
    "**what are the stages???? and what do they mean??**"
   ]
  },
  {
   "cell_type": "code",
   "execution_count": null,
   "metadata": {
    "collapsed": true
   },
   "outputs": [],
   "source": []
  },
  {
   "cell_type": "code",
   "execution_count": null,
   "metadata": {
    "collapsed": true
   },
   "outputs": [],
   "source": []
  }
 ],
 "metadata": {
  "kernelspec": {
   "display_name": "Python 2",
   "language": "python",
   "name": "python2"
  },
  "language_info": {
   "codemirror_mode": {
    "name": "ipython",
    "version": 2
   },
   "file_extension": ".py",
   "mimetype": "text/x-python",
   "name": "python",
   "nbconvert_exporter": "python",
   "pygments_lexer": "ipython2",
   "version": "2.7.12"
  }
 },
 "nbformat": 4,
 "nbformat_minor": 0
}
